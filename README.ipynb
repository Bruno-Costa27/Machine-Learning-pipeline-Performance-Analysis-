{
 "cells": [
  {
   "cell_type": "markdown",
   "id": "6fee0962-4120-4340-b5c2-3bd1a3b7f50f",
   "metadata": {},
   "source": [
    "# Estudo e Análise do Dataset de Corridas de Táxi de 2009\n",
    "\n",
    "Este repositório reúne uma série de notebooks que exploram, comparam e analisam diferentes bibliotecas para processamento de dados e criação de modelos de machine learning, utilizando o dataset de corridas de táxi de 2009. O objetivo principal é avaliar a performance das bibliotecas em várias operações e construir pipelines para prever o valor da tarifa (`fare_amt`).\n",
    "\n",
    "---\n",
    "\n",
    "## Notebooks\n",
    "\n",
    "1. **koalas_dask**  \n",
    "   - **Objetivo:** Apresentar e comparar as bibliotecas Dask e Koalas.  \n",
    "   - **Descrição:** Introdução ao dataset e execução de benchmarks em três amostras diferentes, com análise detalhada via cProfile.  \n",
    "   - **Ambiente:** Máquina Virtual na GCP.\n",
    "\n",
    "2. **modin_joblib**  \n",
    "   - **Objetivo:** Estudo usando Modin + Dask e Joblib.  \n",
    "   - **Descrição:** Benchmarks em três amostras (1, 2 e 3 meses), com análise de eficiência por cProfile.  \n",
    "   - **Ambiente:** Máquina Virtual na GCP.\n",
    "\n",
    "3. **conclusions**  \n",
    "   - **Objetivo:** Comparar o desempenho das bibliotecas estudadas.  \n",
    "   - **Descrição:** Comparação entre Dask, Koalas, Modin e Joblib com benchmarks e análise cProfile.  \n",
    "   - **Ambiente:** Máquina Virtual na GCP.\n",
    "\n",
    "4. **machine_learning**  \n",
    "   - **Objetivo:** Construção de pipelines para previsão do valor da tarifa (`fare_amt`).  \n",
    "   - **Descrição:** Inclui pré-processamento, treinamento e avaliação de modelos.  \n",
    "   - **Ambiente:** Máquina Virtual na GCP.\n",
    "\n",
    "---\n",
    "\n",
    "## Ambiente de Execução\n",
    "\n",
    "- **Máquina Virtual (VM):** Usada para os notebooks `koalas_dask`, `modin_joblib`, `conclusions` e `machine_learning`.  \n",
    "\n",
    "---\n",
    "\n",
    "\n",
    "## Ordem Recomendada para Leitura\n",
    "\n",
    "Sugere-se a seguinte sequência para melhor compreensão:  \n",
    "`koalas_dask` → `modin_joblib` → `conclusions` → `machine_learning`.\n",
    "\n",
    "---\n",
    "\n",
    "\n",
    "\n"
   ]
  }
 ],
 "metadata": {
  "environment": {
   "kernel": "python3",
   "name": "common-cpu.m129",
   "type": "gcloud",
   "uri": "us-docker.pkg.dev/deeplearning-platform-release/gcr.io/base-cpu:m129"
  },
  "kernelspec": {
   "display_name": "Python 3",
   "language": "python",
   "name": "python3"
  },
  "language_info": {
   "codemirror_mode": {
    "name": "ipython",
    "version": 3
   },
   "file_extension": ".py",
   "mimetype": "text/x-python",
   "name": "python",
   "nbconvert_exporter": "python",
   "pygments_lexer": "ipython3",
   "version": "3.10.17"
  }
 },
 "nbformat": 4,
 "nbformat_minor": 5
}
