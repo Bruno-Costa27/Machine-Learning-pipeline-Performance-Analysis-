{
 "cells": [
  {
   "cell_type": "markdown",
   "id": "be753e82-0596-4863-b0ff-6656a387f964",
   "metadata": {
    "tags": []
   },
   "source": [
    "## Ciência de Dados em Larga Escala  \n",
    "### Trabalho Prático - Performance Analysis  \n",
    "## Bruno Costa e José Santos\n",
    "# Grupo Z\n",
    "\n",
    "---\n",
    "\n",
    "##  Sumário  \n",
    "- Apresentação breve do trabalho e das bibliotecas estudadas (PySpark, Dask, Modin, JobLib e Koalas).  \n",
    "- Descrição dos materiais e métodos usados para realizar os experimentos.  \n",
    "- Comparação entre as bibliotecas Dask e Koalas (PySpark).  \n",
    "- Ajuste do estudo para trabalhar com datasets contendo 2 e 3 arquivos no formato Parquet.  \n",
    "\n",
    "---\n",
    "\n",
    "## Introdução  \n",
    "No universo de big data e machine learning, a escolha correta das bibliotecas é fundamental para garantir eficiência e boa performance nas pipelines de processamento. O objetivo deste trabalho é explorar e comparar várias bibliotecas Python amplamente usadas para manipular grandes volumes de dados e executar tarefas de machine learning.\n",
    "\n",
    "**PySpark** é uma interface Python para o Apache Spark, um framework para computação distribuída que permite processamento paralelo em clusters, facilitando operações como leitura, agregação e transformação de grandes conjuntos de dados. Suas vantagens principais são a escalabilidade e eficiência em ambientes distribuídos, sendo amplamente empregado para processamento em larga escala, ETL e análises em tempo real.\n",
    "\n",
    "**Dask** é uma biblioteca Python que habilita paralelismo e processamento distribuído, estendendo as funcionalidades do pandas para trabalhar com dados que não cabem na memória. Ela permite operações paralelas e distribuídas e é valorizada pela interface familiar aos usuários do pandas, além de sua escalabilidade e integração com outras ferramentas de big data. Dask é bastante utilizado para processamento, análise e machine learning em grandes conjuntos de dados.\n",
    "\n",
    "**Koalas** fornece uma API semelhante à do pandas, porém para Apache Spark, facilitando a migração de código pandas para ambientes distribuídos com poucas alterações. Suas vantagens incluem a facilidade na transição para Spark e a capacidade de usar operações pandas em escala distribuída, sendo útil para manipulação de dados em larga escala com a familiaridade do pandas, porém no Spark.\n",
    "\n",
    "O foco deste trabalho é identificar os gargalos de performance das diferentes bibliotecas, analisar as diferenças em suas sintaxes e definir quais operações são mais adequadas para cada uma delas, além de familiarizar-se com as funcionalidades suportadas por pandas, scikit-learn e numpy. Para isso, foi repetido o estudo comparativo entre Koalas (PySpark) e Dask, utilizando o dataset NYC Taxi Driver, avaliando o tempo de execução de diversas operações. Posteriormente, o estudo foi ampliado para incluir Modin, JobLib e RapidsAI, usando o mesmo dataset, com expansão para dois e três arquivos Parquet.\n",
    "\n",
    "\n",
    "---\n",
    "\n",
    "## Materiais e Métodos  \n",
    "Para executar o projeto, foram usados recursos da Google Cloud Platform (GCP). Foi criada uma máquina virtual (VM) e um cluster de VMs para a realização das análises. A configuração do cluster assemelha-se a uma instância i3.4xlarge da AWS, e a VM foi configurada similarmente a uma i3.16xlarge. Esses recursos foram alocados conforme os créditos disponíveis.\n",
    "\n",
    "A VM usada é uma instância n1-standart-8 com 8 vCPUs baseadas na arquitetura AMD Milan, 32 GB de RAM e disco persistente balanceado de 500 GB, rodando Ubuntu 20.04 LTS.\n",
    "\n",
    "Foi utilizado o conjunto de dados “TLC Trip Record Data” da Comissão de Táxi e Limusine de Nova York (TLC), que registra viagens de táxis amarelos, verdes e veículos para contratação (\"For-Hire Vehicle\" - FHV). Os dados contêm informações como fornecedor, data e hora da viagem, número de passageiros, distância, coordenadas de início e fim, código de tarifa, tipo de pagamento, valores de tarifa, taxas e gorjetas.\n",
    "\n",
    "Durante o download, foram obtidos arquivos mensais de 2009 a 2011 no formato Parquet.\n",
    "\n",
    "---\n",
    "\n",
    "## Download do Dataset  \n",
    "Foram baixados arquivos em formato Parquet referentes a viagens de táxi entre janeiro de 2009 e dezembro de 2010, seguindo os passos abaixo:\n",
    "\n",
    "- Construção de URLs e mapeamento dos locais de armazenamento dos arquivos;  \n",
    "- Criação do diretório local para armazenar os arquivos, garantindo que exista;  \n",
    "- Download de todos os arquivos listados, salvando-os no diretório designado.\n",
    "\n"
   ]
  },
  {
   "cell_type": "code",
   "execution_count": 1,
   "id": "21b6a774-ffc6-4d47-b0e7-25ad584a1195",
   "metadata": {
    "tags": []
   },
   "outputs": [
    {
     "name": "stdout",
     "output_type": "stream",
     "text": [
      "Downloaded Ficheiros/taxi_csv/yellow_tripdata_2009-01.parquet\n",
      "Downloaded Ficheiros/taxi_csv/yellow_tripdata_2009-02.parquet\n",
      "Downloaded Ficheiros/taxi_csv/yellow_tripdata_2009-03.parquet\n",
      "Downloaded Ficheiros/taxi_csv/yellow_tripdata_2009-04.parquet\n",
      "Downloaded Ficheiros/taxi_csv/yellow_tripdata_2009-05.parquet\n",
      "Downloaded Ficheiros/taxi_csv/yellow_tripdata_2009-06.parquet\n",
      "Downloaded Ficheiros/taxi_csv/yellow_tripdata_2009-07.parquet\n",
      "Downloaded Ficheiros/taxi_csv/yellow_tripdata_2009-08.parquet\n",
      "Downloaded Ficheiros/taxi_csv/yellow_tripdata_2009-09.parquet\n",
      "Downloaded Ficheiros/taxi_csv/yellow_tripdata_2009-10.parquet\n",
      "Downloaded Ficheiros/taxi_csv/yellow_tripdata_2009-11.parquet\n",
      "Downloaded Ficheiros/taxi_csv/yellow_tripdata_2009-12.parquet\n",
      "Downloaded Ficheiros/taxi_csv/yellow_tripdata_2010-01.parquet\n",
      "Downloaded Ficheiros/taxi_csv/yellow_tripdata_2010-02.parquet\n",
      "Downloaded Ficheiros/taxi_csv/yellow_tripdata_2010-03.parquet\n",
      "Downloaded Ficheiros/taxi_csv/yellow_tripdata_2010-04.parquet\n",
      "Downloaded Ficheiros/taxi_csv/yellow_tripdata_2010-05.parquet\n",
      "Downloaded Ficheiros/taxi_csv/yellow_tripdata_2010-06.parquet\n",
      "Downloaded Ficheiros/taxi_csv/yellow_tripdata_2010-07.parquet\n",
      "Downloaded Ficheiros/taxi_csv/yellow_tripdata_2010-08.parquet\n",
      "Downloaded Ficheiros/taxi_csv/yellow_tripdata_2010-09.parquet\n",
      "Downloaded Ficheiros/taxi_csv/yellow_tripdata_2010-10.parquet\n",
      "Downloaded Ficheiros/taxi_csv/yellow_tripdata_2010-11.parquet\n",
      "Downloaded Ficheiros/taxi_csv/yellow_tripdata_2010-12.parquet\n"
     ]
    }
   ],
   "source": [
    "import os\n",
    "import requests\n",
    "url_loc = {} \n",
    "for year in range(2009, 2011):\n",
    "    for m in range(1, 13):\n",
    "        month = \"{:02d}\".format(m)\n",
    "        fname = 'yellow_tripdata_%s-%s.parquet' % (year, month)\n",
    "        url = 'https://d37ci6vzurychx.cloudfront.net/trip-data/%s' % fname\n",
    "        loc = 'Ficheiros/taxi_csv/%s' % fname\n",
    "        url_loc[url] = loc\n",
    "download_dir = 'Ficheiros/taxi_csv'\n",
    "os.makedirs(download_dir, exist_ok=True)\n",
    "for url, loc in url_loc.items():\n",
    "    file_path = os.path.join(download_dir, os.path.basename(loc))\n",
    "    response = requests.get(url)\n",
    "    if response.status_code == 200:\n",
    "        with open(file_path, 'wb') as f:\n",
    "            f.write(response.content)\n",
    "        print(f\"Downloaded {file_path}\")"
   ]
  },
  {
   "cell_type": "markdown",
   "id": "1db705ff-9859-4821-b28a-39668e1eddf2",
   "metadata": {},
   "source": [
    "* Sessao Spark"
   ]
  },
  {
   "cell_type": "code",
   "execution_count": 2,
   "id": "dc3dd80e-9242-4269-9a57-6b01ef614fef",
   "metadata": {
    "tags": []
   },
   "outputs": [
    {
     "name": "stderr",
     "output_type": "stream",
     "text": [
      "Setting default log level to \"WARN\".\n",
      "To adjust logging level use sc.setLogLevel(newLevel). For SparkR, use setLogLevel(newLevel).\n",
      "25/06/03 19:50:27 WARN NativeCodeLoader: Unable to load native-hadoop library for your platform... using builtin-java classes where applicable\n"
     ]
    },
    {
     "name": "stdout",
     "output_type": "stream",
     "text": [
      "spark.databricks.io.cache.enabled is false\n"
     ]
    }
   ],
   "source": [
    "from pyspark.sql import SparkSession\n",
    "spark = SparkSession.builder \\\n",
    "    .appName(\"project\") \\\n",
    "    .getOrCreate()\n",
    "spark.conf.set(\"spark.databricks.io.cache.enabled\", \"false\")\n",
    "print(\"spark.databricks.io.cache.enabled is %s\" % spark.conf.get(\"spark.databricks.io.cache.enabled\"))"
   ]
  },
  {
   "cell_type": "code",
   "execution_count": 2,
   "id": "3d813ca6-63d8-4f00-bf1b-4485db86fda1",
   "metadata": {
    "tags": []
   },
   "outputs": [],
   "source": [
    "import pandas as pd\n",
    "import pyspark\n",
    "import pyarrow\n",
    "import numpy as np\n"
   ]
  },
  {
   "cell_type": "code",
   "execution_count": 3,
   "id": "efa7a3a7-e618-4a4a-9687-62ccb34d31af",
   "metadata": {
    "tags": []
   },
   "outputs": [],
   "source": [
    "import time\n",
    "from dask.distributed import Client, LocalCluster\n",
    "import dask.dataframe as dd"
   ]
  },
  {
   "cell_type": "code",
   "execution_count": 4,
   "id": "2c2934e2-0e32-416b-953a-88c4644825a0",
   "metadata": {
    "tags": []
   },
   "outputs": [
    {
     "name": "stderr",
     "output_type": "stream",
     "text": [
      "/opt/conda/lib/python3.10/site-packages/pyspark/pandas/__init__.py:50: UserWarning: 'PYARROW_IGNORE_TIMEZONE' environment variable was not set. It is required to set this environment variable to '1' in both driver and executor sides if you use pyarrow>=2.0.0. pandas-on-Spark will set it for you but it does not work if there is a Spark context already launched.\n",
      "  warnings.warn(\n"
     ]
    }
   ],
   "source": [
    "import pyspark.pandas as ks"
   ]
  },
  {
   "cell_type": "markdown",
   "id": "1a9f9fcf-f5ab-4b8c-8a23-fab3275a3a8b",
   "metadata": {
    "tags": []
   },
   "source": [
    "# Definição das Funções de Benchmark: mede a duração da execução de uma função e armazena os resultados"
   ]
  },
  {
   "cell_type": "code",
   "execution_count": 10,
   "id": "1d064b9b-550a-402e-a633-da41153af59a",
   "metadata": {
    "tags": []
   },
   "outputs": [],
   "source": [
    "def benchmark(f, df, benchmarks, name, **kwargs):\n",
    "    start_time = time.time()\n",
    "    ret = f(df, **kwargs)\n",
    "    benchmarks['duration'].append(time.time() - start_time)\n",
    "    benchmarks['task'].append(name)\n",
    "    print(f\"{name} took: {benchmarks['duration'][-1]} seconds\")\n",
    "    return benchmarks['duration'][-1]\n",
    " \n",
    "def get_results(benchmarks):\n",
    "    return pd.DataFrame.from_dict(benchmarks)"
   ]
  },
  {
   "cell_type": "markdown",
   "id": "86aa266a-5a3c-4c0b-90d1-5ad0905c2497",
   "metadata": {},
   "source": [
    "## Dask \n",
    "\n",
    "Inicialização e Carregamento de Dados"
   ]
  },
  {
   "cell_type": "code",
   "execution_count": 7,
   "id": "f2758b1b-3176-41f4-9109-ce1e83611d10",
   "metadata": {
    "tags": []
   },
   "outputs": [
    {
     "name": "stderr",
     "output_type": "stream",
     "text": [
      "2025-06-03 19:52:48,490 - distributed.shuffle._scheduler_plugin - WARNING - Shuffle 418e6ab41030746849b00bc276f5e21b initialized by task ('shuffle-transfer-418e6ab41030746849b00bc276f5e21b', 0) executed on worker tcp://127.0.0.1:41947\n",
      "2025-06-03 19:52:49,463 - distributed.shuffle._scheduler_plugin - WARNING - Shuffle 418e6ab41030746849b00bc276f5e21b deactivated due to stimulus 'task-finished-1748980369.4623702'\n",
      "2025-06-03 19:56:57,118 - distributed.shuffle._scheduler_plugin - WARNING - Shuffle fc3f38b728919c348eb2f3950477270d initialized by task ('shuffle-transfer-fc3f38b728919c348eb2f3950477270d', 0) executed on worker tcp://127.0.0.1:41947\n",
      "2025-06-03 19:56:57,901 - distributed.shuffle._scheduler_plugin - WARNING - Shuffle fc3f38b728919c348eb2f3950477270d deactivated due to stimulus 'task-finished-1748980617.89984'\n",
      "2025-06-03 19:58:21,158 - distributed.shuffle._scheduler_plugin - WARNING - Shuffle b0bedef458f4ff227d2b44eea9785544 initialized by task ('shuffle-transfer-b0bedef458f4ff227d2b44eea9785544', 0) executed on worker tcp://127.0.0.1:41947\n",
      "2025-06-03 19:58:21,182 - distributed.shuffle._scheduler_plugin - WARNING - Shuffle b0bedef458f4ff227d2b44eea9785544 deactivated due to stimulus 'task-finished-1748980701.180918'\n",
      "2025-06-03 19:58:22,078 - distributed.nanny - WARNING - Restarting worker\n",
      "2025-06-03 19:58:22,260 - distributed.nanny - WARNING - Restarting worker\n",
      "2025-06-03 19:58:22,277 - distributed.nanny - WARNING - Restarting worker\n",
      "2025-06-03 19:58:22,340 - distributed.nanny - WARNING - Restarting worker\n",
      "2025-06-03 20:07:58,563 - distributed.nanny - WARNING - Restarting worker\n",
      "2025-06-03 20:07:58,566 - distributed.nanny - WARNING - Restarting worker\n",
      "2025-06-03 20:07:58,586 - distributed.nanny - WARNING - Restarting worker\n",
      "2025-06-03 20:07:58,594 - distributed.nanny - WARNING - Restarting worker\n",
      "2025-06-03 20:10:40,604 - distributed.shuffle._scheduler_plugin - WARNING - Shuffle b19ccb672368decca517a55ad21cbddf initialized by task ('shuffle-transfer-b19ccb672368decca517a55ad21cbddf', 0) executed on worker tcp://127.0.0.1:35667\n",
      "2025-06-03 20:10:41,041 - distributed.shuffle._scheduler_plugin - WARNING - Shuffle b19ccb672368decca517a55ad21cbddf deactivated due to stimulus 'task-finished-1748981441.0404606'\n",
      "2025-06-03 20:11:50,833 - distributed.nanny.memory - WARNING - Worker tcp://127.0.0.1:35045 (pid=9372) exceeded 95% memory budget. Restarting...\n",
      "2025-06-03 20:11:51,042 - distributed.scheduler - WARNING - Removing worker 'tcp://127.0.0.1:35045' caused the cluster to lose already computed task(s), which will be recomputed elsewhere: {('read_parquet-4a2b0d0268137058dc4ea058693bf99b', 0)} (stimulus_id='handle-worker-cleanup-1748981511.0426476')\n",
      "2025-06-03 20:11:51,047 - distributed.nanny - WARNING - Restarting worker\n",
      "2025-06-03 20:12:06,583 - distributed.nanny.memory - WARNING - Worker tcp://127.0.0.1:35667 (pid=9376) exceeded 95% memory budget. Restarting...\n",
      "2025-06-03 20:12:06,762 - distributed.scheduler - WARNING - Removing worker 'tcp://127.0.0.1:35667' caused the cluster to lose already computed task(s), which will be recomputed elsewhere: {('chunk-9fc468318f7221c554906869211e9e0a', 2), ('chunk-b5936222cbf87e781512969c719f7dd6', 2), ('read_parquet-4a2b0d0268137058dc4ea058693bf99b', 0)} (stimulus_id='handle-worker-cleanup-1748981526.7625344')\n",
      "2025-06-03 20:12:06,774 - distributed.nanny - WARNING - Restarting worker\n",
      "2025-06-03 20:13:01,533 - distributed.nanny.memory - WARNING - Worker tcp://127.0.0.1:45251 (pid=10347) exceeded 95% memory budget. Restarting...\n",
      "2025-06-03 20:13:01,745 - distributed.scheduler - WARNING - Removing worker 'tcp://127.0.0.1:45251' caused the cluster to lose already computed task(s), which will be recomputed elsewhere: {('read_parquet-4a2b0d0268137058dc4ea058693bf99b', 0)} (stimulus_id='handle-worker-cleanup-1748981581.7457523')\n",
      "2025-06-03 20:13:01,751 - distributed.nanny - WARNING - Restarting worker\n",
      "2025-06-03 20:13:57,684 - distributed.nanny.memory - WARNING - Worker tcp://127.0.0.1:39205 (pid=10580) exceeded 95% memory budget. Restarting...\n",
      "2025-06-03 20:13:57,901 - distributed.scheduler - WARNING - Removing worker 'tcp://127.0.0.1:39205' caused the cluster to lose already computed task(s), which will be recomputed elsewhere: {('read_parquet-4a2b0d0268137058dc4ea058693bf99b', 0)} (stimulus_id='handle-worker-cleanup-1748981637.901445')\n",
      "2025-06-03 20:13:57,905 - distributed.nanny - WARNING - Restarting worker\n",
      "2025-06-03 20:14:30,586 - distributed.nanny.memory - WARNING - Worker tcp://127.0.0.1:42199 (pid=9363) exceeded 95% memory budget. Restarting...\n",
      "2025-06-03 20:14:30,781 - distributed.scheduler - WARNING - Removing worker 'tcp://127.0.0.1:42199' caused the cluster to lose already computed task(s), which will be recomputed elsewhere: {('read_parquet-4a2b0d0268137058dc4ea058693bf99b', 0)} (stimulus_id='handle-worker-cleanup-1748981670.7813292')\n",
      "2025-06-03 20:14:30,787 - distributed.nanny - WARNING - Restarting worker\n",
      "2025-06-03 20:15:06,580 - distributed.shuffle._scheduler_plugin - WARNING - Shuffle 59286af7e7f3d9ae113dccb6d001cf21 initialized by task ('shuffle-transfer-59286af7e7f3d9ae113dccb6d001cf21', 2) executed on worker tcp://127.0.0.1:38483\n",
      "2025-06-03 20:15:07,234 - distributed.nanny.memory - WARNING - Worker tcp://127.0.0.1:39461 (pid=10745) exceeded 95% memory budget. Restarting...\n",
      "2025-06-03 20:15:07,447 - distributed.scheduler - WARNING - Removing worker 'tcp://127.0.0.1:39461' caused the cluster to lose already computed task(s), which will be recomputed elsewhere: {('read_parquet-4a2b0d0268137058dc4ea058693bf99b', 0)} (stimulus_id='handle-worker-cleanup-1748981707.4478')\n",
      "2025-06-03 20:15:07,448 - distributed.shuffle._scheduler_plugin - WARNING - Shuffle 59286af7e7f3d9ae113dccb6d001cf21 deactivated due to stimulus 'handle-worker-cleanup-1748981707.4478'\n",
      "2025-06-03 20:15:07,450 - distributed.shuffle._scheduler_plugin - WARNING - Shuffle 59286af7e7f3d9ae113dccb6d001cf21 restarted due to stimulus 'handle-worker-cleanup-1748981707.4478\n",
      "2025-06-03 20:15:07,457 - distributed.nanny - WARNING - Restarting worker\n",
      "2025-06-03 20:15:24,098 - distributed.shuffle._scheduler_plugin - WARNING - Shuffle 59286af7e7f3d9ae113dccb6d001cf21 initialized by task ('shuffle-transfer-59286af7e7f3d9ae113dccb6d001cf21', 2) executed on worker tcp://127.0.0.1:39633\n",
      "2025-06-03 20:15:24,285 - distributed.nanny.memory - WARNING - Worker tcp://127.0.0.1:38483 (pid=11173) exceeded 95% memory budget. Restarting...\n",
      "2025-06-03 20:15:24,498 - distributed.scheduler - WARNING - Removing worker 'tcp://127.0.0.1:38483' caused the cluster to lose already computed task(s), which will be recomputed elsewhere: {('read_parquet-4a2b0d0268137058dc4ea058693bf99b', 0)} (stimulus_id='handle-worker-cleanup-1748981724.4985003')\n",
      "2025-06-03 20:15:24,499 - distributed.shuffle._scheduler_plugin - WARNING - Shuffle 59286af7e7f3d9ae113dccb6d001cf21 deactivated due to stimulus 'handle-worker-cleanup-1748981724.4985003'\n",
      "2025-06-03 20:15:24,501 - distributed.shuffle._scheduler_plugin - WARNING - Shuffle 59286af7e7f3d9ae113dccb6d001cf21 restarted due to stimulus 'handle-worker-cleanup-1748981724.4985003\n",
      "2025-06-03 20:15:24,509 - distributed.nanny - WARNING - Restarting worker\n",
      "2025-06-03 20:15:24,940 - distributed.shuffle._scheduler_plugin - WARNING - Shuffle 59286af7e7f3d9ae113dccb6d001cf21 initialized by task ('shuffle-transfer-59286af7e7f3d9ae113dccb6d001cf21', 1) executed on worker tcp://127.0.0.1:36259\n",
      "2025-06-03 20:15:40,683 - distributed.nanny.memory - WARNING - Worker tcp://127.0.0.1:39633 (pid=10918) exceeded 95% memory budget. Restarting...\n",
      "2025-06-03 20:15:40,866 - distributed.scheduler - ERROR - Task ('operation-79154bca8a4cc4bdb845059e61b10a29', 0) marked as failed because 4 workers died while trying to run it\n",
      "2025-06-03 20:15:40,867 - distributed.scheduler - WARNING - Removing worker 'tcp://127.0.0.1:39633' caused the cluster to lose already computed task(s), which will be recomputed elsewhere: {('read_parquet-4a2b0d0268137058dc4ea058693bf99b', 0)} (stimulus_id='handle-worker-cleanup-1748981740.8657737')\n",
      "2025-06-03 20:15:40,868 - distributed.shuffle._scheduler_plugin - WARNING - Shuffle 59286af7e7f3d9ae113dccb6d001cf21 deactivated due to stimulus 'handle-worker-cleanup-1748981740.8657737'\n",
      "2025-06-03 20:15:40,869 - distributed.shuffle._scheduler_plugin - WARNING - Shuffle 59286af7e7f3d9ae113dccb6d001cf21 restarted due to stimulus 'handle-worker-cleanup-1748981740.8657737\n",
      "2025-06-03 20:15:40,874 - distributed.nanny - WARNING - Restarting worker\n",
      "2025-06-03 20:19:34,528 - distributed.shuffle._scheduler_plugin - WARNING - Shuffle a5d43ceceef30650400d467591d1415c initialized by task ('shuffle-transfer-a5d43ceceef30650400d467591d1415c', 0) executed on worker tcp://127.0.0.1:35871\n",
      "2025-06-03 20:19:35,067 - distributed.shuffle._scheduler_plugin - WARNING - Shuffle a5d43ceceef30650400d467591d1415c deactivated due to stimulus 'task-finished-1748981975.0660393'\n",
      "2025-06-03 20:20:43,683 - distributed.nanny.memory - WARNING - Worker tcp://127.0.0.1:36259 (pid=9368) exceeded 95% memory budget. Restarting...\n",
      "2025-06-03 20:20:43,895 - distributed.scheduler - WARNING - Removing worker 'tcp://127.0.0.1:36259' caused the cluster to lose already computed task(s), which will be recomputed elsewhere: {('read_parquet-4a2b0d0268137058dc4ea058693bf99b', 0)} (stimulus_id='handle-worker-cleanup-1748982043.895529')\n",
      "2025-06-03 20:20:43,901 - distributed.nanny - WARNING - Restarting worker\n",
      "2025-06-03 20:21:33,483 - distributed.nanny.memory - WARNING - Worker tcp://127.0.0.1:35871 (pid=11478) exceeded 95% memory budget. Restarting...\n",
      "2025-06-03 20:21:33,711 - distributed.scheduler - WARNING - Removing worker 'tcp://127.0.0.1:35871' caused the cluster to lose already computed task(s), which will be recomputed elsewhere: {('read_parquet-4a2b0d0268137058dc4ea058693bf99b', 0)} (stimulus_id='handle-worker-cleanup-1748982093.711835')\n",
      "2025-06-03 20:21:33,715 - distributed.nanny - WARNING - Restarting worker\n",
      "2025-06-03 20:21:48,984 - distributed.nanny.memory - WARNING - Worker tcp://127.0.0.1:41783 (pid=12720) exceeded 95% memory budget. Restarting...\n",
      "2025-06-03 20:21:49,161 - distributed.scheduler - WARNING - Removing worker 'tcp://127.0.0.1:41783' caused the cluster to lose already computed task(s), which will be recomputed elsewhere: {('chunk-3b86d58d47779e378a0a6cef2cde58e5', 1), ('chunk-d0dfd09724a80449802a167010c2aa87', 1), ('read_parquet-4a2b0d0268137058dc4ea058693bf99b', 0)} (stimulus_id='handle-worker-cleanup-1748982109.1618004')\n",
      "2025-06-03 20:21:49,166 - distributed.nanny - WARNING - Restarting worker\n",
      "2025-06-03 20:22:40,683 - distributed.nanny.memory - WARNING - Worker tcp://127.0.0.1:33171 (pid=12996) exceeded 95% memory budget. Restarting...\n",
      "2025-06-03 20:22:40,890 - distributed.scheduler - WARNING - Removing worker 'tcp://127.0.0.1:33171' caused the cluster to lose already computed task(s), which will be recomputed elsewhere: {('read_parquet-4a2b0d0268137058dc4ea058693bf99b', 0)} (stimulus_id='handle-worker-cleanup-1748982160.8898878')\n",
      "2025-06-03 20:22:40,893 - distributed.nanny - WARNING - Restarting worker\n",
      "2025-06-03 20:22:56,283 - distributed.nanny.memory - WARNING - Worker tcp://127.0.0.1:33505 (pid=12986) exceeded 95% memory budget. Restarting...\n",
      "2025-06-03 20:22:56,457 - distributed.scheduler - WARNING - Removing worker 'tcp://127.0.0.1:33505' caused the cluster to lose already computed task(s), which will be recomputed elsewhere: {('chunk-70ddd1cad496222193561d89a782fd0b', 2), ('chunk-42924280c48fa7f0f5a15491507ae3c7', 2), ('read_parquet-4a2b0d0268137058dc4ea058693bf99b', 0)} (stimulus_id='handle-worker-cleanup-1748982176.456942')\n",
      "2025-06-03 20:22:56,462 - distributed.nanny - WARNING - Restarting worker\n",
      "2025-06-03 20:23:46,883 - distributed.nanny.memory - WARNING - Worker tcp://127.0.0.1:44875 (pid=13277) exceeded 95% memory budget. Restarting...\n",
      "2025-06-03 20:23:47,086 - distributed.scheduler - WARNING - Removing worker 'tcp://127.0.0.1:44875' caused the cluster to lose already computed task(s), which will be recomputed elsewhere: {('read_parquet-4a2b0d0268137058dc4ea058693bf99b', 0)} (stimulus_id='handle-worker-cleanup-1748982227.0866508')\n",
      "2025-06-03 20:23:47,092 - distributed.nanny - WARNING - Restarting worker\n",
      "2025-06-03 20:24:02,385 - distributed.nanny.memory - WARNING - Worker tcp://127.0.0.1:34841 (pid=11438) exceeded 95% memory budget. Restarting...\n",
      "2025-06-03 20:24:02,560 - distributed.scheduler - WARNING - Removing worker 'tcp://127.0.0.1:34841' caused the cluster to lose already computed task(s), which will be recomputed elsewhere: {('chunk-c56c83e9b2ef4fdb434b691134a8f9d0', 1), ('read_parquet-4a2b0d0268137058dc4ea058693bf99b', 0), ('chunk-c7d54b1ef4090e9dec8d7426dbb66914', 1)} (stimulus_id='handle-worker-cleanup-1748982242.559854')\n",
      "2025-06-03 20:24:02,565 - distributed.nanny - WARNING - Restarting worker\n",
      "2025-06-03 20:24:17,783 - distributed.nanny.memory - WARNING - Worker tcp://127.0.0.1:37405 (pid=13266) exceeded 95% memory budget. Restarting...\n",
      "2025-06-03 20:24:17,967 - distributed.scheduler - WARNING - Removing worker 'tcp://127.0.0.1:37405' caused the cluster to lose already computed task(s), which will be recomputed elsewhere: {('chunk-c7d54b1ef4090e9dec8d7426dbb66914', 2), ('chunk-c56c83e9b2ef4fdb434b691134a8f9d0', 2), ('read_parquet-4a2b0d0268137058dc4ea058693bf99b', 0)} (stimulus_id='handle-worker-cleanup-1748982257.9668505')\n",
      "2025-06-03 20:24:17,974 - distributed.nanny - WARNING - Restarting worker\n",
      "2025-06-03 20:25:09,229 - distributed.shuffle._scheduler_plugin - WARNING - Shuffle 7fd884db02e485ffda90fdc25da11467 initialized by task ('shuffle-transfer-7fd884db02e485ffda90fdc25da11467', 1) executed on worker tcp://127.0.0.1:44733\n",
      "2025-06-03 20:25:10,886 - distributed.nanny.memory - WARNING - Worker tcp://127.0.0.1:38837 (pid=13661) exceeded 95% memory budget. Restarting...\n",
      "2025-06-03 20:25:11,096 - distributed.scheduler - WARNING - Removing worker 'tcp://127.0.0.1:38837' caused the cluster to lose already computed task(s), which will be recomputed elsewhere: {('read_parquet-4a2b0d0268137058dc4ea058693bf99b', 0)} (stimulus_id='handle-worker-cleanup-1748982311.0960171')\n",
      "2025-06-03 20:25:11,097 - distributed.shuffle._scheduler_plugin - WARNING - Shuffle 7fd884db02e485ffda90fdc25da11467 deactivated due to stimulus 'handle-worker-cleanup-1748982311.0960171'\n",
      "2025-06-03 20:25:11,098 - distributed.shuffle._scheduler_plugin - WARNING - Shuffle 7fd884db02e485ffda90fdc25da11467 restarted due to stimulus 'handle-worker-cleanup-1748982311.0960171\n",
      "2025-06-03 20:25:11,104 - distributed.nanny - WARNING - Restarting worker\n",
      "2025-06-03 20:25:27,135 - distributed.shuffle._scheduler_plugin - WARNING - Shuffle 7fd884db02e485ffda90fdc25da11467 initialized by task ('shuffle-transfer-7fd884db02e485ffda90fdc25da11467', 1) executed on worker tcp://127.0.0.1:34953\n",
      "2025-06-03 20:25:28,928 - distributed.shuffle._scheduler_plugin - WARNING - Shuffle 7fd884db02e485ffda90fdc25da11467 deactivated due to stimulus 'task-finished-1748982328.9277222'\n",
      "2025-06-03 20:25:44,983 - distributed.nanny.memory - WARNING - Worker tcp://127.0.0.1:44733 (pid=13743) exceeded 95% memory budget. Restarting...\n",
      "2025-06-03 20:25:45,169 - distributed.scheduler - WARNING - Removing worker 'tcp://127.0.0.1:44733' caused the cluster to lose already computed task(s), which will be recomputed elsewhere: {('read_parquet-4a2b0d0268137058dc4ea058693bf99b', 0)} (stimulus_id='handle-worker-cleanup-1748982345.1697526')\n",
      "2025-06-03 20:25:45,174 - distributed.nanny - WARNING - Restarting worker\n",
      "2025-06-03 20:26:00,385 - distributed.nanny.memory - WARNING - Worker tcp://127.0.0.1:34483 (pid=14030) exceeded 95% memory budget. Restarting...\n",
      "2025-06-03 20:26:00,558 - distributed.scheduler - WARNING - Removing worker 'tcp://127.0.0.1:34483' caused the cluster to lose already computed task(s), which will be recomputed elsewhere: {('_groupby_apply_funcs-07d9bc2e2c82e4fa666e027a29c47b90', 2), ('read_parquet-4a2b0d0268137058dc4ea058693bf99b', 0)} (stimulus_id='handle-worker-cleanup-1748982360.5581765')\n",
      "2025-06-03 20:26:00,563 - distributed.nanny - WARNING - Restarting worker\n",
      "2025-06-03 20:26:16,232 - distributed.nanny.memory - WARNING - Worker tcp://127.0.0.1:42911 (pid=11421) exceeded 95% memory budget. Restarting...\n",
      "2025-06-03 20:26:16,420 - distributed.scheduler - WARNING - Removing worker 'tcp://127.0.0.1:42911' caused the cluster to lose already computed task(s), which will be recomputed elsewhere: {('_groupby_apply_funcs-07d9bc2e2c82e4fa666e027a29c47b90', 1), ('read_parquet-4a2b0d0268137058dc4ea058693bf99b', 0)} (stimulus_id='handle-worker-cleanup-1748982376.4203434')\n",
      "2025-06-03 20:26:16,425 - distributed.nanny - WARNING - Restarting worker\n",
      "2025-06-03 20:27:11,998 - distributed.shuffle._scheduler_plugin - WARNING - Shuffle f91d325b8c80c976e13d2ab928bfacca initialized by task ('shuffle-transfer-f91d325b8c80c976e13d2ab928bfacca', 1) executed on worker tcp://127.0.0.1:33731\n",
      "2025-06-03 20:27:12,090 - distributed.shuffle._scheduler_plugin - WARNING - Shuffle f91d325b8c80c976e13d2ab928bfacca deactivated due to stimulus 'task-finished-1748982432.0893545'\n",
      "2025-06-03 20:27:16,253 - distributed.shuffle._scheduler_plugin - WARNING - Shuffle 1526f9bef1fafc98906cf06812b71e77 initialized by task ('shuffle-transfer-1526f9bef1fafc98906cf06812b71e77', 1) executed on worker tcp://127.0.0.1:38399\n",
      "2025-06-03 20:27:16,460 - distributed.shuffle._scheduler_plugin - WARNING - Shuffle 1526f9bef1fafc98906cf06812b71e77 deactivated due to stimulus 'task-finished-1748982436.4580498'\n",
      "2025-06-03 20:27:17,126 - distributed.nanny - WARNING - Restarting worker\n",
      "2025-06-03 20:27:17,128 - distributed.nanny - WARNING - Restarting worker\n",
      "2025-06-03 20:27:17,141 - distributed.nanny - WARNING - Restarting worker\n",
      "2025-06-03 20:27:17,165 - distributed.nanny - WARNING - Restarting worker\n",
      "2025-06-03 20:32:37,938 - distributed.nanny - WARNING - Restarting worker\n",
      "2025-06-03 20:32:37,944 - distributed.nanny - WARNING - Restarting worker\n",
      "2025-06-03 20:32:37,953 - distributed.nanny - WARNING - Restarting worker\n",
      "2025-06-03 20:32:37,958 - distributed.nanny - WARNING - Restarting worker\n",
      "2025-06-03 20:33:51,857 - distributed.nanny - WARNING - Restarting worker\n",
      "2025-06-03 20:33:51,863 - distributed.nanny - WARNING - Restarting worker\n",
      "2025-06-03 20:33:51,876 - distributed.nanny - WARNING - Restarting worker\n",
      "2025-06-03 20:33:51,882 - distributed.nanny - WARNING - Restarting worker\n"
     ]
    }
   ],
   "source": [
    "import os\n",
    "import dask.dataframe as dd\n",
    "from dask.distributed import Client\n",
    "import time\n",
    "client = Client()\n",
    "parquet_file = 'data/taxi_csv/yellow_tripdata_2009-12.parquet'\n",
    "dask_data = dd.read_parquet(parquet_file)\n",
    "dask_benchmarks = {\n",
    "    'duration': [],\n",
    "    'task': [],\n",
    "}\n",
    "dask_benchmarks_filtered = {\n",
    "    'duration': [],\n",
    "    'task': [],\n",
    "}\n",
    "dask_benchmarks_cache = {\n",
    "    'duration': [],\n",
    "    'task': [],\n",
    "}"
   ]
  },
  {
   "cell_type": "markdown",
   "id": "1c11e298-216a-4983-8267-2314b689dda6",
   "metadata": {
    "tags": []
   },
   "source": [
    "# Lista de Colunas"
   ]
  },
  {
   "cell_type": "code",
   "execution_count": 8,
   "id": "8841e398-e5c6-4801-9c20-796953e155b8",
   "metadata": {
    "tags": []
   },
   "outputs": [
    {
     "name": "stdout",
     "output_type": "stream",
     "text": [
      "Index(['vendor_name', 'trip_pickup_datetime', 'trip_dropoff_datetime',\n",
      "       'passenger_count', 'trip_distance', 'start_lon', 'start_lat',\n",
      "       'rate_code', 'store_and_forward', 'end_lon', 'end_lat', 'payment_type',\n",
      "       'fare_amt', 'surcharge', 'mta_tax', 'tip_amt', 'tolls_amt',\n",
      "       'total_amt'],\n",
      "      dtype='object')\n"
     ]
    }
   ],
   "source": [
    "dask_data = dask_data.rename(columns=str.lower)\n",
    "columns_list = dask_data.columns\n",
    "print(columns_list)"
   ]
  },
  {
   "cell_type": "markdown",
   "id": "294bf97d-e15c-4705-92f7-65a050e194bf",
   "metadata": {
    "tags": []
   },
   "source": [
    "# Definição das Funções de Operações"
   ]
  },
  {
   "cell_type": "code",
   "execution_count": 9,
   "id": "32586ba3-0e99-463c-ab06-575cfdaeaacd",
   "metadata": {
    "tags": []
   },
   "outputs": [
    {
     "name": "stderr",
     "output_type": "stream",
     "text": [
      "2025-06-03 19:50:51,330 - distributed.worker.memory - WARNING - Unmanaged memory use is high. This may indicate a memory leak or the memory may not be released to the OS; see https://distributed.dask.org/en/latest/worker-memory.html#memory-not-released-back-to-the-os for more information. -- Unmanaged memory: 5.73 GiB -- Worker memory limit: 7.83 GiB\n"
     ]
    }
   ],
   "source": [
    "def read_file_parquet(df=None):\n",
    "    return dd.read_parquet('Ficheiros/taxi_csv/yellow_tripdata_2009-12.parquet')\n",
    "  \n",
    "def count(df=None):\n",
    "    return len(df)\n",
    " \n",
    "def count_index_length(df=None):\n",
    "    return len(df.index)\n",
    " \n",
    "def mean(df):\n",
    "    return df.fare_amt.mean().compute()\n",
    " \n",
    "def standard_deviation(df):\n",
    "    return df.fare_amt.std().compute()\n",
    " \n",
    "def mean_of_sum(df):\n",
    "    return (df.fare_amt + df.tip_amt).mean().compute()\n",
    " \n",
    "def sum_columns(df):\n",
    "    return (df.fare_amt + df.tip_amt).compute()\n",
    " \n",
    "def mean_of_product(df):\n",
    "    return (df.fare_amt * df.tip_amt).mean().compute()\n",
    " \n",
    "def product_columns(df):\n",
    "    return (df.fare_amt * df.tip_amt).compute()\n",
    "  \n",
    "def value_counts(df):\n",
    "    return df.fare_amt.value_counts().compute()\n",
    "  \n",
    "def mean_of_complicated_arithmetic_operation(df):\n",
    "    theta_1 = df.start_lon\n",
    "    phi_1 = df.start_lat\n",
    "    theta_2 = df.end_lon\n",
    "    phi_2 = df.end_lat\n",
    "    temp = (np.sin((theta_2-theta_1)/2*np.pi/180)**2\n",
    "           + np.cos(theta_1*np.pi/180)*np.cos(theta_2*np.pi/180) * np.sin((phi_2-phi_1)/2*np.pi/180)**2)\n",
    "    ret = 2 * np.arctan2(np.sqrt(temp), np.sqrt(1-temp))\n",
    "    return ret.mean().compute()\n",
    "  \n",
    "def complicated_arithmetic_operation(df):\n",
    "    theta_1 = df.start_lon\n",
    "    phi_1 = df.start_lat\n",
    "    theta_2 = df.end_lon\n",
    "    phi_2 = df.end_lat\n",
    "    temp = (np.sin((theta_2-theta_1)/2*np.pi/180)**2\n",
    "           + np.cos(theta_1*np.pi/180)*np.cos(theta_2*np.pi/180) * np.sin((phi_2-phi_1)/2*np.pi/180)**2)\n",
    "    ret = 2 * np.arctan2(np.sqrt(temp), np.sqrt(1-temp))\n",
    "    return ret.compute()\n",
    "  \n",
    "def groupby_statistics(df):\n",
    "    return df.groupby(by='passenger_count').agg(\n",
    "      {\n",
    "        'fare_amt': ['mean', 'std'], \n",
    "        'tip_amt': ['mean', 'std']\n",
    "      }\n",
    "    ).compute()\n",
    "  \n",
    "other = groupby_statistics(dask_data)\n",
    "other.columns = pd.Index([e[0]+'_' + e[1] for e in other.columns.tolist()])\n",
    " \n",
    "def join_count(df, other):\n",
    "    return len(dd.merge(df, other, left_index=True, right_index=True))\n",
    " \n",
    "def join_data(df, other):\n",
    "    return dd.merge(df, other, left_index=True, right_index=True).compute()"
   ]
  },
  {
   "cell_type": "markdown",
   "id": "66ddacff-16fc-4a9b-b47e-25db416dda0e",
   "metadata": {
    "tags": []
   },
   "source": [
    "# Execução dos Benchmarks"
   ]
  },
  {
   "cell_type": "code",
   "execution_count": 10,
   "id": "b751e934-4316-4407-8a48-a86c21bd0c58",
   "metadata": {
    "tags": []
   },
   "outputs": [
    {
     "name": "stdout",
     "output_type": "stream",
     "text": [
      "read file took: 0.008968353271484375 seconds\n",
      "count took: 0.012008190155029297 seconds\n",
      "count index length took: 0.014465570449829102 seconds\n",
      "mean took: 15.407151222229004 seconds\n",
      "standard deviation took: 15.653548002243042 seconds\n",
      "mean of columns addition took: 15.38667631149292 seconds\n",
      "addition of columns took: 15.686276912689209 seconds\n",
      "mean of columns multiplication took: 15.549761772155762 seconds\n",
      "multiplication of columns took: 15.837326049804688 seconds\n",
      "value counts took: 16.776376485824585 seconds\n",
      "mean of complex arithmetic ops took: 16.63805365562439 seconds\n",
      "complex arithmetic ops took: 15.190645456314087 seconds\n",
      "groupby statistics took: 14.650766372680664 seconds\n"
     ]
    },
    {
     "name": "stderr",
     "output_type": "stream",
     "text": [
      "2025-06-03 19:53:44,277 - distributed.worker.memory - WARNING - Unmanaged memory use is high. This may indicate a memory leak or the memory may not be released to the OS; see https://distributed.dask.org/en/latest/worker-memory.html#memory-not-released-back-to-the-os for more information. -- Unmanaged memory: 5.54 GiB -- Worker memory limit: 7.83 GiB\n"
     ]
    },
    {
     "name": "stdout",
     "output_type": "stream",
     "text": [
      "join count took: 15.411818027496338 seconds\n",
      "join took: 15.144436120986938 seconds\n"
     ]
    },
    {
     "data": {
      "text/plain": [
       "15.144436120986938"
      ]
     },
     "execution_count": 10,
     "metadata": {},
     "output_type": "execute_result"
    }
   ],
   "source": [
    "benchmark(read_file_parquet, df=None, benchmarks=dask_benchmarks, name='read file')\n",
    "benchmark(count, df=dask_data, benchmarks=dask_benchmarks, name='count')\n",
    "benchmark(count_index_length, df=dask_data, benchmarks=dask_benchmarks, name='count index length')\n",
    "benchmark(mean, df=dask_data, benchmarks=dask_benchmarks, name='mean')\n",
    "benchmark(standard_deviation, df=dask_data, benchmarks=dask_benchmarks, name='standard deviation')\n",
    "benchmark(mean_of_sum, df=dask_data, benchmarks=dask_benchmarks, name='mean of columns addition')\n",
    "benchmark(sum_columns, df=dask_data, benchmarks=dask_benchmarks, name='addition of columns')\n",
    "benchmark(mean_of_product, df=dask_data, benchmarks=dask_benchmarks, name='mean of columns multiplication')\n",
    "benchmark(product_columns, df=dask_data, benchmarks=dask_benchmarks, name='multiplication of columns')\n",
    "benchmark(value_counts, df=dask_data, benchmarks=dask_benchmarks, name='value counts')\n",
    "benchmark(mean_of_complicated_arithmetic_operation, df=dask_data, benchmarks=dask_benchmarks, name='mean of complex arithmetic ops')\n",
    "benchmark(complicated_arithmetic_operation, df=dask_data, benchmarks=dask_benchmarks, name='complex arithmetic ops')\n",
    "benchmark(groupby_statistics, df=dask_data, benchmarks=dask_benchmarks, name='groupby statistics')\n",
    "benchmark(join_count, dask_data, benchmarks=dask_benchmarks, name='join count', other=other)\n",
    "benchmark(join_data, dask_data, benchmarks=dask_benchmarks, name='join', other=other)"
   ]
  },
  {
   "cell_type": "markdown",
   "id": "435e4b66-3ca4-4c38-ba84-97e2cdfa7766",
   "metadata": {},
   "source": [
    "# Guardar Resultados"
   ]
  },
  {
   "cell_type": "code",
   "execution_count": 11,
   "id": "67bde0f0-39a8-44e2-84f8-b4ac19e381e3",
   "metadata": {
    "tags": []
   },
   "outputs": [
    {
     "name": "stdout",
     "output_type": "stream",
     "text": [
      "                                 duration\n",
      "task                                     \n",
      "read file                        0.008968\n",
      "count                            0.012008\n",
      "count index length               0.014466\n",
      "mean                            15.407151\n",
      "standard deviation              15.653548\n",
      "mean of columns addition        15.386676\n",
      "addition of columns             15.686277\n",
      "mean of columns multiplication  15.549762\n",
      "multiplication of columns       15.837326\n",
      "value counts                    16.776376\n",
      "mean of complex arithmetic ops  16.638054\n",
      "complex arithmetic ops          15.190645\n",
      "groupby statistics              14.650766\n",
      "join count                      15.411818\n",
      "join                            15.144436\n",
      "Guardado em Resultados/dask_standard1.\n"
     ]
    }
   ],
   "source": [
    "dask_res_temp = get_results(dask_benchmarks).drop_duplicates(subset='task').set_index('task')\n",
    "print(dask_res_temp)\n",
    "filename = 'Resultados/dask_standard1'\n",
    "dask_res_temp.to_parquet(filename)\n",
    "\n",
    "print(f'Guardado em {filename}.')"
   ]
  },
  {
   "cell_type": "markdown",
   "id": "ba76bfb8-3457-4f9d-94c6-e07b2c8034b6",
   "metadata": {},
   "source": [
    "# Operações com filtro"
   ]
  },
  {
   "cell_type": "code",
   "execution_count": 12,
   "id": "5aec0f7e-42f1-4226-b730-7fd82abb0827",
   "metadata": {
    "tags": []
   },
   "outputs": [],
   "source": [
    "expr_filter = (dask_data.tip_amt >= 1) & (dask_data.tip_amt <= 5)\n",
    " \n",
    "def filter_data(df):\n",
    "    return df[expr_filter]\n",
    "  \n",
    "dask_filtered = filter_data(dask_data)"
   ]
  },
  {
   "cell_type": "code",
   "execution_count": 13,
   "id": "a5e54753-d0cc-40ce-b7a4-5f0434843286",
   "metadata": {
    "tags": []
   },
   "outputs": [
    {
     "name": "stdout",
     "output_type": "stream",
     "text": [
      "read file took: 0.007888555526733398 seconds\n",
      "count took: 15.091957330703735 seconds\n",
      "count index length took: 15.131043195724487 seconds\n",
      "mean took: 15.25171160697937 seconds\n",
      "standard deviation took: 13.730218887329102 seconds\n",
      "mean of columns addition took: 15.55794644355774 seconds\n",
      "addition of columns took: 15.955136775970459 seconds\n",
      "mean of columns multiplication took: 15.678725004196167 seconds\n"
     ]
    },
    {
     "name": "stderr",
     "output_type": "stream",
     "text": [
      "2025-06-03 19:56:01,330 - distributed.worker.memory - WARNING - Unmanaged memory use is high. This may indicate a memory leak or the memory may not be released to the OS; see https://distributed.dask.org/en/latest/worker-memory.html#memory-not-released-back-to-the-os for more information. -- Unmanaged memory: 5.65 GiB -- Worker memory limit: 7.83 GiB\n"
     ]
    },
    {
     "name": "stdout",
     "output_type": "stream",
     "text": [
      "multiplication of columns took: 15.84637451171875 seconds\n",
      "mean of complex arithmetic ops took: 15.89311933517456 seconds\n",
      "complex arithmetic ops took: 16.45020627975464 seconds\n",
      "value counts took: 16.651476860046387 seconds\n",
      "groupby statistics took: 16.22596764564514 seconds\n",
      "join count took: 15.984034538269043 seconds\n",
      "join took: 16.36372947692871 seconds\n"
     ]
    },
    {
     "data": {
      "text/plain": [
       "16.36372947692871"
      ]
     },
     "execution_count": 13,
     "metadata": {},
     "output_type": "execute_result"
    }
   ],
   "source": [
    "benchmark(read_file_parquet, df=None, benchmarks=dask_benchmarks_filtered, name='read file')\n",
    "benchmark(count, dask_filtered, benchmarks=dask_benchmarks_filtered, name='count')\n",
    "benchmark(count_index_length, dask_filtered, benchmarks=dask_benchmarks_filtered, name='count index length')\n",
    "benchmark(mean, dask_filtered, benchmarks=dask_benchmarks_filtered, name='mean')\n",
    "benchmark(standard_deviation, dask_filtered, benchmarks=dask_benchmarks_filtered, name='standard deviation')\n",
    "benchmark(mean_of_sum, dask_filtered, benchmarks=dask_benchmarks_filtered, name ='mean of columns addition')\n",
    "benchmark(sum_columns, df=dask_filtered, benchmarks=dask_benchmarks_filtered, name='addition of columns')\n",
    "benchmark(mean_of_product, dask_filtered, benchmarks=dask_benchmarks_filtered, name ='mean of columns multiplication')\n",
    "benchmark(product_columns, df=dask_filtered, benchmarks=dask_benchmarks_filtered, name='multiplication of columns')\n",
    "benchmark(mean_of_complicated_arithmetic_operation, dask_filtered, benchmarks=dask_benchmarks_filtered, name='mean of complex arithmetic ops')\n",
    "benchmark(complicated_arithmetic_operation, dask_filtered, benchmarks=dask_benchmarks_filtered, name='complex arithmetic ops')\n",
    "benchmark(value_counts, dask_filtered, benchmarks=dask_benchmarks_filtered, name ='value counts')\n",
    "benchmark(groupby_statistics, dask_filtered, benchmarks=dask_benchmarks_filtered, name='groupby statistics')\n",
    " \n",
    "other = groupby_statistics(dask_filtered)\n",
    "other.columns = pd.Index([e[0]+'_' + e[1] for e in other.columns.tolist()])\n",
    " \n",
    "benchmark(join_count, dask_filtered, benchmarks=dask_benchmarks_filtered, name='join count', other=other)\n",
    "benchmark(join_data, dask_filtered, benchmarks=dask_benchmarks_filtered, name='join', other=other)"
   ]
  },
  {
   "cell_type": "code",
   "execution_count": 14,
   "id": "9fb33b14-ab9a-4992-968e-1c61852c964b",
   "metadata": {
    "tags": []
   },
   "outputs": [
    {
     "name": "stdout",
     "output_type": "stream",
     "text": [
      "                                 duration\n",
      "task                                     \n",
      "read file                        0.007889\n",
      "count                           15.091957\n",
      "count index length              15.131043\n",
      "mean                            15.251712\n",
      "standard deviation              13.730219\n",
      "mean of columns addition        15.557946\n",
      "addition of columns             15.955137\n",
      "mean of columns multiplication  15.678725\n",
      "multiplication of columns       15.846375\n",
      "mean of complex arithmetic ops  15.893119\n",
      "complex arithmetic ops          16.450206\n",
      "value counts                    16.651477\n",
      "groupby statistics              16.225968\n",
      "join count                      15.984035\n",
      "join                            16.363729\n",
      "Guardado em Resultados/dask_filtered1.\n"
     ]
    }
   ],
   "source": [
    "dask_res_filtered = get_results(dask_benchmarks_filtered).drop_duplicates(subset='task').set_index('task')\n",
    "print(dask_res_filtered)\n",
    "filename_filter = 'Resultados/dask_filtered1'\n",
    "dask_res_filtered.to_parquet(filename_filter)\n",
    "print(f'Guardado em {filename_filter}.')"
   ]
  },
  {
   "cell_type": "markdown",
   "id": "789c178b-007d-4c53-84ce-a488df4dc49b",
   "metadata": {},
   "source": [
    "# Operações com filtro e caching"
   ]
  },
  {
   "cell_type": "code",
   "execution_count": 15,
   "id": "402bfb8d-4f5e-4a9c-95f2-f68c9f653a04",
   "metadata": {
    "tags": []
   },
   "outputs": [
    {
     "name": "stdout",
     "output_type": "stream",
     "text": [
      "Waiting until all futures are finished\n",
      "All futures are finished\n"
     ]
    }
   ],
   "source": [
    "dask_filtered = client.persist(dask_filtered)\n",
    "from distributed import wait\n",
    "print('Waiting until all futures are finished')\n",
    "wait(dask_filtered)\n",
    "print('All futures are finished')"
   ]
  },
  {
   "cell_type": "code",
   "execution_count": 16,
   "id": "88b7948c-4abd-4119-83ae-71375034d890",
   "metadata": {
    "tags": []
   },
   "outputs": [
    {
     "name": "stdout",
     "output_type": "stream",
     "text": [
      "read file took: 0.009152412414550781 seconds\n",
      "count took: 0.03545427322387695 seconds\n",
      "count index length took: 0.031214475631713867 seconds\n",
      "mean took: 0.056137800216674805 seconds\n",
      "standard deviation took: 0.11504435539245605 seconds\n",
      "mean of columns addition took: 0.07110762596130371 seconds\n",
      "addition of columns took: 0.2650279998779297 seconds\n",
      "mean of columns multiplication took: 0.06962919235229492 seconds\n",
      "multiplication of columns took: 0.2863297462463379 seconds\n",
      "mean of complex arithmetic ops took: 0.38831043243408203 seconds\n",
      "complex arithmetic ops took: 0.6052024364471436 seconds\n",
      "value counts took: 0.11748790740966797 seconds\n",
      "groupby statistics took: 0.2713613510131836 seconds\n",
      "join count took: 0.07017660140991211 seconds\n",
      "join took: 0.11501693725585938 seconds\n"
     ]
    },
    {
     "data": {
      "text/plain": [
       "0.11501693725585938"
      ]
     },
     "execution_count": 16,
     "metadata": {},
     "output_type": "execute_result"
    }
   ],
   "source": [
    "benchmark(read_file_parquet, df=None, benchmarks=dask_benchmarks_cache, name='read file')\n",
    "benchmark(count, dask_filtered, benchmarks=dask_benchmarks_cache, name='count')\n",
    "benchmark(count_index_length, dask_filtered, benchmarks=dask_benchmarks_cache, name='count index length')\n",
    "benchmark(mean, dask_filtered, benchmarks=dask_benchmarks_cache, name='mean')\n",
    "benchmark(standard_deviation, dask_filtered, benchmarks=dask_benchmarks_cache, name='standard deviation')\n",
    "benchmark(mean_of_sum, dask_filtered, benchmarks=dask_benchmarks_cache, name ='mean of columns addition')\n",
    "benchmark(sum_columns, df=dask_filtered, benchmarks=dask_benchmarks_cache, name='addition of columns')\n",
    "benchmark(mean_of_product, dask_filtered, benchmarks=dask_benchmarks_cache, name ='mean of columns multiplication')\n",
    "benchmark(product_columns, df=dask_filtered, benchmarks=dask_benchmarks_cache, name='multiplication of columns')\n",
    "benchmark(mean_of_complicated_arithmetic_operation, dask_filtered, benchmarks=dask_benchmarks_cache, name='mean of complex arithmetic ops')\n",
    "benchmark(complicated_arithmetic_operation, dask_filtered, benchmarks=dask_benchmarks_cache, name='complex arithmetic ops')\n",
    "benchmark(value_counts, dask_filtered, benchmarks=dask_benchmarks_cache, name ='value counts')\n",
    "benchmark(groupby_statistics, dask_filtered, benchmarks=dask_benchmarks_cache, name='groupby statistics')\n",
    " \n",
    "other = groupby_statistics(dask_filtered)\n",
    "other.columns = pd.Index([e[0]+'_' + e[1] for e in other.columns.tolist()])\n",
    " \n",
    "benchmark(join_count, dask_filtered, benchmarks=dask_benchmarks_cache, name='join count', other=other)\n",
    "benchmark(join_data, dask_filtered, benchmarks=dask_benchmarks_cache, name='join', other=other)"
   ]
  },
  {
   "cell_type": "code",
   "execution_count": 17,
   "id": "34912413-7070-4a8b-bdbe-8debfbb76cd1",
   "metadata": {
    "tags": []
   },
   "outputs": [
    {
     "name": "stdout",
     "output_type": "stream",
     "text": [
      "                                duration\n",
      "task                                    \n",
      "read file                       0.009152\n",
      "count                           0.035454\n",
      "count index length              0.031214\n",
      "mean                            0.056138\n",
      "standard deviation              0.115044\n",
      "mean of columns addition        0.071108\n",
      "addition of columns             0.265028\n",
      "mean of columns multiplication  0.069629\n",
      "multiplication of columns       0.286330\n",
      "mean of complex arithmetic ops  0.388310\n",
      "complex arithmetic ops          0.605202\n",
      "value counts                    0.117488\n",
      "groupby statistics              0.271361\n",
      "join count                      0.070177\n",
      "join                            0.115017\n",
      "Guardado em Resultados/dask_cache1.\n"
     ]
    }
   ],
   "source": [
    "dask_res_cache = get_results(dask_benchmarks_cache).drop_duplicates(subset='task').set_index('task')\n",
    "print(dask_res_cache)\n",
    "filename_cache = 'Resultados/dask_cache1'\n",
    "dask_res_cache.to_parquet(filename_cache)\n",
    "print(f'Guardado em {filename_cache}.')"
   ]
  },
  {
   "cell_type": "code",
   "execution_count": 18,
   "id": "fc413d63-cd5d-4faf-a3ba-c971056bdff2",
   "metadata": {
    "tags": []
   },
   "outputs": [],
   "source": [
    "client.restart()"
   ]
  },
  {
   "cell_type": "markdown",
   "id": "022af41a-24e6-44fe-b973-6bd2c7240088",
   "metadata": {},
   "source": [
    "## Koalas"
   ]
  },
  {
   "cell_type": "code",
   "execution_count": 19,
   "id": "d587eaf2-faca-4877-986e-152d833944d0",
   "metadata": {
    "tags": []
   },
   "outputs": [
    {
     "name": "stderr",
     "output_type": "stream",
     "text": [
      "/opt/conda/lib/python3.10/site-packages/pyspark/pandas/utils.py:975: PandasAPIOnSparkAdviceWarning: If `index_col` is not specified for `read_parquet`, the default index is attached which can cause additional overhead.\n",
      "  warnings.warn(message, PandasAPIOnSparkAdviceWarning)\n",
      "                                                                                \r"
     ]
    }
   ],
   "source": [
    "koalas_data = ks.read_parquet('Ficheiros/taxi_csv/yellow_tripdata_2009-12.parquet')\n",
    "\n",
    "koalas_benchmarks = {\n",
    "    'duration': [],\n",
    "    'task': [],\n",
    "}\n",
    "\n",
    "koalas_benchmarks_filtered = {\n",
    "    'duration': [],\n",
    "    'task': [],\n",
    "}\n",
    "\n",
    "koalas_benchmarks_cache = {\n",
    "    'duration': [],\n",
    "    'task': [],\n",
    "}"
   ]
  },
  {
   "cell_type": "code",
   "execution_count": 20,
   "id": "92f489d7-5c9d-4867-a576-ecf333ba3545",
   "metadata": {
    "tags": []
   },
   "outputs": [
    {
     "name": "stdout",
     "output_type": "stream",
     "text": [
      "Index(['vendor_name', 'trip_pickup_datetime', 'trip_dropoff_datetime',\n",
      "       'passenger_count', 'trip_distance', 'start_lon', 'start_lat',\n",
      "       'rate_code', 'store_and_forward', 'end_lon', 'end_lat', 'payment_type',\n",
      "       'fare_amt', 'surcharge', 'mta_tax', 'tip_amt', 'tolls_amt',\n",
      "       'total_amt'],\n",
      "      dtype='object')\n"
     ]
    }
   ],
   "source": [
    "import pyspark.pandas as ps\n",
    "current_columns = koalas_data.columns\n",
    "rename_dict = {col: col.lower() for col in current_columns}\n",
    "koalas_data = koalas_data.rename(columns=rename_dict)\n",
    "columns_list = koalas_data.columns\n",
    "print(columns_list)"
   ]
  },
  {
   "cell_type": "code",
   "execution_count": 21,
   "id": "0a24baa7-ffc8-4f67-9714-f4308437c524",
   "metadata": {
    "tags": []
   },
   "outputs": [
    {
     "name": "stderr",
     "output_type": "stream",
     "text": [
      "/opt/conda/lib/python3.10/site-packages/pyspark/pandas/utils.py:975: PandasAPIOnSparkAdviceWarning: `to_pandas` loads all data into the driver's memory. It should only be used if the resulting pandas DataFrame is expected to be small.\n",
      "  warnings.warn(message, PandasAPIOnSparkAdviceWarning)\n",
      "/opt/conda/lib/python3.10/site-packages/pyspark/pandas/utils.py:975: PandasAPIOnSparkAdviceWarning: `to_pandas` loads all data into the driver's memory. It should only be used if the resulting pandas DataFrame is expected to be small.\n",
      "  warnings.warn(message, PandasAPIOnSparkAdviceWarning)\n"
     ]
    }
   ],
   "source": [
    "import pyspark.sql.functions as F\n",
    "def read_file_parquet(df=None):\n",
    "    return ks.read_parquet('Ficheiros/taxi_csv/yellow_tripdata_2009-12.parquet')\n",
    "  \n",
    "def count(df=None):\n",
    "    return len(df)\n",
    " \n",
    "def count_index_length(df=None):\n",
    "    return len(df.index)\n",
    " \n",
    "def mean(df):\n",
    "    return df.fare_amt.mean()\n",
    " \n",
    "def standard_deviation(df):\n",
    "    return df.fare_amt.std()\n",
    " \n",
    "def mean_of_sum(df):\n",
    "    return (df.fare_amt + df.tip_amt).mean()\n",
    " \n",
    "def sum_columns(df):\n",
    "    x = df.fare_amt + df.tip_amt\n",
    "    x.to_pandas()\n",
    "    return x\n",
    " \n",
    "def mean_of_product(df):\n",
    "    return (df.fare_amt * df.tip_amt).mean()\n",
    " \n",
    "def product_columns(df):\n",
    "    x = df.fare_amt * df.tip_amt\n",
    "    x.to_pandas()\n",
    "    return x\n",
    " \n",
    "def value_counts(df):\n",
    "    val_counts = df.fare_amt.value_counts()\n",
    "    val_counts.to_pandas()\n",
    "    return val_counts\n",
    "  \n",
    "def complicated_arithmetic_operation(df):\n",
    "    theta_1 = df.start_lon\n",
    "    phi_1 = df.start_lat\n",
    "    theta_2 = df.end_lon\n",
    "    phi_2 = df.end_lat\n",
    "    temp = (np.sin((theta_2 - theta_1) / 2 * np.pi / 180) ** 2\n",
    "           + np.cos(theta_1 * np.pi / 180) * np.cos(theta_2 * np.pi / 180) * np.sin((phi_2 - phi_1) / 2 * np.pi / 180) ** 2)\n",
    "    ret = np.multiply(np.arctan2(np.sqrt(temp), np.sqrt(1-temp)),2)\n",
    "    ret.to_pandas()\n",
    "    return ret\n",
    "  \n",
    "def mean_of_complicated_arithmetic_operation(df):\n",
    "    theta_1 = df.start_lon\n",
    "    phi_1 = df.start_lat\n",
    "    theta_2 = df.end_lon\n",
    "    phi_2 = df.end_lat\n",
    "    temp = (np.sin((theta_2 - theta_1) / 2 * np.pi / 180) ** 2\n",
    "           + np.cos(theta_1 * np.pi / 180) * np.cos(theta_2 * np.pi / 180) * np.sin((phi_2 - phi_1) / 2 * np.pi / 180) ** 2)\n",
    "    ret = np.multiply(np.arctan2(np.sqrt(temp), np.sqrt(1-temp)),2) \n",
    "    return ret.mean()\n",
    "  \n",
    "def groupby_statistics(df):\n",
    "    gb = df.groupby(by='passenger_count').agg(\n",
    "      {\n",
    "        'fare_amt': ['mean', 'std'], \n",
    "        'tip_amt': ['mean', 'std']\n",
    "      }\n",
    "    )\n",
    "    gb.to_pandas()\n",
    "    return gb\n",
    "  \n",
    "other = ks.DataFrame(groupby_statistics(koalas_data).to_pandas())\n",
    "other.columns = pd.Index([e[0]+'_' + e[1] for e in other.columns.tolist()])\n",
    " \n",
    "def join_count(df, other):\n",
    "    return len(df.merge(other.spark.hint(\"broadcast\"), left_index=True, right_index=True))\n",
    " \n",
    "def join_data(df, other):\n",
    "    ret = df.merge(other.spark.hint(\"broadcast\"), left_index=True, right_index=True)\n",
    "    ret.to_pandas()\n",
    "    return ret\n"
   ]
  },
  {
   "cell_type": "code",
   "execution_count": 22,
   "id": "82cd5143-a5e2-4b45-a8d2-5aab28239fb9",
   "metadata": {},
   "outputs": [
    {
     "name": "stderr",
     "output_type": "stream",
     "text": [
      "/opt/conda/lib/python3.10/site-packages/pyspark/pandas/utils.py:975: PandasAPIOnSparkAdviceWarning: If `index_col` is not specified for `read_parquet`, the default index is attached which can cause additional overhead.\n",
      "  warnings.warn(message, PandasAPIOnSparkAdviceWarning)\n"
     ]
    },
    {
     "name": "stdout",
     "output_type": "stream",
     "text": [
      "read file took: 0.1464862823486328 seconds\n",
      "count took: 0.2601010799407959 seconds\n",
      "count index length took: 0.17772793769836426 seconds\n",
      "mean took: 0.462935209274292 seconds\n",
      "standard deviation took: 0.5394208431243896 seconds\n",
      "mean of columns addition took: 0.6498839855194092 seconds\n",
      "mean of columns multiplication took: 0.6107261180877686 seconds\n"
     ]
    },
    {
     "name": "stderr",
     "output_type": "stream",
     "text": [
      "/opt/conda/lib/python3.10/site-packages/pyspark/pandas/utils.py:975: PandasAPIOnSparkAdviceWarning: `to_pandas` loads all data into the driver's memory. It should only be used if the resulting pandas Series is expected to be small.\n",
      "  warnings.warn(message, PandasAPIOnSparkAdviceWarning)\n",
      "[Stage 23:==================================================>       (7 + 1) / 8]\r"
     ]
    },
    {
     "name": "stdout",
     "output_type": "stream",
     "text": [
      "value counts took: 1.5572974681854248 seconds\n"
     ]
    },
    {
     "name": "stderr",
     "output_type": "stream",
     "text": [
      "                                                                                \r"
     ]
    },
    {
     "data": {
      "text/plain": [
       "1.5572974681854248"
      ]
     },
     "execution_count": 22,
     "metadata": {},
     "output_type": "execute_result"
    }
   ],
   "source": [
    "benchmark(read_file_parquet, df=None, benchmarks=koalas_benchmarks, name='read file')\n",
    "benchmark(count, df=koalas_data, benchmarks=koalas_benchmarks, name='count')\n",
    "benchmark(count_index_length, df=koalas_data, benchmarks=koalas_benchmarks, name='count index length')\n",
    "benchmark(mean, df=koalas_data, benchmarks=koalas_benchmarks, name='mean')\n",
    "benchmark(standard_deviation, df=koalas_data, benchmarks=koalas_benchmarks, name='standard deviation')\n",
    "benchmark(mean_of_sum, df=koalas_data, benchmarks=koalas_benchmarks, name='mean of columns addition')\n",
    "benchmark(mean_of_product, df=koalas_data, benchmarks=koalas_benchmarks, name='mean of columns multiplication')\n",
    "benchmark(value_counts, df=koalas_data, benchmarks=koalas_benchmarks, name='value counts')"
   ]
  },
  {
   "cell_type": "code",
   "execution_count": 23,
   "id": "cd82607b-b56d-4488-9ee6-bbf247464977",
   "metadata": {
    "tags": []
   },
   "outputs": [
    {
     "name": "stdout",
     "output_type": "stream",
     "text": [
      "                                duration\n",
      "task                                    \n",
      "read file                       0.146486\n",
      "count                           0.260101\n",
      "count index length              0.177728\n",
      "mean                            0.462935\n",
      "standard deviation              0.539421\n",
      "mean of columns addition        0.649884\n",
      "mean of columns multiplication  0.610726\n",
      "value counts                    1.557297\n",
      "Guardado em Resultados/koalas_standard1.\n"
     ]
    }
   ],
   "source": [
    "koalas_res_temp = get_results(koalas_benchmarks).drop_duplicates(subset='task').set_index('task')\n",
    "print(koalas_res_temp)\n",
    "filename = 'Resultados/koalas_standard1'\n",
    "koalas_res_temp.to_parquet(filename)\n",
    "print(f'Guardado em {filename}.')"
   ]
  },
  {
   "cell_type": "markdown",
   "id": "8ce575c6-d38c-4b84-a657-25ded31a031e",
   "metadata": {},
   "source": [
    "# Operaçoes com filtro"
   ]
  },
  {
   "cell_type": "code",
   "execution_count": 24,
   "id": "792d5175-772c-4409-ac28-f725a28fcd19",
   "metadata": {
    "tags": []
   },
   "outputs": [],
   "source": [
    "expr_filter = (koalas_data.tip_amt >= 1) & (koalas_data.tip_amt <= 5)\n",
    " \n",
    "def filter_data(df):\n",
    "    return df[expr_filter]\n",
    " \n",
    "koalas_filtered = filter_data(koalas_data)"
   ]
  },
  {
   "cell_type": "code",
   "execution_count": 25,
   "id": "f746880a-6060-4495-8d0a-615c75ade095",
   "metadata": {
    "tags": []
   },
   "outputs": [
    {
     "name": "stderr",
     "output_type": "stream",
     "text": [
      "/opt/conda/lib/python3.10/site-packages/pyspark/pandas/utils.py:975: PandasAPIOnSparkAdviceWarning: If `index_col` is not specified for `read_parquet`, the default index is attached which can cause additional overhead.\n",
      "  warnings.warn(message, PandasAPIOnSparkAdviceWarning)\n"
     ]
    },
    {
     "name": "stdout",
     "output_type": "stream",
     "text": [
      "read file took: 0.10840010643005371 seconds\n",
      "count took: 0.48075008392333984 seconds\n",
      "count index length took: 0.41168737411499023 seconds\n",
      "mean took: 0.6615478992462158 seconds\n",
      "standard deviation took: 0.6827282905578613 seconds\n",
      "mean of columns addition took: 0.6771893501281738 seconds\n",
      "mean of columns multiplication took: 0.6450648307800293 seconds\n"
     ]
    },
    {
     "name": "stderr",
     "output_type": "stream",
     "text": [
      "/opt/conda/lib/python3.10/site-packages/pyspark/pandas/utils.py:975: PandasAPIOnSparkAdviceWarning: `to_pandas` loads all data into the driver's memory. It should only be used if the resulting pandas Series is expected to be small.\n",
      "  warnings.warn(message, PandasAPIOnSparkAdviceWarning)\n",
      "/opt/conda/lib/python3.10/site-packages/pyspark/pandas/utils.py:975: PandasAPIOnSparkAdviceWarning: `to_pandas` loads all data into the driver's memory. It should only be used if the resulting pandas DataFrame is expected to be small.\n",
      "  warnings.warn(message, PandasAPIOnSparkAdviceWarning)\n"
     ]
    },
    {
     "name": "stdout",
     "output_type": "stream",
     "text": [
      "value counts took: 1.0894734859466553 seconds\n"
     ]
    },
    {
     "name": "stderr",
     "output_type": "stream",
     "text": [
      "/opt/conda/lib/python3.10/site-packages/pyspark/pandas/utils.py:975: PandasAPIOnSparkAdviceWarning: `to_pandas` loads all data into the driver's memory. It should only be used if the resulting pandas DataFrame is expected to be small.\n",
      "  warnings.warn(message, PandasAPIOnSparkAdviceWarning)\n"
     ]
    },
    {
     "name": "stdout",
     "output_type": "stream",
     "text": [
      "groupby statistics took: 1.0433964729309082 seconds\n"
     ]
    },
    {
     "name": "stderr",
     "output_type": "stream",
     "text": [
      "/opt/conda/lib/python3.10/site-packages/pyspark/pandas/utils.py:975: PandasAPIOnSparkAdviceWarning: `to_pandas` loads all data into the driver's memory. It should only be used if the resulting pandas DataFrame is expected to be small.\n",
      "  warnings.warn(message, PandasAPIOnSparkAdviceWarning)\n"
     ]
    }
   ],
   "source": [
    "benchmark(read_file_parquet, df=None, benchmarks=koalas_benchmarks_filtered, name='read file')\n",
    "benchmark(count, koalas_filtered, benchmarks=koalas_benchmarks_filtered, name='count')\n",
    "benchmark(count_index_length, koalas_filtered, benchmarks=koalas_benchmarks_filtered, name='count index length')\n",
    "benchmark(mean, koalas_filtered, benchmarks=koalas_benchmarks_filtered, name='mean')\n",
    "benchmark(standard_deviation, koalas_filtered, benchmarks=koalas_benchmarks_filtered, name='standard deviation')\n",
    "benchmark(mean_of_sum, koalas_filtered, benchmarks=koalas_benchmarks_filtered, name ='mean of columns addition')\n",
    "benchmark(mean_of_product, koalas_filtered, benchmarks=koalas_benchmarks_filtered, name ='mean of columns multiplication')\n",
    "benchmark(value_counts, koalas_filtered, benchmarks=koalas_benchmarks_filtered, name ='value counts')\n",
    "benchmark(groupby_statistics, koalas_filtered, benchmarks=koalas_benchmarks_filtered, name='groupby statistics')\n",
    "other = ks.DataFrame(groupby_statistics(koalas_filtered).to_pandas())\n",
    "other.columns = pd.Index([e[0]+'_' + e[1] for e in other.columns.tolist()])"
   ]
  },
  {
   "cell_type": "code",
   "execution_count": 26,
   "id": "be5cc37b-7332-4837-810a-360745c6954c",
   "metadata": {
    "tags": []
   },
   "outputs": [
    {
     "name": "stdout",
     "output_type": "stream",
     "text": [
      "                                duration\n",
      "task                                    \n",
      "read file                       0.108400\n",
      "count                           0.480750\n",
      "count index length              0.411687\n",
      "mean                            0.661548\n",
      "standard deviation              0.682728\n",
      "mean of columns addition        0.677189\n",
      "mean of columns multiplication  0.645065\n",
      "value counts                    1.089473\n",
      "groupby statistics              1.043396\n",
      "Guardado em Resultados/koalas_filtered1.\n"
     ]
    }
   ],
   "source": [
    "koalas_res_filtered = get_results(koalas_benchmarks_filtered).drop_duplicates(subset='task').set_index('task')\n",
    "print(koalas_res_filtered)\n",
    "filename_filter = 'Resultados/koalas_filtered1'\n",
    "koalas_res_filtered.to_parquet(filename_filter)\n",
    "\n",
    "print(f'Guardado em {filename_filter}.')"
   ]
  },
  {
   "cell_type": "markdown",
   "id": "cdeb4015-3d84-43d5-8a54-994e6acb9935",
   "metadata": {},
   "source": [
    "# Operações com filtro e caching"
   ]
  },
  {
   "cell_type": "code",
   "execution_count": 27,
   "id": "b6ee5159-3501-460d-9d70-60c815c3d451",
   "metadata": {
    "tags": []
   },
   "outputs": [
    {
     "name": "stderr",
     "output_type": "stream",
     "text": [
      "25/06/03 19:58:49 WARN BlockManager: Block rdd_150_3 could not be removed as it was not found on disk or in memory\n",
      "25/06/03 19:58:49 ERROR Executor: Exception in task 3.0 in stage 64.0 (TID 163)\n",
      "java.lang.OutOfMemoryError: Java heap space\n",
      "\tat java.base/java.nio.HeapByteBuffer.<init>(HeapByteBuffer.java:64)\n",
      "\tat java.base/java.nio.ByteBuffer.allocate(ByteBuffer.java:363)\n",
      "\tat org.apache.spark.storage.memory.SerializedValuesHolder.$anonfun$allocator$1(MemoryStore.scala:713)\n",
      "\tat org.apache.spark.storage.memory.SerializedValuesHolder.$anonfun$allocator$1$adapted(MemoryStore.scala:713)\n",
      "\tat org.apache.spark.storage.memory.SerializedValuesHolder$$Lambda$4153/0x00007fe3751013b0.apply(Unknown Source)\n",
      "\tat org.apache.spark.util.io.ChunkedByteBufferOutputStream.allocateNewChunkIfNeeded(ChunkedByteBufferOutputStream.scala:87)\n",
      "\tat org.apache.spark.util.io.ChunkedByteBufferOutputStream.write(ChunkedByteBufferOutputStream.scala:75)\n",
      "\tat org.apache.spark.storage.memory.RedirectableOutputStream.write(MemoryStore.scala:807)\n",
      "\tat net.jpountz.lz4.LZ4BlockOutputStream.flushBufferedData(LZ4BlockOutputStream.java:225)\n",
      "\tat net.jpountz.lz4.LZ4BlockOutputStream.write(LZ4BlockOutputStream.java:178)\n",
      "\tat java.base/java.io.ObjectOutputStream$BlockDataOutputStream.drain(ObjectOutputStream.java:1886)\n",
      "\tat java.base/java.io.ObjectOutputStream$BlockDataOutputStream.setBlockDataMode(ObjectOutputStream.java:1795)\n",
      "\tat java.base/java.io.ObjectOutputStream.writeExternalData(ObjectOutputStream.java:1466)\n",
      "\tat java.base/java.io.ObjectOutputStream.writeOrdinaryObject(ObjectOutputStream.java:1436)\n",
      "\tat java.base/java.io.ObjectOutputStream.writeObject0(ObjectOutputStream.java:1181)\n",
      "\tat java.base/java.io.ObjectOutputStream.writeObject(ObjectOutputStream.java:350)\n",
      "\tat org.apache.spark.serializer.JavaSerializationStream.writeObject(JavaSerializer.scala:46)\n",
      "\tat org.apache.spark.storage.memory.SerializedValuesHolder.storeValue(MemoryStore.scala:727)\n",
      "\tat org.apache.spark.storage.memory.MemoryStore.putIterator(MemoryStore.scala:224)\n",
      "\tat org.apache.spark.storage.memory.MemoryStore.putIteratorAsBytes(MemoryStore.scala:352)\n",
      "\tat org.apache.spark.storage.BlockManager.$anonfun$doPutIterator$1(BlockManager.scala:1548)\n",
      "\tat org.apache.spark.storage.BlockManager$$Lambda$1486/0x00007fe3748c5630.apply(Unknown Source)\n",
      "\tat org.apache.spark.storage.BlockManager.org$apache$spark$storage$BlockManager$$doPut(BlockManager.scala:1458)\n",
      "\tat org.apache.spark.storage.BlockManager.doPutIterator(BlockManager.scala:1522)\n",
      "\tat org.apache.spark.storage.BlockManager.getOrElseUpdate(BlockManager.scala:1349)\n",
      "\tat org.apache.spark.rdd.RDD.getOrCompute(RDD.scala:378)\n",
      "\tat org.apache.spark.rdd.RDD.iterator(RDD.scala:329)\n",
      "\tat org.apache.spark.scheduler.ResultTask.runTask(ResultTask.scala:92)\n",
      "\tat org.apache.spark.TaskContext.runTaskWithListeners(TaskContext.scala:161)\n",
      "\tat org.apache.spark.scheduler.Task.run(Task.scala:139)\n",
      "\tat org.apache.spark.executor.Executor$TaskRunner.$anonfun$run$3(Executor.scala:554)\n",
      "\tat org.apache.spark.executor.Executor$TaskRunner$$Lambda$1638/0x00007fe374914a78.apply(Unknown Source)\n",
      "25/06/03 19:58:49 ERROR SparkUncaughtExceptionHandler: Uncaught exception in thread Thread[Executor task launch worker for task 3.0 in stage 64.0 (TID 163),5,main]\n",
      "java.lang.OutOfMemoryError: Java heap space\n",
      "\tat java.base/java.nio.HeapByteBuffer.<init>(HeapByteBuffer.java:64)\n",
      "\tat java.base/java.nio.ByteBuffer.allocate(ByteBuffer.java:363)\n",
      "\tat org.apache.spark.storage.memory.SerializedValuesHolder.$anonfun$allocator$1(MemoryStore.scala:713)\n",
      "\tat org.apache.spark.storage.memory.SerializedValuesHolder.$anonfun$allocator$1$adapted(MemoryStore.scala:713)\n",
      "\tat org.apache.spark.storage.memory.SerializedValuesHolder$$Lambda$4153/0x00007fe3751013b0.apply(Unknown Source)\n",
      "\tat org.apache.spark.util.io.ChunkedByteBufferOutputStream.allocateNewChunkIfNeeded(ChunkedByteBufferOutputStream.scala:87)\n",
      "\tat org.apache.spark.util.io.ChunkedByteBufferOutputStream.write(ChunkedByteBufferOutputStream.scala:75)\n",
      "\tat org.apache.spark.storage.memory.RedirectableOutputStream.write(MemoryStore.scala:807)\n",
      "\tat net.jpountz.lz4.LZ4BlockOutputStream.flushBufferedData(LZ4BlockOutputStream.java:225)\n",
      "\tat net.jpountz.lz4.LZ4BlockOutputStream.write(LZ4BlockOutputStream.java:178)\n",
      "\tat java.base/java.io.ObjectOutputStream$BlockDataOutputStream.drain(ObjectOutputStream.java:1886)\n",
      "\tat java.base/java.io.ObjectOutputStream$BlockDataOutputStream.setBlockDataMode(ObjectOutputStream.java:1795)\n",
      "\tat java.base/java.io.ObjectOutputStream.writeExternalData(ObjectOutputStream.java:1466)\n",
      "\tat java.base/java.io.ObjectOutputStream.writeOrdinaryObject(ObjectOutputStream.java:1436)\n",
      "\tat java.base/java.io.ObjectOutputStream.writeObject0(ObjectOutputStream.java:1181)\n",
      "\tat java.base/java.io.ObjectOutputStream.writeObject(ObjectOutputStream.java:350)\n",
      "\tat org.apache.spark.serializer.JavaSerializationStream.writeObject(JavaSerializer.scala:46)\n",
      "\tat org.apache.spark.storage.memory.SerializedValuesHolder.storeValue(MemoryStore.scala:727)\n",
      "\tat org.apache.spark.storage.memory.MemoryStore.putIterator(MemoryStore.scala:224)\n",
      "\tat org.apache.spark.storage.memory.MemoryStore.putIteratorAsBytes(MemoryStore.scala:352)\n",
      "\tat org.apache.spark.storage.BlockManager.$anonfun$doPutIterator$1(BlockManager.scala:1548)\n",
      "\tat org.apache.spark.storage.BlockManager$$Lambda$1486/0x00007fe3748c5630.apply(Unknown Source)\n",
      "\tat org.apache.spark.storage.BlockManager.org$apache$spark$storage$BlockManager$$doPut(BlockManager.scala:1458)\n",
      "\tat org.apache.spark.storage.BlockManager.doPutIterator(BlockManager.scala:1522)\n",
      "\tat org.apache.spark.storage.BlockManager.getOrElseUpdate(BlockManager.scala:1349)\n",
      "\tat org.apache.spark.rdd.RDD.getOrCompute(RDD.scala:378)\n",
      "\tat org.apache.spark.rdd.RDD.iterator(RDD.scala:329)\n",
      "\tat org.apache.spark.scheduler.ResultTask.runTask(ResultTask.scala:92)\n",
      "\tat org.apache.spark.TaskContext.runTaskWithListeners(TaskContext.scala:161)\n",
      "\tat org.apache.spark.scheduler.Task.run(Task.scala:139)\n",
      "\tat org.apache.spark.executor.Executor$TaskRunner.$anonfun$run$3(Executor.scala:554)\n",
      "\tat org.apache.spark.executor.Executor$TaskRunner$$Lambda$1638/0x00007fe374914a78.apply(Unknown Source)\n",
      "25/06/03 19:58:49 WARN TaskSetManager: Lost task 3.0 in stage 64.0 (TID 163) (instance-20250601-232402.us-central1-a.c.my-project2-461622.internal executor driver): java.lang.OutOfMemoryError: Java heap space\n",
      "\tat java.base/java.nio.HeapByteBuffer.<init>(HeapByteBuffer.java:64)\n",
      "\tat java.base/java.nio.ByteBuffer.allocate(ByteBuffer.java:363)\n",
      "\tat org.apache.spark.storage.memory.SerializedValuesHolder.$anonfun$allocator$1(MemoryStore.scala:713)\n",
      "\tat org.apache.spark.storage.memory.SerializedValuesHolder.$anonfun$allocator$1$adapted(MemoryStore.scala:713)\n",
      "\tat org.apache.spark.storage.memory.SerializedValuesHolder$$Lambda$4153/0x00007fe3751013b0.apply(Unknown Source)\n",
      "\tat org.apache.spark.util.io.ChunkedByteBufferOutputStream.allocateNewChunkIfNeeded(ChunkedByteBufferOutputStream.scala:87)\n",
      "\tat org.apache.spark.util.io.ChunkedByteBufferOutputStream.write(ChunkedByteBufferOutputStream.scala:75)\n",
      "\tat org.apache.spark.storage.memory.RedirectableOutputStream.write(MemoryStore.scala:807)\n",
      "\tat net.jpountz.lz4.LZ4BlockOutputStream.flushBufferedData(LZ4BlockOutputStream.java:225)\n",
      "\tat net.jpountz.lz4.LZ4BlockOutputStream.write(LZ4BlockOutputStream.java:178)\n",
      "\tat java.base/java.io.ObjectOutputStream$BlockDataOutputStream.drain(ObjectOutputStream.java:1886)\n",
      "\tat java.base/java.io.ObjectOutputStream$BlockDataOutputStream.setBlockDataMode(ObjectOutputStream.java:1795)\n",
      "\tat java.base/java.io.ObjectOutputStream.writeExternalData(ObjectOutputStream.java:1466)\n",
      "\tat java.base/java.io.ObjectOutputStream.writeOrdinaryObject(ObjectOutputStream.java:1436)\n",
      "\tat java.base/java.io.ObjectOutputStream.writeObject0(ObjectOutputStream.java:1181)\n",
      "\tat java.base/java.io.ObjectOutputStream.writeObject(ObjectOutputStream.java:350)\n",
      "\tat org.apache.spark.serializer.JavaSerializationStream.writeObject(JavaSerializer.scala:46)\n",
      "\tat org.apache.spark.storage.memory.SerializedValuesHolder.storeValue(MemoryStore.scala:727)\n",
      "\tat org.apache.spark.storage.memory.MemoryStore.putIterator(MemoryStore.scala:224)\n",
      "\tat org.apache.spark.storage.memory.MemoryStore.putIteratorAsBytes(MemoryStore.scala:352)\n",
      "\tat org.apache.spark.storage.BlockManager.$anonfun$doPutIterator$1(BlockManager.scala:1548)\n",
      "\tat org.apache.spark.storage.BlockManager$$Lambda$1486/0x00007fe3748c5630.apply(Unknown Source)\n",
      "\tat org.apache.spark.storage.BlockManager.org$apache$spark$storage$BlockManager$$doPut(BlockManager.scala:1458)\n",
      "\tat org.apache.spark.storage.BlockManager.doPutIterator(BlockManager.scala:1522)\n",
      "\tat org.apache.spark.storage.BlockManager.getOrElseUpdate(BlockManager.scala:1349)\n",
      "\tat org.apache.spark.rdd.RDD.getOrCompute(RDD.scala:378)\n",
      "\tat org.apache.spark.rdd.RDD.iterator(RDD.scala:329)\n",
      "\tat org.apache.spark.scheduler.ResultTask.runTask(ResultTask.scala:92)\n",
      "\tat org.apache.spark.TaskContext.runTaskWithListeners(TaskContext.scala:161)\n",
      "\tat org.apache.spark.scheduler.Task.run(Task.scala:139)\n",
      "\tat org.apache.spark.executor.Executor$TaskRunner.$anonfun$run$3(Executor.scala:554)\n",
      "\tat org.apache.spark.executor.Executor$TaskRunner$$Lambda$1638/0x00007fe374914a78.apply(Unknown Source)\n",
      "\n",
      "25/06/03 19:58:49 ERROR TaskSetManager: Task 3 in stage 64.0 failed 1 times; aborting job\n",
      "ERROR:root:Exception while sending command.\n",
      "Traceback (most recent call last):\n",
      "  File \"/opt/conda/lib/python3.10/site-packages/py4j/clientserver.py\", line 516, in send_command\n",
      "    raise Py4JNetworkError(\"Answer from Java side is empty\")\n",
      "py4j.protocol.Py4JNetworkError: Answer from Java side is empty\n",
      "\n",
      "During handling of the above exception, another exception occurred:\n",
      "\n",
      "Traceback (most recent call last):\n",
      "  File \"/opt/conda/lib/python3.10/site-packages/py4j/java_gateway.py\", line 1038, in send_command\n",
      "    response = connection.send_command(command)\n",
      "  File \"/opt/conda/lib/python3.10/site-packages/py4j/clientserver.py\", line 539, in send_command\n",
      "    raise Py4JNetworkError(\n",
      "py4j.protocol.Py4JNetworkError: Error while sending or receiving\n",
      "ERROR:root:Exception while sending command.\n",
      "Traceback (most recent call last):\n",
      "  File \"/opt/conda/lib/python3.10/site-packages/py4j/clientserver.py\", line 516, in send_command\n",
      "    raise Py4JNetworkError(\"Answer from Java side is empty\")\n",
      "py4j.protocol.Py4JNetworkError: Answer from Java side is empty\n",
      "\n",
      "During handling of the above exception, another exception occurred:\n",
      "\n",
      "Traceback (most recent call last):\n",
      "  File \"/opt/conda/lib/python3.10/site-packages/py4j/java_gateway.py\", line 1038, in send_command\n",
      "    response = connection.send_command(command)\n",
      "  File \"/opt/conda/lib/python3.10/site-packages/py4j/clientserver.py\", line 539, in send_command\n",
      "    raise Py4JNetworkError(\n",
      "py4j.protocol.Py4JNetworkError: Error while sending or receiving\n"
     ]
    },
    {
     "ename": "Py4JError",
     "evalue": "An error occurred while calling o773.count",
     "output_type": "error",
     "traceback": [
      "\u001b[0;31m---------------------------------------------------------------------------\u001b[0m",
      "\u001b[0;31mPy4JError\u001b[0m                                 Traceback (most recent call last)",
      "Cell \u001b[0;32mIn[27], line 2\u001b[0m\n\u001b[1;32m      1\u001b[0m koalas_filtered \u001b[38;5;241m=\u001b[39m koalas_filtered\u001b[38;5;241m.\u001b[39mspark\u001b[38;5;241m.\u001b[39mcache()\n\u001b[0;32m----> 2\u001b[0m \u001b[38;5;28mprint\u001b[39m(\u001b[38;5;124mf\u001b[39m\u001b[38;5;124m'\u001b[39m\u001b[38;5;124mEnforce caching: \u001b[39m\u001b[38;5;132;01m{\u001b[39;00m\u001b[38;5;28;43mlen\u001b[39;49m\u001b[43m(\u001b[49m\u001b[43mkoalas_filtered\u001b[49m\u001b[43m)\u001b[49m\u001b[38;5;132;01m}\u001b[39;00m\u001b[38;5;124m rows of filtered data\u001b[39m\u001b[38;5;124m'\u001b[39m)\n",
      "File \u001b[0;32m/opt/conda/lib/python3.10/site-packages/pyspark/pandas/frame.py:13543\u001b[0m, in \u001b[0;36mDataFrame.__len__\u001b[0;34m(self)\u001b[0m\n\u001b[1;32m  13542\u001b[0m \u001b[38;5;28;01mdef\u001b[39;00m\u001b[38;5;250m \u001b[39m\u001b[38;5;21m__len__\u001b[39m(\u001b[38;5;28mself\u001b[39m) \u001b[38;5;241m-\u001b[39m\u001b[38;5;241m>\u001b[39m \u001b[38;5;28mint\u001b[39m:\n\u001b[0;32m> 13543\u001b[0m     \u001b[38;5;28;01mreturn\u001b[39;00m \u001b[38;5;28;43mself\u001b[39;49m\u001b[38;5;241;43m.\u001b[39;49m\u001b[43m_internal\u001b[49m\u001b[38;5;241;43m.\u001b[39;49m\u001b[43mresolved_copy\u001b[49m\u001b[38;5;241;43m.\u001b[39;49m\u001b[43mspark_frame\u001b[49m\u001b[38;5;241;43m.\u001b[39;49m\u001b[43mcount\u001b[49m\u001b[43m(\u001b[49m\u001b[43m)\u001b[49m\n",
      "File \u001b[0;32m/opt/conda/lib/python3.10/site-packages/pyspark/sql/dataframe.py:1195\u001b[0m, in \u001b[0;36mDataFrame.count\u001b[0;34m(self)\u001b[0m\n\u001b[1;32m   1172\u001b[0m \u001b[38;5;28;01mdef\u001b[39;00m\u001b[38;5;250m \u001b[39m\u001b[38;5;21mcount\u001b[39m(\u001b[38;5;28mself\u001b[39m) \u001b[38;5;241m-\u001b[39m\u001b[38;5;241m>\u001b[39m \u001b[38;5;28mint\u001b[39m:\n\u001b[1;32m   1173\u001b[0m \u001b[38;5;250m    \u001b[39m\u001b[38;5;124;03m\"\"\"Returns the number of rows in this :class:`DataFrame`.\u001b[39;00m\n\u001b[1;32m   1174\u001b[0m \n\u001b[1;32m   1175\u001b[0m \u001b[38;5;124;03m    .. versionadded:: 1.3.0\u001b[39;00m\n\u001b[0;32m   (...)\u001b[0m\n\u001b[1;32m   1193\u001b[0m \u001b[38;5;124;03m    3\u001b[39;00m\n\u001b[1;32m   1194\u001b[0m \u001b[38;5;124;03m    \"\"\"\u001b[39;00m\n\u001b[0;32m-> 1195\u001b[0m     \u001b[38;5;28;01mreturn\u001b[39;00m \u001b[38;5;28mint\u001b[39m(\u001b[38;5;28;43mself\u001b[39;49m\u001b[38;5;241;43m.\u001b[39;49m\u001b[43m_jdf\u001b[49m\u001b[38;5;241;43m.\u001b[39;49m\u001b[43mcount\u001b[49m\u001b[43m(\u001b[49m\u001b[43m)\u001b[49m)\n",
      "File \u001b[0;32m/opt/conda/lib/python3.10/site-packages/py4j/java_gateway.py:1322\u001b[0m, in \u001b[0;36mJavaMember.__call__\u001b[0;34m(self, *args)\u001b[0m\n\u001b[1;32m   1316\u001b[0m command \u001b[38;5;241m=\u001b[39m proto\u001b[38;5;241m.\u001b[39mCALL_COMMAND_NAME \u001b[38;5;241m+\u001b[39m\\\n\u001b[1;32m   1317\u001b[0m     \u001b[38;5;28mself\u001b[39m\u001b[38;5;241m.\u001b[39mcommand_header \u001b[38;5;241m+\u001b[39m\\\n\u001b[1;32m   1318\u001b[0m     args_command \u001b[38;5;241m+\u001b[39m\\\n\u001b[1;32m   1319\u001b[0m     proto\u001b[38;5;241m.\u001b[39mEND_COMMAND_PART\n\u001b[1;32m   1321\u001b[0m answer \u001b[38;5;241m=\u001b[39m \u001b[38;5;28mself\u001b[39m\u001b[38;5;241m.\u001b[39mgateway_client\u001b[38;5;241m.\u001b[39msend_command(command)\n\u001b[0;32m-> 1322\u001b[0m return_value \u001b[38;5;241m=\u001b[39m \u001b[43mget_return_value\u001b[49m\u001b[43m(\u001b[49m\n\u001b[1;32m   1323\u001b[0m \u001b[43m    \u001b[49m\u001b[43manswer\u001b[49m\u001b[43m,\u001b[49m\u001b[43m \u001b[49m\u001b[38;5;28;43mself\u001b[39;49m\u001b[38;5;241;43m.\u001b[39;49m\u001b[43mgateway_client\u001b[49m\u001b[43m,\u001b[49m\u001b[43m \u001b[49m\u001b[38;5;28;43mself\u001b[39;49m\u001b[38;5;241;43m.\u001b[39;49m\u001b[43mtarget_id\u001b[49m\u001b[43m,\u001b[49m\u001b[43m \u001b[49m\u001b[38;5;28;43mself\u001b[39;49m\u001b[38;5;241;43m.\u001b[39;49m\u001b[43mname\u001b[49m\u001b[43m)\u001b[49m\n\u001b[1;32m   1325\u001b[0m \u001b[38;5;28;01mfor\u001b[39;00m temp_arg \u001b[38;5;129;01min\u001b[39;00m temp_args:\n\u001b[1;32m   1326\u001b[0m     \u001b[38;5;28;01mif\u001b[39;00m \u001b[38;5;28mhasattr\u001b[39m(temp_arg, \u001b[38;5;124m\"\u001b[39m\u001b[38;5;124m_detach\u001b[39m\u001b[38;5;124m\"\u001b[39m):\n",
      "File \u001b[0;32m/opt/conda/lib/python3.10/site-packages/pyspark/errors/exceptions/captured.py:169\u001b[0m, in \u001b[0;36mcapture_sql_exception.<locals>.deco\u001b[0;34m(*a, **kw)\u001b[0m\n\u001b[1;32m    167\u001b[0m \u001b[38;5;28;01mdef\u001b[39;00m\u001b[38;5;250m \u001b[39m\u001b[38;5;21mdeco\u001b[39m(\u001b[38;5;241m*\u001b[39ma: Any, \u001b[38;5;241m*\u001b[39m\u001b[38;5;241m*\u001b[39mkw: Any) \u001b[38;5;241m-\u001b[39m\u001b[38;5;241m>\u001b[39m Any:\n\u001b[1;32m    168\u001b[0m     \u001b[38;5;28;01mtry\u001b[39;00m:\n\u001b[0;32m--> 169\u001b[0m         \u001b[38;5;28;01mreturn\u001b[39;00m \u001b[43mf\u001b[49m\u001b[43m(\u001b[49m\u001b[38;5;241;43m*\u001b[39;49m\u001b[43ma\u001b[49m\u001b[43m,\u001b[49m\u001b[43m \u001b[49m\u001b[38;5;241;43m*\u001b[39;49m\u001b[38;5;241;43m*\u001b[39;49m\u001b[43mkw\u001b[49m\u001b[43m)\u001b[49m\n\u001b[1;32m    170\u001b[0m     \u001b[38;5;28;01mexcept\u001b[39;00m Py4JJavaError \u001b[38;5;28;01mas\u001b[39;00m e:\n\u001b[1;32m    171\u001b[0m         converted \u001b[38;5;241m=\u001b[39m convert_exception(e\u001b[38;5;241m.\u001b[39mjava_exception)\n",
      "File \u001b[0;32m/opt/conda/lib/python3.10/site-packages/py4j/protocol.py:334\u001b[0m, in \u001b[0;36mget_return_value\u001b[0;34m(answer, gateway_client, target_id, name)\u001b[0m\n\u001b[1;32m    330\u001b[0m             \u001b[38;5;28;01mraise\u001b[39;00m Py4JError(\n\u001b[1;32m    331\u001b[0m                 \u001b[38;5;124m\"\u001b[39m\u001b[38;5;124mAn error occurred while calling \u001b[39m\u001b[38;5;132;01m{0}\u001b[39;00m\u001b[38;5;132;01m{1}\u001b[39;00m\u001b[38;5;132;01m{2}\u001b[39;00m\u001b[38;5;124m. Trace:\u001b[39m\u001b[38;5;130;01m\\n\u001b[39;00m\u001b[38;5;132;01m{3}\u001b[39;00m\u001b[38;5;130;01m\\n\u001b[39;00m\u001b[38;5;124m\"\u001b[39m\u001b[38;5;241m.\u001b[39m\n\u001b[1;32m    332\u001b[0m                 \u001b[38;5;28mformat\u001b[39m(target_id, \u001b[38;5;124m\"\u001b[39m\u001b[38;5;124m.\u001b[39m\u001b[38;5;124m\"\u001b[39m, name, value))\n\u001b[1;32m    333\u001b[0m     \u001b[38;5;28;01melse\u001b[39;00m:\n\u001b[0;32m--> 334\u001b[0m         \u001b[38;5;28;01mraise\u001b[39;00m Py4JError(\n\u001b[1;32m    335\u001b[0m             \u001b[38;5;124m\"\u001b[39m\u001b[38;5;124mAn error occurred while calling \u001b[39m\u001b[38;5;132;01m{0}\u001b[39;00m\u001b[38;5;132;01m{1}\u001b[39;00m\u001b[38;5;132;01m{2}\u001b[39;00m\u001b[38;5;124m\"\u001b[39m\u001b[38;5;241m.\u001b[39m\n\u001b[1;32m    336\u001b[0m             \u001b[38;5;28mformat\u001b[39m(target_id, \u001b[38;5;124m\"\u001b[39m\u001b[38;5;124m.\u001b[39m\u001b[38;5;124m\"\u001b[39m, name))\n\u001b[1;32m    337\u001b[0m \u001b[38;5;28;01melse\u001b[39;00m:\n\u001b[1;32m    338\u001b[0m     \u001b[38;5;28mtype\u001b[39m \u001b[38;5;241m=\u001b[39m answer[\u001b[38;5;241m1\u001b[39m]\n",
      "\u001b[0;31mPy4JError\u001b[0m: An error occurred while calling o773.count"
     ]
    }
   ],
   "source": [
    "koalas_filtered = koalas_filtered.spark.cache()\n",
    "print(f'Enforce caching: {len(koalas_filtered)} rows of filtered data')"
   ]
  },
  {
   "cell_type": "code",
   "execution_count": 28,
   "id": "326d11df-5f75-45ed-8f6e-2244c0b914a1",
   "metadata": {
    "tags": []
   },
   "outputs": [
    {
     "name": "stderr",
     "output_type": "stream",
     "text": [
      "/opt/conda/lib/python3.10/site-packages/pyspark/pandas/utils.py:975: PandasAPIOnSparkAdviceWarning: If `index_col` is not specified for `read_parquet`, the default index is attached which can cause additional overhead.\n",
      "  warnings.warn(message, PandasAPIOnSparkAdviceWarning)\n"
     ]
    },
    {
     "ename": "ConnectionRefusedError",
     "evalue": "[Errno 111] Connection refused",
     "output_type": "error",
     "traceback": [
      "\u001b[0;31m---------------------------------------------------------------------------\u001b[0m",
      "\u001b[0;31mConnectionRefusedError\u001b[0m                    Traceback (most recent call last)",
      "Cell \u001b[0;32mIn[28], line 1\u001b[0m\n\u001b[0;32m----> 1\u001b[0m \u001b[43mbenchmark\u001b[49m\u001b[43m(\u001b[49m\u001b[43mread_file_parquet\u001b[49m\u001b[43m,\u001b[49m\u001b[43m \u001b[49m\u001b[43mdf\u001b[49m\u001b[38;5;241;43m=\u001b[39;49m\u001b[38;5;28;43;01mNone\u001b[39;49;00m\u001b[43m,\u001b[49m\u001b[43m \u001b[49m\u001b[43mbenchmarks\u001b[49m\u001b[38;5;241;43m=\u001b[39;49m\u001b[43mkoalas_benchmarks_cache\u001b[49m\u001b[43m,\u001b[49m\u001b[43m \u001b[49m\u001b[43mname\u001b[49m\u001b[38;5;241;43m=\u001b[39;49m\u001b[38;5;124;43m'\u001b[39;49m\u001b[38;5;124;43mread file\u001b[39;49m\u001b[38;5;124;43m'\u001b[39;49m\u001b[43m)\u001b[49m\n\u001b[1;32m      2\u001b[0m benchmark(count, df\u001b[38;5;241m=\u001b[39mkoalas_filtered, benchmarks\u001b[38;5;241m=\u001b[39mkoalas_benchmarks_cache, name\u001b[38;5;241m=\u001b[39m\u001b[38;5;124m'\u001b[39m\u001b[38;5;124mcount\u001b[39m\u001b[38;5;124m'\u001b[39m)\n\u001b[1;32m      3\u001b[0m benchmark(count_index_length, df\u001b[38;5;241m=\u001b[39mkoalas_filtered, benchmarks\u001b[38;5;241m=\u001b[39mkoalas_benchmarks_cache, name\u001b[38;5;241m=\u001b[39m\u001b[38;5;124m'\u001b[39m\u001b[38;5;124mcount index length\u001b[39m\u001b[38;5;124m'\u001b[39m)\n",
      "Cell \u001b[0;32mIn[6], line 3\u001b[0m, in \u001b[0;36mbenchmark\u001b[0;34m(f, df, benchmarks, name, **kwargs)\u001b[0m\n\u001b[1;32m      1\u001b[0m \u001b[38;5;28;01mdef\u001b[39;00m\u001b[38;5;250m \u001b[39m\u001b[38;5;21mbenchmark\u001b[39m(f, df, benchmarks, name, \u001b[38;5;241m*\u001b[39m\u001b[38;5;241m*\u001b[39mkwargs):\n\u001b[1;32m      2\u001b[0m     start_time \u001b[38;5;241m=\u001b[39m time\u001b[38;5;241m.\u001b[39mtime()\n\u001b[0;32m----> 3\u001b[0m     ret \u001b[38;5;241m=\u001b[39m \u001b[43mf\u001b[49m\u001b[43m(\u001b[49m\u001b[43mdf\u001b[49m\u001b[43m,\u001b[49m\u001b[43m \u001b[49m\u001b[38;5;241;43m*\u001b[39;49m\u001b[38;5;241;43m*\u001b[39;49m\u001b[43mkwargs\u001b[49m\u001b[43m)\u001b[49m\n\u001b[1;32m      4\u001b[0m     benchmarks[\u001b[38;5;124m'\u001b[39m\u001b[38;5;124mduration\u001b[39m\u001b[38;5;124m'\u001b[39m]\u001b[38;5;241m.\u001b[39mappend(time\u001b[38;5;241m.\u001b[39mtime() \u001b[38;5;241m-\u001b[39m start_time)\n\u001b[1;32m      5\u001b[0m     benchmarks[\u001b[38;5;124m'\u001b[39m\u001b[38;5;124mtask\u001b[39m\u001b[38;5;124m'\u001b[39m]\u001b[38;5;241m.\u001b[39mappend(name)\n",
      "Cell \u001b[0;32mIn[21], line 3\u001b[0m, in \u001b[0;36mread_file_parquet\u001b[0;34m(df)\u001b[0m\n\u001b[1;32m      2\u001b[0m \u001b[38;5;28;01mdef\u001b[39;00m\u001b[38;5;250m \u001b[39m\u001b[38;5;21mread_file_parquet\u001b[39m(df\u001b[38;5;241m=\u001b[39m\u001b[38;5;28;01mNone\u001b[39;00m):\n\u001b[0;32m----> 3\u001b[0m     \u001b[38;5;28;01mreturn\u001b[39;00m \u001b[43mks\u001b[49m\u001b[38;5;241;43m.\u001b[39;49m\u001b[43mread_parquet\u001b[49m\u001b[43m(\u001b[49m\u001b[38;5;124;43m'\u001b[39;49m\u001b[38;5;124;43mFicheiros/taxi_csv/yellow_tripdata_2009-12.parquet\u001b[39;49m\u001b[38;5;124;43m'\u001b[39;49m\u001b[43m)\u001b[49m\n",
      "File \u001b[0;32m/opt/conda/lib/python3.10/site-packages/pyspark/pandas/namespace.py:860\u001b[0m, in \u001b[0;36mread_parquet\u001b[0;34m(path, columns, index_col, pandas_metadata, **options)\u001b[0m\n\u001b[1;32m    848\u001b[0m         \u001b[38;5;28;01mreturn\u001b[39;00m pd\u001b[38;5;241m.\u001b[39mDataFrame({\u001b[38;5;124m\"\u001b[39m\u001b[38;5;124mindex_col\u001b[39m\u001b[38;5;124m\"\u001b[39m: [\u001b[38;5;28;01mNone\u001b[39;00m], \u001b[38;5;124m\"\u001b[39m\u001b[38;5;124mindex_names\u001b[39m\u001b[38;5;124m\"\u001b[39m: [\u001b[38;5;28;01mNone\u001b[39;00m]})\n\u001b[1;32m    850\u001b[0m     index_col, index_names \u001b[38;5;241m=\u001b[39m (\n\u001b[1;32m    851\u001b[0m         default_session()\n\u001b[1;32m    852\u001b[0m         \u001b[38;5;241m.\u001b[39mread\u001b[38;5;241m.\u001b[39mformat(\u001b[38;5;124m\"\u001b[39m\u001b[38;5;124mbinaryFile\u001b[39m\u001b[38;5;124m\"\u001b[39m)\n\u001b[0;32m   (...)\u001b[0m\n\u001b[1;32m    857\u001b[0m         \u001b[38;5;241m.\u001b[39mhead()\n\u001b[1;32m    858\u001b[0m     )\n\u001b[0;32m--> 860\u001b[0m psdf \u001b[38;5;241m=\u001b[39m \u001b[43mread_spark_io\u001b[49m\u001b[43m(\u001b[49m\u001b[43mpath\u001b[49m\u001b[38;5;241;43m=\u001b[39;49m\u001b[43mpath\u001b[49m\u001b[43m,\u001b[49m\u001b[43m \u001b[49m\u001b[38;5;28;43mformat\u001b[39;49m\u001b[38;5;241;43m=\u001b[39;49m\u001b[38;5;124;43m\"\u001b[39;49m\u001b[38;5;124;43mparquet\u001b[39;49m\u001b[38;5;124;43m\"\u001b[39;49m\u001b[43m,\u001b[49m\u001b[43m \u001b[49m\u001b[43moptions\u001b[49m\u001b[38;5;241;43m=\u001b[39;49m\u001b[43moptions\u001b[49m\u001b[43m,\u001b[49m\u001b[43m \u001b[49m\u001b[43mindex_col\u001b[49m\u001b[38;5;241;43m=\u001b[39;49m\u001b[43mindex_col\u001b[49m\u001b[43m)\u001b[49m\n\u001b[1;32m    862\u001b[0m \u001b[38;5;28;01mif\u001b[39;00m columns \u001b[38;5;129;01mis\u001b[39;00m \u001b[38;5;129;01mnot\u001b[39;00m \u001b[38;5;28;01mNone\u001b[39;00m:\n\u001b[1;32m    863\u001b[0m     new_columns \u001b[38;5;241m=\u001b[39m [c \u001b[38;5;28;01mfor\u001b[39;00m c \u001b[38;5;129;01min\u001b[39;00m columns \u001b[38;5;28;01mif\u001b[39;00m c \u001b[38;5;129;01min\u001b[39;00m psdf\u001b[38;5;241m.\u001b[39mcolumns]\n",
      "File \u001b[0;32m/opt/conda/lib/python3.10/site-packages/pyspark/pandas/namespace.py:753\u001b[0m, in \u001b[0;36mread_spark_io\u001b[0;34m(path, format, schema, index_col, **options)\u001b[0m\n\u001b[1;32m    750\u001b[0m \u001b[38;5;28;01mif\u001b[39;00m \u001b[38;5;124m\"\u001b[39m\u001b[38;5;124moptions\u001b[39m\u001b[38;5;124m\"\u001b[39m \u001b[38;5;129;01min\u001b[39;00m options \u001b[38;5;129;01mand\u001b[39;00m \u001b[38;5;28misinstance\u001b[39m(options\u001b[38;5;241m.\u001b[39mget(\u001b[38;5;124m\"\u001b[39m\u001b[38;5;124moptions\u001b[39m\u001b[38;5;124m\"\u001b[39m), \u001b[38;5;28mdict\u001b[39m) \u001b[38;5;129;01mand\u001b[39;00m \u001b[38;5;28mlen\u001b[39m(options) \u001b[38;5;241m==\u001b[39m \u001b[38;5;241m1\u001b[39m:\n\u001b[1;32m    751\u001b[0m     options \u001b[38;5;241m=\u001b[39m options\u001b[38;5;241m.\u001b[39mget(\u001b[38;5;124m\"\u001b[39m\u001b[38;5;124moptions\u001b[39m\u001b[38;5;124m\"\u001b[39m)\n\u001b[0;32m--> 753\u001b[0m sdf \u001b[38;5;241m=\u001b[39m \u001b[43mdefault_session\u001b[49m\u001b[43m(\u001b[49m\u001b[43m)\u001b[49m\u001b[38;5;241m.\u001b[39mread\u001b[38;5;241m.\u001b[39mload(path\u001b[38;5;241m=\u001b[39mpath, \u001b[38;5;28mformat\u001b[39m\u001b[38;5;241m=\u001b[39m\u001b[38;5;28mformat\u001b[39m, schema\u001b[38;5;241m=\u001b[39mschema, \u001b[38;5;241m*\u001b[39m\u001b[38;5;241m*\u001b[39moptions)\n\u001b[1;32m    754\u001b[0m index_spark_columns, index_names \u001b[38;5;241m=\u001b[39m _get_index_map(sdf, index_col)\n\u001b[1;32m    756\u001b[0m \u001b[38;5;28;01mreturn\u001b[39;00m DataFrame(\n\u001b[1;32m    757\u001b[0m     InternalFrame(\n\u001b[1;32m    758\u001b[0m         spark_frame\u001b[38;5;241m=\u001b[39msdf, index_spark_columns\u001b[38;5;241m=\u001b[39mindex_spark_columns, index_names\u001b[38;5;241m=\u001b[39mindex_names\n\u001b[1;32m    759\u001b[0m     )\n\u001b[1;32m    760\u001b[0m )\n",
      "File \u001b[0;32m/opt/conda/lib/python3.10/site-packages/pyspark/pandas/utils.py:469\u001b[0m, in \u001b[0;36mdefault_session\u001b[0;34m()\u001b[0m\n\u001b[1;32m    468\u001b[0m \u001b[38;5;28;01mdef\u001b[39;00m\u001b[38;5;250m \u001b[39m\u001b[38;5;21mdefault_session\u001b[39m() \u001b[38;5;241m-\u001b[39m\u001b[38;5;241m>\u001b[39m SparkSession:\n\u001b[0;32m--> 469\u001b[0m     spark \u001b[38;5;241m=\u001b[39m \u001b[43mSparkSession\u001b[49m\u001b[38;5;241;43m.\u001b[39;49m\u001b[43mgetActiveSession\u001b[49m\u001b[43m(\u001b[49m\u001b[43m)\u001b[49m\n\u001b[1;32m    470\u001b[0m     \u001b[38;5;28;01mif\u001b[39;00m spark \u001b[38;5;129;01mis\u001b[39;00m \u001b[38;5;28;01mNone\u001b[39;00m:\n\u001b[1;32m    471\u001b[0m         spark \u001b[38;5;241m=\u001b[39m SparkSession\u001b[38;5;241m.\u001b[39mbuilder\u001b[38;5;241m.\u001b[39mappName(\u001b[38;5;124m\"\u001b[39m\u001b[38;5;124mpandas-on-Spark\u001b[39m\u001b[38;5;124m\"\u001b[39m)\u001b[38;5;241m.\u001b[39mgetOrCreate()\n",
      "File \u001b[0;32m/opt/conda/lib/python3.10/site-packages/pyspark/sql/session.py:612\u001b[0m, in \u001b[0;36mSparkSession.getActiveSession\u001b[0;34m(cls)\u001b[0m\n\u001b[1;32m    610\u001b[0m \u001b[38;5;28;01melse\u001b[39;00m:\n\u001b[1;32m    611\u001b[0m     \u001b[38;5;28;01massert\u001b[39;00m sc\u001b[38;5;241m.\u001b[39m_jvm \u001b[38;5;129;01mis\u001b[39;00m \u001b[38;5;129;01mnot\u001b[39;00m \u001b[38;5;28;01mNone\u001b[39;00m\n\u001b[0;32m--> 612\u001b[0m     \u001b[38;5;28;01mif\u001b[39;00m \u001b[43msc\u001b[49m\u001b[38;5;241;43m.\u001b[39;49m\u001b[43m_jvm\u001b[49m\u001b[38;5;241;43m.\u001b[39;49m\u001b[43mSparkSession\u001b[49m\u001b[38;5;241m.\u001b[39mgetActiveSession()\u001b[38;5;241m.\u001b[39misDefined():\n\u001b[1;32m    613\u001b[0m         SparkSession(sc, sc\u001b[38;5;241m.\u001b[39m_jvm\u001b[38;5;241m.\u001b[39mSparkSession\u001b[38;5;241m.\u001b[39mgetActiveSession()\u001b[38;5;241m.\u001b[39mget())\n\u001b[1;32m    614\u001b[0m         \u001b[38;5;28;01mreturn\u001b[39;00m SparkSession\u001b[38;5;241m.\u001b[39m_activeSession\n",
      "File \u001b[0;32m/opt/conda/lib/python3.10/site-packages/py4j/java_gateway.py:1712\u001b[0m, in \u001b[0;36mJVMView.__getattr__\u001b[0;34m(self, name)\u001b[0m\n\u001b[1;32m   1709\u001b[0m \u001b[38;5;28;01mif\u001b[39;00m name \u001b[38;5;241m==\u001b[39m UserHelpAutoCompletion\u001b[38;5;241m.\u001b[39mKEY:\n\u001b[1;32m   1710\u001b[0m     \u001b[38;5;28;01mreturn\u001b[39;00m UserHelpAutoCompletion()\n\u001b[0;32m-> 1712\u001b[0m answer \u001b[38;5;241m=\u001b[39m \u001b[38;5;28;43mself\u001b[39;49m\u001b[38;5;241;43m.\u001b[39;49m\u001b[43m_gateway_client\u001b[49m\u001b[38;5;241;43m.\u001b[39;49m\u001b[43msend_command\u001b[49m\u001b[43m(\u001b[49m\n\u001b[1;32m   1713\u001b[0m \u001b[43m    \u001b[49m\u001b[43mproto\u001b[49m\u001b[38;5;241;43m.\u001b[39;49m\u001b[43mREFLECTION_COMMAND_NAME\u001b[49m\u001b[43m \u001b[49m\u001b[38;5;241;43m+\u001b[39;49m\n\u001b[1;32m   1714\u001b[0m \u001b[43m    \u001b[49m\u001b[43mproto\u001b[49m\u001b[38;5;241;43m.\u001b[39;49m\u001b[43mREFL_GET_UNKNOWN_SUB_COMMAND_NAME\u001b[49m\u001b[43m \u001b[49m\u001b[38;5;241;43m+\u001b[39;49m\u001b[43m \u001b[49m\u001b[43mname\u001b[49m\u001b[43m \u001b[49m\u001b[38;5;241;43m+\u001b[39;49m\u001b[43m \u001b[49m\u001b[38;5;124;43m\"\u001b[39;49m\u001b[38;5;130;43;01m\\n\u001b[39;49;00m\u001b[38;5;124;43m\"\u001b[39;49m\u001b[43m \u001b[49m\u001b[38;5;241;43m+\u001b[39;49m\u001b[43m \u001b[49m\u001b[38;5;28;43mself\u001b[39;49m\u001b[38;5;241;43m.\u001b[39;49m\u001b[43m_id\u001b[49m\u001b[43m \u001b[49m\u001b[38;5;241;43m+\u001b[39;49m\n\u001b[1;32m   1715\u001b[0m \u001b[43m    \u001b[49m\u001b[38;5;124;43m\"\u001b[39;49m\u001b[38;5;130;43;01m\\n\u001b[39;49;00m\u001b[38;5;124;43m\"\u001b[39;49m\u001b[43m \u001b[49m\u001b[38;5;241;43m+\u001b[39;49m\u001b[43m \u001b[49m\u001b[43mproto\u001b[49m\u001b[38;5;241;43m.\u001b[39;49m\u001b[43mEND_COMMAND_PART\u001b[49m\u001b[43m)\u001b[49m\n\u001b[1;32m   1716\u001b[0m \u001b[38;5;28;01mif\u001b[39;00m answer \u001b[38;5;241m==\u001b[39m proto\u001b[38;5;241m.\u001b[39mSUCCESS_PACKAGE:\n\u001b[1;32m   1717\u001b[0m     \u001b[38;5;28;01mreturn\u001b[39;00m JavaPackage(name, \u001b[38;5;28mself\u001b[39m\u001b[38;5;241m.\u001b[39m_gateway_client, jvm_id\u001b[38;5;241m=\u001b[39m\u001b[38;5;28mself\u001b[39m\u001b[38;5;241m.\u001b[39m_id)\n",
      "File \u001b[0;32m/opt/conda/lib/python3.10/site-packages/py4j/java_gateway.py:1036\u001b[0m, in \u001b[0;36mGatewayClient.send_command\u001b[0;34m(self, command, retry, binary)\u001b[0m\n\u001b[1;32m   1015\u001b[0m \u001b[38;5;28;01mdef\u001b[39;00m\u001b[38;5;250m \u001b[39m\u001b[38;5;21msend_command\u001b[39m(\u001b[38;5;28mself\u001b[39m, command, retry\u001b[38;5;241m=\u001b[39m\u001b[38;5;28;01mTrue\u001b[39;00m, binary\u001b[38;5;241m=\u001b[39m\u001b[38;5;28;01mFalse\u001b[39;00m):\n\u001b[1;32m   1016\u001b[0m \u001b[38;5;250m    \u001b[39m\u001b[38;5;124;03m\"\"\"Sends a command to the JVM. This method is not intended to be\u001b[39;00m\n\u001b[1;32m   1017\u001b[0m \u001b[38;5;124;03m       called directly by Py4J users. It is usually called by\u001b[39;00m\n\u001b[1;32m   1018\u001b[0m \u001b[38;5;124;03m       :class:`JavaMember` instances.\u001b[39;00m\n\u001b[0;32m   (...)\u001b[0m\n\u001b[1;32m   1034\u001b[0m \u001b[38;5;124;03m     if `binary` is `True`.\u001b[39;00m\n\u001b[1;32m   1035\u001b[0m \u001b[38;5;124;03m    \"\"\"\u001b[39;00m\n\u001b[0;32m-> 1036\u001b[0m     connection \u001b[38;5;241m=\u001b[39m \u001b[38;5;28;43mself\u001b[39;49m\u001b[38;5;241;43m.\u001b[39;49m\u001b[43m_get_connection\u001b[49m\u001b[43m(\u001b[49m\u001b[43m)\u001b[49m\n\u001b[1;32m   1037\u001b[0m     \u001b[38;5;28;01mtry\u001b[39;00m:\n\u001b[1;32m   1038\u001b[0m         response \u001b[38;5;241m=\u001b[39m connection\u001b[38;5;241m.\u001b[39msend_command(command)\n",
      "File \u001b[0;32m/opt/conda/lib/python3.10/site-packages/py4j/clientserver.py:284\u001b[0m, in \u001b[0;36mJavaClient._get_connection\u001b[0;34m(self)\u001b[0m\n\u001b[1;32m    281\u001b[0m     \u001b[38;5;28;01mpass\u001b[39;00m\n\u001b[1;32m    283\u001b[0m \u001b[38;5;28;01mif\u001b[39;00m connection \u001b[38;5;129;01mis\u001b[39;00m \u001b[38;5;28;01mNone\u001b[39;00m \u001b[38;5;129;01mor\u001b[39;00m connection\u001b[38;5;241m.\u001b[39msocket \u001b[38;5;129;01mis\u001b[39;00m \u001b[38;5;28;01mNone\u001b[39;00m:\n\u001b[0;32m--> 284\u001b[0m     connection \u001b[38;5;241m=\u001b[39m \u001b[38;5;28;43mself\u001b[39;49m\u001b[38;5;241;43m.\u001b[39;49m\u001b[43m_create_new_connection\u001b[49m\u001b[43m(\u001b[49m\u001b[43m)\u001b[49m\n\u001b[1;32m    285\u001b[0m \u001b[38;5;28;01mreturn\u001b[39;00m connection\n",
      "File \u001b[0;32m/opt/conda/lib/python3.10/site-packages/py4j/clientserver.py:291\u001b[0m, in \u001b[0;36mJavaClient._create_new_connection\u001b[0;34m(self)\u001b[0m\n\u001b[1;32m    287\u001b[0m \u001b[38;5;28;01mdef\u001b[39;00m\u001b[38;5;250m \u001b[39m\u001b[38;5;21m_create_new_connection\u001b[39m(\u001b[38;5;28mself\u001b[39m):\n\u001b[1;32m    288\u001b[0m     connection \u001b[38;5;241m=\u001b[39m ClientServerConnection(\n\u001b[1;32m    289\u001b[0m         \u001b[38;5;28mself\u001b[39m\u001b[38;5;241m.\u001b[39mjava_parameters, \u001b[38;5;28mself\u001b[39m\u001b[38;5;241m.\u001b[39mpython_parameters,\n\u001b[1;32m    290\u001b[0m         \u001b[38;5;28mself\u001b[39m\u001b[38;5;241m.\u001b[39mgateway_property, \u001b[38;5;28mself\u001b[39m)\n\u001b[0;32m--> 291\u001b[0m     \u001b[43mconnection\u001b[49m\u001b[38;5;241;43m.\u001b[39;49m\u001b[43mconnect_to_java_server\u001b[49m\u001b[43m(\u001b[49m\u001b[43m)\u001b[49m\n\u001b[1;32m    292\u001b[0m     \u001b[38;5;28mself\u001b[39m\u001b[38;5;241m.\u001b[39mset_thread_connection(connection)\n\u001b[1;32m    293\u001b[0m     \u001b[38;5;28;01mreturn\u001b[39;00m connection\n",
      "File \u001b[0;32m/opt/conda/lib/python3.10/site-packages/py4j/clientserver.py:438\u001b[0m, in \u001b[0;36mClientServerConnection.connect_to_java_server\u001b[0;34m(self)\u001b[0m\n\u001b[1;32m    435\u001b[0m \u001b[38;5;28;01mif\u001b[39;00m \u001b[38;5;28mself\u001b[39m\u001b[38;5;241m.\u001b[39mssl_context:\n\u001b[1;32m    436\u001b[0m     \u001b[38;5;28mself\u001b[39m\u001b[38;5;241m.\u001b[39msocket \u001b[38;5;241m=\u001b[39m \u001b[38;5;28mself\u001b[39m\u001b[38;5;241m.\u001b[39mssl_context\u001b[38;5;241m.\u001b[39mwrap_socket(\n\u001b[1;32m    437\u001b[0m         \u001b[38;5;28mself\u001b[39m\u001b[38;5;241m.\u001b[39msocket, server_hostname\u001b[38;5;241m=\u001b[39m\u001b[38;5;28mself\u001b[39m\u001b[38;5;241m.\u001b[39mjava_address)\n\u001b[0;32m--> 438\u001b[0m \u001b[38;5;28;43mself\u001b[39;49m\u001b[38;5;241;43m.\u001b[39;49m\u001b[43msocket\u001b[49m\u001b[38;5;241;43m.\u001b[39;49m\u001b[43mconnect\u001b[49m\u001b[43m(\u001b[49m\u001b[43m(\u001b[49m\u001b[38;5;28;43mself\u001b[39;49m\u001b[38;5;241;43m.\u001b[39;49m\u001b[43mjava_address\u001b[49m\u001b[43m,\u001b[49m\u001b[43m \u001b[49m\u001b[38;5;28;43mself\u001b[39;49m\u001b[38;5;241;43m.\u001b[39;49m\u001b[43mjava_port\u001b[49m\u001b[43m)\u001b[49m\u001b[43m)\u001b[49m\n\u001b[1;32m    439\u001b[0m \u001b[38;5;28mself\u001b[39m\u001b[38;5;241m.\u001b[39mstream \u001b[38;5;241m=\u001b[39m \u001b[38;5;28mself\u001b[39m\u001b[38;5;241m.\u001b[39msocket\u001b[38;5;241m.\u001b[39mmakefile(\u001b[38;5;124m\"\u001b[39m\u001b[38;5;124mrb\u001b[39m\u001b[38;5;124m\"\u001b[39m)\n\u001b[1;32m    440\u001b[0m \u001b[38;5;28mself\u001b[39m\u001b[38;5;241m.\u001b[39mis_connected \u001b[38;5;241m=\u001b[39m \u001b[38;5;28;01mTrue\u001b[39;00m\n",
      "\u001b[0;31mConnectionRefusedError\u001b[0m: [Errno 111] Connection refused"
     ]
    }
   ],
   "source": [
    "benchmark(read_file_parquet, df=None, benchmarks=koalas_benchmarks_cache, name='read file')\n",
    "benchmark(count, df=koalas_filtered, benchmarks=koalas_benchmarks_cache, name='count')\n",
    "benchmark(count_index_length, df=koalas_filtered, benchmarks=koalas_benchmarks_cache, name='count index length')\n",
    "benchmark(mean, df=koalas_filtered, benchmarks=koalas_benchmarks_cache, name='mean')\n",
    "benchmark(standard_deviation, df=koalas_filtered, benchmarks=koalas_benchmarks_cache, name='standard deviation')\n",
    "benchmark(mean_of_sum, df=koalas_filtered, benchmarks=koalas_benchmarks_cache, name='mean of columns addition')\n",
    "benchmark(mean_of_product, df=koalas_filtered, benchmarks=koalas_benchmarks_cache, name='mean of columns multiplication')\n",
    "benchmark(value_counts, df=koalas_filtered, benchmarks=koalas_benchmarks_cache, name='value counts')\n",
    "benchmark(mean_of_complicated_arithmetic_operation, df=koalas_filtered, benchmarks=koalas_benchmarks_cache, name='mean of complex arithmetic ops')\n",
    "benchmark(groupby_statistics, df=koalas_filtered, benchmarks=koalas_benchmarks_cache, name='groupby statistics')"
   ]
  },
  {
   "cell_type": "code",
   "execution_count": 29,
   "id": "61615a5a-b065-48ae-a308-b69014bf9fd7",
   "metadata": {
    "tags": []
   },
   "outputs": [
    {
     "name": "stdout",
     "output_type": "stream",
     "text": [
      "Empty DataFrame\n",
      "Columns: [duration]\n",
      "Index: []\n",
      "Guardado em Resultados/koalas_cache1.\n"
     ]
    }
   ],
   "source": [
    "koalas_res_cache = get_results(koalas_benchmarks_cache).drop_duplicates(subset='task').set_index('task')\n",
    "print(koalas_res_cache)\n",
    "filename_cache = 'Resultados/koalas_cache1'\n",
    "koalas_res_cache.to_parquet(filename_cache)\n",
    "print(f'Guardado em {filename_cache}.')"
   ]
  },
  {
   "cell_type": "markdown",
   "id": "ec132da7-be71-4480-9133-4e099f332660",
   "metadata": {},
   "source": [
    "# Nota: Koalas_cache não conlcuído dado a falta de memória"
   ]
  },
  {
   "cell_type": "markdown",
   "id": "207a4136-cc0b-42d7-ab3a-a360663cc2b6",
   "metadata": {},
   "source": [
    "## Resultados"
   ]
  },
  {
   "cell_type": "code",
   "execution_count": 30,
   "id": "04dfbece-b964-4bf7-b155-dea54ab9c1a1",
   "metadata": {
    "tags": []
   },
   "outputs": [],
   "source": [
    "import os\n",
    "import shutil\n",
    "from datetime import datetime\n",
    "\n",
    "def get_results(benchmarks):\n",
    "    return pd.DataFrame(benchmarks)"
   ]
  },
  {
   "cell_type": "markdown",
   "id": "e60bd8bf-3523-424b-9bf5-6e5860549696",
   "metadata": {},
   "source": [
    "# Dados "
   ]
  },
  {
   "cell_type": "code",
   "execution_count": 31,
   "id": "3be9ddd9-3725-4ac2-b047-feee105b5f0a",
   "metadata": {
    "tags": []
   },
   "outputs": [
    {
     "name": "stdout",
     "output_type": "stream",
     "text": [
      "                                  koalas       dask\n",
      "task                                               \n",
      "read file                       0.146486   0.008968\n",
      "count                           0.260101   0.012008\n",
      "count index length              0.177728   0.014466\n",
      "mean                            0.462935  15.407151\n",
      "standard deviation              0.539421  15.653548\n",
      "mean of columns addition        0.649884  15.386676\n",
      "mean of columns multiplication  0.610726  15.549762\n",
      "value counts                    1.557297  16.776376\n",
      "addition of columns                  NaN  15.686277\n",
      "multiplication of columns            NaN  15.837326\n",
      "mean of complex arithmetic ops       NaN  16.638054\n",
      "complex arithmetic ops               NaN  15.190645\n",
      "groupby statistics                   NaN  14.650766\n",
      "join count                           NaN  15.411818\n",
      "join                                 NaN  15.144436\n"
     ]
    }
   ],
   "source": [
    "koalas_res_temp = get_results(koalas_benchmarks).drop_duplicates(subset='task').set_index('task')\n",
    "dask_res_temp = get_results(dask_benchmarks).drop_duplicates(subset='task').set_index('task')\n",
    "df = pd.concat([koalas_res_temp['duration'], dask_res_temp['duration']], axis=1, keys=['koalas', 'dask'])\n",
    "print(df)"
   ]
  },
  {
   "cell_type": "code",
   "execution_count": 32,
   "id": "1ee31cb9-f637-404e-8d52-3011749d5ce8",
   "metadata": {
    "tags": []
   },
   "outputs": [
    {
     "name": "stdout",
     "output_type": "stream",
     "text": [
      "Guardado em Resultados/results_standard.\n"
     ]
    }
   ],
   "source": [
    "filename = 'Resultados/results_standard'\n",
    "df.to_parquet(filename)\n",
    "print(f'Guardado em {filename}.')"
   ]
  },
  {
   "cell_type": "markdown",
   "id": "ca2482b2-23f8-45cb-a24a-744b39386701",
   "metadata": {},
   "source": [
    "# Dados filtrados"
   ]
  },
  {
   "cell_type": "code",
   "execution_count": 33,
   "id": "ff65e8cd-c422-439a-b0fc-5e8a1972ab37",
   "metadata": {
    "tags": []
   },
   "outputs": [
    {
     "name": "stdout",
     "output_type": "stream",
     "text": [
      "                                  koalas       dask\n",
      "task                                               \n",
      "read file                       0.108400   0.007889\n",
      "count                           0.480750  15.091957\n",
      "count index length              0.411687  15.131043\n",
      "mean                            0.661548  15.251712\n",
      "standard deviation              0.682728  13.730219\n",
      "mean of columns addition        0.677189  15.557946\n",
      "mean of columns multiplication  0.645065  15.678725\n",
      "value counts                    1.089473  16.651477\n",
      "groupby statistics              1.043396  16.225968\n",
      "addition of columns                  NaN  15.955137\n",
      "multiplication of columns            NaN  15.846375\n",
      "mean of complex arithmetic ops       NaN  15.893119\n",
      "complex arithmetic ops               NaN  16.450206\n",
      "join count                           NaN  15.984035\n",
      "join                                 NaN  16.363729\n"
     ]
    }
   ],
   "source": [
    "koalas_res_temp = get_results(koalas_benchmarks_filtered).drop_duplicates(subset='task').set_index('task')\n",
    "dask_res_temp = get_results(dask_benchmarks_filtered).drop_duplicates(subset='task').set_index('task')\n",
    "df = pd.concat([koalas_res_temp['duration'], dask_res_temp['duration']], axis=1, keys=['koalas', 'dask'])\n",
    "print(df)"
   ]
  },
  {
   "cell_type": "code",
   "execution_count": 34,
   "id": "7560c243-d2d4-40ef-9e2d-dbabd6833c7d",
   "metadata": {
    "tags": []
   },
   "outputs": [
    {
     "name": "stdout",
     "output_type": "stream",
     "text": [
      "Guardado em Resultados/results_filtered.\n"
     ]
    }
   ],
   "source": [
    "filename = 'Resultados/results_filtered'\n",
    "df.to_parquet(filename)\n",
    "print(f'Guardado em {filename}.')"
   ]
  },
  {
   "cell_type": "markdown",
   "id": "4b18f97b-a219-429d-82d4-3e1d10e1636d",
   "metadata": {},
   "source": [
    "# Dados filtrados com caching"
   ]
  },
  {
   "cell_type": "code",
   "execution_count": 35,
   "id": "6f754279-3cda-4875-877f-fd27bdba02bd",
   "metadata": {
    "tags": []
   },
   "outputs": [
    {
     "name": "stdout",
     "output_type": "stream",
     "text": [
      "                                koalas      dask\n",
      "task                                            \n",
      "read file                          NaN  0.009152\n",
      "count                              NaN  0.035454\n",
      "count index length                 NaN  0.031214\n",
      "mean                               NaN  0.056138\n",
      "standard deviation                 NaN  0.115044\n",
      "mean of columns addition           NaN  0.071108\n",
      "addition of columns                NaN  0.265028\n",
      "mean of columns multiplication     NaN  0.069629\n",
      "multiplication of columns          NaN  0.286330\n",
      "mean of complex arithmetic ops     NaN  0.388310\n",
      "complex arithmetic ops             NaN  0.605202\n",
      "value counts                       NaN  0.117488\n",
      "groupby statistics                 NaN  0.271361\n",
      "join count                         NaN  0.070177\n",
      "join                               NaN  0.115017\n"
     ]
    }
   ],
   "source": [
    "koalas_res_temp = get_results(koalas_benchmarks_cache).drop_duplicates(subset='task').set_index('task')\n",
    "dask_res_temp = get_results(dask_benchmarks_cache).drop_duplicates(subset='task').set_index('task')\n",
    "df = pd.concat([koalas_res_temp['duration'], dask_res_temp['duration']], axis=1, keys=['koalas', 'dask'])\n",
    "print(df)"
   ]
  },
  {
   "cell_type": "code",
   "execution_count": 36,
   "id": "a8d756d8-7226-47ad-b8b3-481d80640164",
   "metadata": {
    "tags": []
   },
   "outputs": [
    {
     "name": "stdout",
     "output_type": "stream",
     "text": [
      "Guardado em Resultados/results_cache.\n"
     ]
    }
   ],
   "source": [
    "filename = 'Resultados/results_cache'\n",
    "df.to_parquet(filename)\n",
    "print(f'Guardado em {filename}.')"
   ]
  },
  {
   "cell_type": "markdown",
   "id": "a10d44bc-730e-454c-b0ca-40f5e37654e1",
   "metadata": {},
   "source": [
    "## Resumo dos Resultados dos Benchmarks  \n",
    "\n",
    "Para sintetizar os resultados dos benchmarks, procede-se à análise das médias das durações das operações em diferentes execuções. Inicialmente, os dados dos resultados são carregados a partir dos arquivos Parquet. Em seguida, calcula-se a média justa dos tempos de execução para cada operação em cada biblioteca analisada (Koalas e Dask).\n",
    "\n",
    "Os resultados são organizados em três categorias principais:  \n",
    "- Resumo das operações padrão  \n",
    "- Resumo das operações com aplicação de filtro  \n",
    "- Resumo das operações com filtro e uso de cache  \n",
    "\n",
    "Cada categoria apresenta as médias dos tempos de execução para as operações correspondentes em ambas as bibliotecas.\n",
    "\n",
    "No resumo das operações padrão, são exibidos os tempos médios de execução das operações realizadas sem aplicar qualquer filtro nos dados. No resumo das operações com filtragem, mostram-se as médias dos tempos para operações executadas sobre dados previamente filtrados. Por fim, no resumo das operações com filtragem e cache, apresentam-se as médias dos tempos para operações realizadas em dados que foram filtrados e armazenados em cache para otimizar o desempenho.\n"
   ]
  },
  {
   "cell_type": "code",
   "execution_count": 37,
   "id": "8d3c4c8a-9742-497b-b07d-5e4d2a30f4e0",
   "metadata": {
    "tags": []
   },
   "outputs": [
    {
     "name": "stdout",
     "output_type": "stream",
     "text": [
      "results_standard has 1 runs\n",
      "results_filtered has 1 runs\n",
      "results_cache has 1 runs\n",
      "Standard Operations Summary:\n",
      "                               Koalas (PySpark)       Dask\n",
      "read file                              0.146486   0.008968\n",
      "count                                  0.260101   0.012008\n",
      "count index                            0.177728   0.014466\n",
      "mean                                   0.462935  15.407151\n",
      "standard deviation                     0.539421  15.653548\n",
      "mean of series addition                0.649884  15.386676\n",
      "mean of series multiplication          0.610726  15.549762\n",
      "value counts                           1.557297  16.776376\n",
      "series addition                             NaN  15.686277\n",
      "series multiplication                       NaN  15.837326\n",
      "mean of complex arithmetic                  NaN  16.638054\n",
      "complex arithmetic                          NaN  15.190645\n",
      "groupby statistics                          NaN  14.650766\n",
      "join count                                  NaN  15.411818\n",
      "join                                        NaN  15.144436\n",
      "\n",
      "Operations with Filtering Summary:\n",
      "                               Koalas (PySpark)       Dask\n",
      "read file                              0.108400   0.007889\n",
      "count                                  0.480750  15.091957\n",
      "count index                            0.411687  15.131043\n",
      "mean                                   0.661548  15.251712\n",
      "standard deviation                     0.682728  13.730219\n",
      "mean of series addition                0.677189  15.557946\n",
      "mean of series multiplication          0.645065  15.678725\n",
      "value counts                           1.089473  16.651477\n",
      "groupby statistics                     1.043396  16.225968\n",
      "series addition                             NaN  15.955137\n",
      "series multiplication                       NaN  15.846375\n",
      "mean of complex arithmetic                  NaN  15.893119\n",
      "complex arithmetic                          NaN  16.450206\n",
      "join count                                  NaN  15.984035\n",
      "join                                        NaN  16.363729\n",
      "\n",
      "Operations with Filtering and Caching Summary:\n",
      "                               Koalas (PySpark)      Dask\n",
      "read file                                   NaN  0.009152\n",
      "count                                       NaN  0.035454\n",
      "count index                                 NaN  0.031214\n",
      "mean                                        NaN  0.056138\n",
      "standard deviation                          NaN  0.115044\n",
      "mean of series addition                     NaN  0.071108\n",
      "series addition                             NaN  0.265028\n",
      "mean of series multiplication               NaN  0.069629\n",
      "series multiplication                       NaN  0.286330\n",
      "mean of complex arithmetic                  NaN  0.388310\n",
      "complex arithmetic                          NaN  0.605202\n",
      "value counts                                NaN  0.117488\n",
      "groupby statistics                          NaN  0.271361\n",
      "join count                                  NaN  0.070177\n",
      "join                                        NaN  0.115017\n"
     ]
    },
    {
     "name": "stderr",
     "output_type": "stream",
     "text": [
      "/var/tmp/ipykernel_3571/1962745982.py:42: FutureWarning: ChainedAssignmentError: behaviour will change in pandas 3.0!\n",
      "You are setting values through chained assignment. Currently this works in certain cases, but when using Copy-on-Write (which will become the default behaviour in pandas 3.0) this will never work to update the original DataFrame or Series, because the intermediate object on which we are setting values will behave as a copy.\n",
      "A typical example is when you are setting values in a column of a DataFrame, like:\n",
      "\n",
      "df[\"col\"][row_indexer] = value\n",
      "\n",
      "Use `df.loc[row_indexer, \"col\"] = values` instead, to perform the assignment in a single step and ensure this keeps updating the original `df`.\n",
      "\n",
      "See the caveats in the documentation: https://pandas.pydata.org/pandas-docs/stable/user_guide/indexing.html#returning-a-view-versus-a-copy\n",
      "\n",
      "  avg_df.loc[op][lib] = fair_avg(durations)\n",
      "/var/tmp/ipykernel_3571/1962745982.py:42: FutureWarning: ChainedAssignmentError: behaviour will change in pandas 3.0!\n",
      "You are setting values through chained assignment. Currently this works in certain cases, but when using Copy-on-Write (which will become the default behaviour in pandas 3.0) this will never work to update the original DataFrame or Series, because the intermediate object on which we are setting values will behave as a copy.\n",
      "A typical example is when you are setting values in a column of a DataFrame, like:\n",
      "\n",
      "df[\"col\"][row_indexer] = value\n",
      "\n",
      "Use `df.loc[row_indexer, \"col\"] = values` instead, to perform the assignment in a single step and ensure this keeps updating the original `df`.\n",
      "\n",
      "See the caveats in the documentation: https://pandas.pydata.org/pandas-docs/stable/user_guide/indexing.html#returning-a-view-versus-a-copy\n",
      "\n",
      "  avg_df.loc[op][lib] = fair_avg(durations)\n",
      "/var/tmp/ipykernel_3571/1962745982.py:42: FutureWarning: ChainedAssignmentError: behaviour will change in pandas 3.0!\n",
      "You are setting values through chained assignment. Currently this works in certain cases, but when using Copy-on-Write (which will become the default behaviour in pandas 3.0) this will never work to update the original DataFrame or Series, because the intermediate object on which we are setting values will behave as a copy.\n",
      "A typical example is when you are setting values in a column of a DataFrame, like:\n",
      "\n",
      "df[\"col\"][row_indexer] = value\n",
      "\n",
      "Use `df.loc[row_indexer, \"col\"] = values` instead, to perform the assignment in a single step and ensure this keeps updating the original `df`.\n",
      "\n",
      "See the caveats in the documentation: https://pandas.pydata.org/pandas-docs/stable/user_guide/indexing.html#returning-a-view-versus-a-copy\n",
      "\n",
      "  avg_df.loc[op][lib] = fair_avg(durations)\n"
     ]
    }
   ],
   "source": [
    "import os\n",
    "import pandas as pd\n",
    "from scipy import stats\n",
    "from datetime import datetime\n",
    "\n",
    "def fair_avg(durations):\n",
    "    if len(durations) <= 2:\n",
    "        return sum(durations) / len(durations) if durations else 0\n",
    "    durations = durations[1:]\n",
    "    durations.remove(min(durations))\n",
    "    return sum(durations) / len(durations)\n",
    "\n",
    "def rename_index(df):\n",
    "    df.index = map(\n",
    "        lambda s: s.replace(\"filtered \", \"\")\n",
    "                  .replace(\"of columns\", \"of series\")\n",
    "                  .replace(\"addition of series\", \"series addition\")\n",
    "                  .replace(\"multiplication of series\", \"series multiplication\")\n",
    "                  .replace(\"arithmetic ops\", \"arithmetic\")\n",
    "                  .replace(\"count index length\", \"count index\"),\n",
    "        df.index)\n",
    "    return df\n",
    "\n",
    "def avg_result_df(directory, file_name_prefix):\n",
    "    dfs = []\n",
    "    file_infos = os.listdir(directory)\n",
    "    for file_info in file_infos:\n",
    "        if file_info.startswith(file_name_prefix):\n",
    "            dfs.append(pd.read_parquet(os.path.join(directory, file_info)))\n",
    "    \n",
    "    if not dfs:\n",
    "        raise ValueError(f\"No files found with prefix {file_name_prefix} in directory {directory}\")\n",
    "    \n",
    "    print(f'{file_name_prefix} has {len(dfs)} runs')\n",
    "    \n",
    "    avg_df = dfs[0].copy()\n",
    "    for op in dfs[0].index:\n",
    "        for lib in ['koalas', 'dask']:\n",
    "            durations = []\n",
    "            for df in dfs:\n",
    "                durations.append(df.loc[op][lib])\n",
    "            avg_df.loc[op][lib] = fair_avg(durations)\n",
    "            \n",
    "    return rename_index(avg_df)\n",
    "\n",
    "def annotate(ax):\n",
    "    for p in ax.patches:\n",
    "        ax.annotate(\"%.2fs\" % p.get_height(), (p.get_x() + p.get_width() / 2., p.get_height()), ha='center', va='center', xytext=(0, 10), textcoords='offset points')\n",
    "\n",
    "def annotate_x_times_faster(ax, x_times_list):\n",
    "    num_ops = len(x_times_list)\n",
    "    for i, p in enumerate(ax.patches):\n",
    "        if i < num_ops:\n",
    "            ax.annotate(\"%.1fx\" % x_times_list[i], (p.get_x() + p.get_width() / 2., p.get_height()), ha='center', va='center', xytext=(4, 10), textcoords='offset points', fontsize=8, weight='bold', color=\"#585858\")\n",
    "directory_path = 'Resultados'\n",
    "standard_file_prefix = 'results_standard'\n",
    "filtered_file_prefix = 'results_filtered'\n",
    "cache_file_prefix = 'results_cache'\n",
    "standard_res_df = avg_result_df(directory_path, standard_file_prefix)\n",
    "filtered_res_df = avg_result_df(directory_path, filtered_file_prefix)\n",
    "cache_res_df = avg_result_df(directory_path, cache_file_prefix)\n",
    "standard_res_df.columns = ['Koalas (PySpark)', 'Dask']\n",
    "filtered_res_df.columns = ['Koalas (PySpark)', 'Dask']\n",
    "cache_res_df.columns = ['Koalas (PySpark)', 'Dask']\n",
    "\n",
    "standard_ops = standard_res_df\n",
    "ops_with_filtering = filtered_res_df\n",
    "ops_with_filtering_caching = cache_res_df\n",
    "print(\"Standard Operations Summary:\")\n",
    "print(standard_ops)\n",
    "print(\"\\nOperations with Filtering Summary:\")\n",
    "print(ops_with_filtering)\n",
    "print(\"\\nOperations with Filtering and Caching Summary:\")\n",
    "print(ops_with_filtering_caching)"
   ]
  },
  {
   "cell_type": "markdown",
   "id": "e8ddd4da-0275-4f79-9e44-1a594b2616c4",
   "metadata": {},
   "source": [
    "# Gráficos"
   ]
  },
  {
   "cell_type": "code",
   "execution_count": 38,
   "id": "3d5e28ad-d2c3-41b5-a2da-479712eea485",
   "metadata": {
    "tags": []
   },
   "outputs": [
    {
     "data": {
      "text/plain": [
       "Text(0, 0.5, 'Elapsed time (sec)')"
      ]
     },
     "execution_count": 38,
     "metadata": {},
     "output_type": "execute_result"
    },
    {
     "data": {
      "image/png": "[encoded data removed]",
      "text/plain": [
       "<Figure size 640x480 with 1 Axes>"
      ]
     },
     "metadata": {},
     "output_type": "display_data"
    },
    {
     "data": {
      "image/png": "[encoded data removed]",
      "text/plain": [
       "<Figure size 640x480 with 1 Axes>"
      ]
     },
     "metadata": {},
     "output_type": "display_data"
    }
   ],
   "source": [
    "import matplotlib.pyplot as plt\n",
    "\n",
    "plot_title = 'Standard operations (local execution)'\n",
    " \n",
    "ax = standard_ops.sort_index().plot.bar(title=plot_title)\n",
    "ax.set_ylabel(\"Elapsed time (sec)\")\n",
    " \n",
    "tmp_df_x_times_faster = standard_ops.sort_index().copy()\n",
    "tmp_df_x_times_faster['Dask / Koalas'] = tmp_df_x_times_faster.Dask / tmp_df_x_times_faster['Koalas (PySpark)']\n",
    "tmp_df_x_times_faster['Koalas / Dask'] = tmp_df_x_times_faster['Koalas (PySpark)'] / tmp_df_x_times_faster.Dask\n",
    "annotate_x_times_faster(ax, x_times_list=tmp_df_x_times_faster['Dask / Koalas'].to_list())\n",
    " \n",
    "standard_ops.sort_index().plot.bar(logy=True, title='%s - log scaling' % plot_title).set_ylabel(\"Elapsed time (sec)\")"
   ]
  },
  {
   "cell_type": "code",
   "execution_count": 39,
   "id": "ed2922ce-efe9-46bd-a544-8d0bb0a65807",
   "metadata": {
    "tags": []
   },
   "outputs": [
    {
     "data": {
      "text/html": [
       "<div>\n",
       "<style scoped>\n",
       "    .dataframe tbody tr th:only-of-type {\n",
       "        vertical-align: middle;\n",
       "    }\n",
       "\n",
       "    .dataframe tbody tr th {\n",
       "        vertical-align: top;\n",
       "    }\n",
       "\n",
       "    .dataframe thead th {\n",
       "        text-align: right;\n",
       "    }\n",
       "</style>\n",
       "<table border=\"1\" class=\"dataframe\">\n",
       "  <thead>\n",
       "    <tr style=\"text-align: right;\">\n",
       "      <th></th>\n",
       "      <th>Koalas (PySpark)</th>\n",
       "      <th>Dask</th>\n",
       "      <th>Dask / Koalas</th>\n",
       "      <th>Koalas / Dask</th>\n",
       "    </tr>\n",
       "  </thead>\n",
       "  <tbody>\n",
       "    <tr>\n",
       "      <th>complex arithmetic</th>\n",
       "      <td>NaN</td>\n",
       "      <td>15.190645</td>\n",
       "      <td>NaN</td>\n",
       "      <td>NaN</td>\n",
       "    </tr>\n",
       "    <tr>\n",
       "      <th>count</th>\n",
       "      <td>0.260101</td>\n",
       "      <td>0.012008</td>\n",
       "      <td>0.046167</td>\n",
       "      <td>21.660307</td>\n",
       "    </tr>\n",
       "    <tr>\n",
       "      <th>count index</th>\n",
       "      <td>0.177728</td>\n",
       "      <td>0.014466</td>\n",
       "      <td>0.081392</td>\n",
       "      <td>12.286272</td>\n",
       "    </tr>\n",
       "    <tr>\n",
       "      <th>groupby statistics</th>\n",
       "      <td>NaN</td>\n",
       "      <td>14.650766</td>\n",
       "      <td>NaN</td>\n",
       "      <td>NaN</td>\n",
       "    </tr>\n",
       "    <tr>\n",
       "      <th>join</th>\n",
       "      <td>NaN</td>\n",
       "      <td>15.144436</td>\n",
       "      <td>NaN</td>\n",
       "      <td>NaN</td>\n",
       "    </tr>\n",
       "    <tr>\n",
       "      <th>join count</th>\n",
       "      <td>NaN</td>\n",
       "      <td>15.411818</td>\n",
       "      <td>NaN</td>\n",
       "      <td>NaN</td>\n",
       "    </tr>\n",
       "    <tr>\n",
       "      <th>mean</th>\n",
       "      <td>0.462935</td>\n",
       "      <td>15.407151</td>\n",
       "      <td>33.281442</td>\n",
       "      <td>0.030047</td>\n",
       "    </tr>\n",
       "    <tr>\n",
       "      <th>mean of complex arithmetic</th>\n",
       "      <td>NaN</td>\n",
       "      <td>16.638054</td>\n",
       "      <td>NaN</td>\n",
       "      <td>NaN</td>\n",
       "    </tr>\n",
       "    <tr>\n",
       "      <th>mean of series addition</th>\n",
       "      <td>0.649884</td>\n",
       "      <td>15.386676</td>\n",
       "      <td>23.676035</td>\n",
       "      <td>0.042237</td>\n",
       "    </tr>\n",
       "    <tr>\n",
       "      <th>mean of series multiplication</th>\n",
       "      <td>0.610726</td>\n",
       "      <td>15.549762</td>\n",
       "      <td>25.461105</td>\n",
       "      <td>0.039276</td>\n",
       "    </tr>\n",
       "    <tr>\n",
       "      <th>read file</th>\n",
       "      <td>0.146486</td>\n",
       "      <td>0.008968</td>\n",
       "      <td>0.061223</td>\n",
       "      <td>16.333688</td>\n",
       "    </tr>\n",
       "    <tr>\n",
       "      <th>series addition</th>\n",
       "      <td>NaN</td>\n",
       "      <td>15.686277</td>\n",
       "      <td>NaN</td>\n",
       "      <td>NaN</td>\n",
       "    </tr>\n",
       "    <tr>\n",
       "      <th>series multiplication</th>\n",
       "      <td>NaN</td>\n",
       "      <td>15.837326</td>\n",
       "      <td>NaN</td>\n",
       "      <td>NaN</td>\n",
       "    </tr>\n",
       "    <tr>\n",
       "      <th>standard deviation</th>\n",
       "      <td>0.539421</td>\n",
       "      <td>15.653548</td>\n",
       "      <td>29.019175</td>\n",
       "      <td>0.034460</td>\n",
       "    </tr>\n",
       "    <tr>\n",
       "      <th>value counts</th>\n",
       "      <td>1.557297</td>\n",
       "      <td>16.776376</td>\n",
       "      <td>10.772750</td>\n",
       "      <td>0.092827</td>\n",
       "    </tr>\n",
       "  </tbody>\n",
       "</table>\n",
       "</div>"
      ],
      "text/plain": [
       "                               Koalas (PySpark)       Dask  Dask / Koalas  \\\n",
       "complex arithmetic                          NaN  15.190645            NaN   \n",
       "count                                  0.260101   0.012008       0.046167   \n",
       "count index                            0.177728   0.014466       0.081392   \n",
       "groupby statistics                          NaN  14.650766            NaN   \n",
       "join                                        NaN  15.144436            NaN   \n",
       "join count                                  NaN  15.411818            NaN   \n",
       "mean                                   0.462935  15.407151      33.281442   \n",
       "mean of complex arithmetic                  NaN  16.638054            NaN   \n",
       "mean of series addition                0.649884  15.386676      23.676035   \n",
       "mean of series multiplication          0.610726  15.549762      25.461105   \n",
       "read file                              0.146486   0.008968       0.061223   \n",
       "series addition                             NaN  15.686277            NaN   \n",
       "series multiplication                       NaN  15.837326            NaN   \n",
       "standard deviation                     0.539421  15.653548      29.019175   \n",
       "value counts                           1.557297  16.776376      10.772750   \n",
       "\n",
       "                               Koalas / Dask  \n",
       "complex arithmetic                       NaN  \n",
       "count                              21.660307  \n",
       "count index                        12.286272  \n",
       "groupby statistics                       NaN  \n",
       "join                                     NaN  \n",
       "join count                               NaN  \n",
       "mean                                0.030047  \n",
       "mean of complex arithmetic               NaN  \n",
       "mean of series addition             0.042237  \n",
       "mean of series multiplication       0.039276  \n",
       "read file                          16.333688  \n",
       "series addition                          NaN  \n",
       "series multiplication                    NaN  \n",
       "standard deviation                  0.034460  \n",
       "value counts                        0.092827  "
      ]
     },
     "execution_count": 39,
     "metadata": {},
     "output_type": "execute_result"
    }
   ],
   "source": [
    "tmp_df_x_times_faster"
   ]
  },
  {
   "cell_type": "markdown",
   "id": "7ea9f321-7dd4-45ef-8ee8-4dd2b2549505",
   "metadata": {},
   "source": [
    "# Média geométrica das razões entre os tempos de execução do Dask e do Koalas"
   ]
  },
  {
   "cell_type": "code",
   "execution_count": 40,
   "id": "dd5dd462-97a0-438b-8a2a-0cbbdc44ed5d",
   "metadata": {
    "tags": []
   },
   "outputs": [
    {
     "data": {
      "image/png": "[encoded data removed]",
      "text/plain": [
       "<Figure size 640x480 with 1 Axes>"
      ]
     },
     "metadata": {},
     "output_type": "display_data"
    }
   ],
   "source": [
    "koalas_gmean = stats.gmean(standard_ops['Koalas (PySpark)'].dropna())\n",
    "dask_gmean = stats.gmean(standard_ops['Dask'].dropna())\n",
    "ax = pd.Series([koalas_gmean, dask_gmean], index=['Koalas (PySpark)', 'Dask']).plot.bar(title='Geometric mean (excluding NaN)')\n",
    "plt.xticks(rotation=0)\n",
    "plt.tight_layout()\n",
    "plt.show()"
   ]
  },
  {
   "cell_type": "markdown",
   "id": "77842d11-bc34-41c5-8dfd-79475fab12a2",
   "metadata": {},
   "source": [
    "# Tempo total de execução"
   ]
  },
  {
   "cell_type": "code",
   "execution_count": 41,
   "id": "48df6fd0-2b87-4ef3-8c09-b62b91c7e2d9",
   "metadata": {
    "tags": []
   },
   "outputs": [
    {
     "data": {
      "image/png": "[encoded data removed]",
      "text/plain": [
       "<Figure size 640x480 with 1 Axes>"
      ]
     },
     "metadata": {},
     "output_type": "display_data"
    }
   ],
   "source": [
    "annotate(standard_ops.sum().plot.bar(title='Total execution time'))"
   ]
  },
  {
   "cell_type": "markdown",
   "id": "6cc5e49a-b0cc-4309-97c2-2cd10876e2ce",
   "metadata": {},
   "source": [
    "# Gráficos - Dados Filtrados"
   ]
  },
  {
   "cell_type": "code",
   "execution_count": 42,
   "id": "0c78232f-060b-4b60-9abf-eefa9012cc50",
   "metadata": {
    "tags": []
   },
   "outputs": [
    {
     "data": {
      "text/plain": [
       "Text(0, 0.5, 'Elapsed time (sec)')"
      ]
     },
     "execution_count": 42,
     "metadata": {},
     "output_type": "execute_result"
    },
    {
     "data": {
      "image/png": "[encoded data removed]",
      "text/plain": [
       "<Figure size 640x480 with 1 Axes>"
      ]
     },
     "metadata": {},
     "output_type": "display_data"
    },
    {
     "data": {
      "image/png": "[encoded data removed]",
      "text/plain": [
       "<Figure size 640x480 with 1 Axes>"
      ]
     },
     "metadata": {},
     "output_type": "display_data"
    }
   ],
   "source": [
    "import matplotlib.pyplot as plt\n",
    "ax = ops_with_filtering.sort_index().plot.bar(title=plot_title)\n",
    "ax.set_ylabel(\"Elapsed time (sec)\")\n",
    "tmp_df_x_times_faster = ops_with_filtering.sort_index().copy()\n",
    "tmp_df_x_times_faster['Dask / Koalas'] = tmp_df_x_times_faster.Dask / tmp_df_x_times_faster['Koalas (PySpark)']\n",
    "tmp_df_x_times_faster['Koalas / Dask'] = tmp_df_x_times_faster['Koalas (PySpark)'] / tmp_df_x_times_faster.Dask\n",
    "annotate_x_times_faster(ax, x_times_list=tmp_df_x_times_faster['Dask / Koalas'].to_list())\n",
    "ops_with_filtering.sort_index().plot.bar(logy=True, title='%s - log scaling' % plot_title).set_ylabel(\"Elapsed time (sec)\")"
   ]
  },
  {
   "cell_type": "code",
   "execution_count": 43,
   "id": "b7ca6677-36ad-4b55-8cc4-4149ce42cee4",
   "metadata": {
    "tags": []
   },
   "outputs": [
    {
     "data": {
      "text/html": [
       "<div>\n",
       "<style scoped>\n",
       "    .dataframe tbody tr th:only-of-type {\n",
       "        vertical-align: middle;\n",
       "    }\n",
       "\n",
       "    .dataframe tbody tr th {\n",
       "        vertical-align: top;\n",
       "    }\n",
       "\n",
       "    .dataframe thead th {\n",
       "        text-align: right;\n",
       "    }\n",
       "</style>\n",
       "<table border=\"1\" class=\"dataframe\">\n",
       "  <thead>\n",
       "    <tr style=\"text-align: right;\">\n",
       "      <th></th>\n",
       "      <th>Koalas (PySpark)</th>\n",
       "      <th>Dask</th>\n",
       "      <th>Dask / Koalas</th>\n",
       "      <th>Koalas / Dask</th>\n",
       "    </tr>\n",
       "  </thead>\n",
       "  <tbody>\n",
       "    <tr>\n",
       "      <th>complex arithmetic</th>\n",
       "      <td>NaN</td>\n",
       "      <td>16.450206</td>\n",
       "      <td>NaN</td>\n",
       "      <td>NaN</td>\n",
       "    </tr>\n",
       "    <tr>\n",
       "      <th>count</th>\n",
       "      <td>0.480750</td>\n",
       "      <td>15.091957</td>\n",
       "      <td>31.392521</td>\n",
       "      <td>0.031855</td>\n",
       "    </tr>\n",
       "    <tr>\n",
       "      <th>count index</th>\n",
       "      <td>0.411687</td>\n",
       "      <td>15.131043</td>\n",
       "      <td>36.753722</td>\n",
       "      <td>0.027208</td>\n",
       "    </tr>\n",
       "    <tr>\n",
       "      <th>groupby statistics</th>\n",
       "      <td>1.043396</td>\n",
       "      <td>16.225968</td>\n",
       "      <td>15.551105</td>\n",
       "      <td>0.064304</td>\n",
       "    </tr>\n",
       "    <tr>\n",
       "      <th>join</th>\n",
       "      <td>NaN</td>\n",
       "      <td>16.363729</td>\n",
       "      <td>NaN</td>\n",
       "      <td>NaN</td>\n",
       "    </tr>\n",
       "    <tr>\n",
       "      <th>join count</th>\n",
       "      <td>NaN</td>\n",
       "      <td>15.984035</td>\n",
       "      <td>NaN</td>\n",
       "      <td>NaN</td>\n",
       "    </tr>\n",
       "    <tr>\n",
       "      <th>mean</th>\n",
       "      <td>0.661548</td>\n",
       "      <td>15.251712</td>\n",
       "      <td>23.054584</td>\n",
       "      <td>0.043375</td>\n",
       "    </tr>\n",
       "    <tr>\n",
       "      <th>mean of complex arithmetic</th>\n",
       "      <td>NaN</td>\n",
       "      <td>15.893119</td>\n",
       "      <td>NaN</td>\n",
       "      <td>NaN</td>\n",
       "    </tr>\n",
       "    <tr>\n",
       "      <th>mean of series addition</th>\n",
       "      <td>0.677189</td>\n",
       "      <td>15.557946</td>\n",
       "      <td>22.974293</td>\n",
       "      <td>0.043527</td>\n",
       "    </tr>\n",
       "    <tr>\n",
       "      <th>mean of series multiplication</th>\n",
       "      <td>0.645065</td>\n",
       "      <td>15.678725</td>\n",
       "      <td>24.305658</td>\n",
       "      <td>0.041143</td>\n",
       "    </tr>\n",
       "    <tr>\n",
       "      <th>read file</th>\n",
       "      <td>0.108400</td>\n",
       "      <td>0.007889</td>\n",
       "      <td>0.072773</td>\n",
       "      <td>13.741439</td>\n",
       "    </tr>\n",
       "    <tr>\n",
       "      <th>series addition</th>\n",
       "      <td>NaN</td>\n",
       "      <td>15.955137</td>\n",
       "      <td>NaN</td>\n",
       "      <td>NaN</td>\n",
       "    </tr>\n",
       "    <tr>\n",
       "      <th>series multiplication</th>\n",
       "      <td>NaN</td>\n",
       "      <td>15.846375</td>\n",
       "      <td>NaN</td>\n",
       "      <td>NaN</td>\n",
       "    </tr>\n",
       "    <tr>\n",
       "      <th>standard deviation</th>\n",
       "      <td>0.682728</td>\n",
       "      <td>13.730219</td>\n",
       "      <td>20.110810</td>\n",
       "      <td>0.049725</td>\n",
       "    </tr>\n",
       "    <tr>\n",
       "      <th>value counts</th>\n",
       "      <td>1.089473</td>\n",
       "      <td>16.651477</td>\n",
       "      <td>15.283967</td>\n",
       "      <td>0.065428</td>\n",
       "    </tr>\n",
       "  </tbody>\n",
       "</table>\n",
       "</div>"
      ],
      "text/plain": [
       "                               Koalas (PySpark)       Dask  Dask / Koalas  \\\n",
       "complex arithmetic                          NaN  16.450206            NaN   \n",
       "count                                  0.480750  15.091957      31.392521   \n",
       "count index                            0.411687  15.131043      36.753722   \n",
       "groupby statistics                     1.043396  16.225968      15.551105   \n",
       "join                                        NaN  16.363729            NaN   \n",
       "join count                                  NaN  15.984035            NaN   \n",
       "mean                                   0.661548  15.251712      23.054584   \n",
       "mean of complex arithmetic                  NaN  15.893119            NaN   \n",
       "mean of series addition                0.677189  15.557946      22.974293   \n",
       "mean of series multiplication          0.645065  15.678725      24.305658   \n",
       "read file                              0.108400   0.007889       0.072773   \n",
       "series addition                             NaN  15.955137            NaN   \n",
       "series multiplication                       NaN  15.846375            NaN   \n",
       "standard deviation                     0.682728  13.730219      20.110810   \n",
       "value counts                           1.089473  16.651477      15.283967   \n",
       "\n",
       "                               Koalas / Dask  \n",
       "complex arithmetic                       NaN  \n",
       "count                               0.031855  \n",
       "count index                         0.027208  \n",
       "groupby statistics                  0.064304  \n",
       "join                                     NaN  \n",
       "join count                               NaN  \n",
       "mean                                0.043375  \n",
       "mean of complex arithmetic               NaN  \n",
       "mean of series addition             0.043527  \n",
       "mean of series multiplication       0.041143  \n",
       "read file                          13.741439  \n",
       "series addition                          NaN  \n",
       "series multiplication                    NaN  \n",
       "standard deviation                  0.049725  \n",
       "value counts                        0.065428  "
      ]
     },
     "execution_count": 43,
     "metadata": {},
     "output_type": "execute_result"
    }
   ],
   "source": [
    "tmp_df_x_times_faster"
   ]
  },
  {
   "cell_type": "markdown",
   "id": "703aa24d-92bb-40b6-9789-70c2f1559cf9",
   "metadata": {},
   "source": [
    "# Média Geométrica"
   ]
  },
  {
   "cell_type": "code",
   "execution_count": 44,
   "id": "8c12eb76-4e8b-45cd-9053-77d87dde259c",
   "metadata": {
    "tags": []
   },
   "outputs": [
    {
     "data": {
      "image/png": "[encoded data removed]",
      "text/plain": [
       "<Figure size 640x480 with 1 Axes>"
      ]
     },
     "metadata": {},
     "output_type": "display_data"
    }
   ],
   "source": [
    "koalas_gmean = stats.gmean(ops_with_filtering['Koalas (PySpark)'].dropna())\n",
    "dask_gmean = stats.gmean(ops_with_filtering['Dask'].dropna())\n",
    "ax = pd.Series([koalas_gmean, dask_gmean], index=['Koalas (PySpark)', 'Dask']).plot.bar(title='Geometric mean (excluding NaN)')\n",
    "plt.xticks(rotation=0)\n",
    "plt.tight_layout()\n",
    "plt.show()"
   ]
  },
  {
   "cell_type": "markdown",
   "id": "00fff7c4-ab05-42f2-aba1-84039fde58a4",
   "metadata": {},
   "source": [
    "# Tempo total de execução"
   ]
  },
  {
   "cell_type": "code",
   "execution_count": 45,
   "id": "b2cb6b10-02fe-42dc-8b28-8bbb9cc91a71",
   "metadata": {
    "tags": []
   },
   "outputs": [
    {
     "data": {
      "image/png": "[encoded data removed]",
      "text/plain": [
       "<Figure size 640x480 with 1 Axes>"
      ]
     },
     "metadata": {},
     "output_type": "display_data"
    }
   ],
   "source": [
    "annotate(ops_with_filtering.sum().plot.bar(title='Total execution time'))"
   ]
  },
  {
   "cell_type": "markdown",
   "id": "7b8e8e54-f098-41d3-bd60-d5cc7a7fd19e",
   "metadata": {},
   "source": [
    "# Gráficos - Dados Filtrados com Caching"
   ]
  },
  {
   "cell_type": "code",
   "execution_count": 46,
   "id": "20d7b0ab-721c-4a78-9f9c-92d87eaa808a",
   "metadata": {
    "tags": []
   },
   "outputs": [
    {
     "data": {
      "text/plain": [
       "Text(0, 0.5, 'Elapsed time (sec)')"
      ]
     },
     "execution_count": 46,
     "metadata": {},
     "output_type": "execute_result"
    },
    {
     "data": {
      "image/png": "[encoded data removed]",
      "text/plain": [
       "<Figure size 640x480 with 1 Axes>"
      ]
     },
     "metadata": {},
     "output_type": "display_data"
    },
    {
     "data": {
      "image/png": "[encoded data removed]",
      "text/plain": [
       "<Figure size 640x480 with 1 Axes>"
      ]
     },
     "metadata": {},
     "output_type": "display_data"
    }
   ],
   "source": [
    " ax = ops_with_filtering_caching.sort_index().plot.bar(title=plot_title)\n",
    "tmp_df_x_times_faster = ops_with_filtering_caching.sort_index().copy()\n",
    "tmp_df_x_times_faster['Dask / Koalas'] = tmp_df_x_times_faster.Dask / tmp_df_x_times_faster['Koalas (PySpark)']\n",
    "tmp_df_x_times_faster['Koalas / Dask'] = tmp_df_x_times_faster['Koalas (PySpark)'] / tmp_df_x_times_faster.Dask\n",
    "annotate_x_times_faster(ax, x_times_list=tmp_df_x_times_faster['Dask / Koalas'].to_list())\n",
    " \n",
    "ops_with_filtering_caching.sort_index().plot.bar(logy=True, title='%s - log scaling' % plot_title).set_ylabel(\"Elapsed time (sec)\")"
   ]
  },
  {
   "cell_type": "code",
   "execution_count": 47,
   "id": "b14ef227-5bf6-4b74-866e-f9779e4b4d95",
   "metadata": {
    "tags": []
   },
   "outputs": [
    {
     "data": {
      "text/html": [
       "<div>\n",
       "<style scoped>\n",
       "    .dataframe tbody tr th:only-of-type {\n",
       "        vertical-align: middle;\n",
       "    }\n",
       "\n",
       "    .dataframe tbody tr th {\n",
       "        vertical-align: top;\n",
       "    }\n",
       "\n",
       "    .dataframe thead th {\n",
       "        text-align: right;\n",
       "    }\n",
       "</style>\n",
       "<table border=\"1\" class=\"dataframe\">\n",
       "  <thead>\n",
       "    <tr style=\"text-align: right;\">\n",
       "      <th></th>\n",
       "      <th>Koalas (PySpark)</th>\n",
       "      <th>Dask</th>\n",
       "      <th>Dask / Koalas</th>\n",
       "      <th>Koalas / Dask</th>\n",
       "    </tr>\n",
       "  </thead>\n",
       "  <tbody>\n",
       "    <tr>\n",
       "      <th>complex arithmetic</th>\n",
       "      <td>NaN</td>\n",
       "      <td>0.605202</td>\n",
       "      <td>NaN</td>\n",
       "      <td>NaN</td>\n",
       "    </tr>\n",
       "    <tr>\n",
       "      <th>count</th>\n",
       "      <td>NaN</td>\n",
       "      <td>0.035454</td>\n",
       "      <td>NaN</td>\n",
       "      <td>NaN</td>\n",
       "    </tr>\n",
       "    <tr>\n",
       "      <th>count index</th>\n",
       "      <td>NaN</td>\n",
       "      <td>0.031214</td>\n",
       "      <td>NaN</td>\n",
       "      <td>NaN</td>\n",
       "    </tr>\n",
       "    <tr>\n",
       "      <th>groupby statistics</th>\n",
       "      <td>NaN</td>\n",
       "      <td>0.271361</td>\n",
       "      <td>NaN</td>\n",
       "      <td>NaN</td>\n",
       "    </tr>\n",
       "    <tr>\n",
       "      <th>join</th>\n",
       "      <td>NaN</td>\n",
       "      <td>0.115017</td>\n",
       "      <td>NaN</td>\n",
       "      <td>NaN</td>\n",
       "    </tr>\n",
       "    <tr>\n",
       "      <th>join count</th>\n",
       "      <td>NaN</td>\n",
       "      <td>0.070177</td>\n",
       "      <td>NaN</td>\n",
       "      <td>NaN</td>\n",
       "    </tr>\n",
       "    <tr>\n",
       "      <th>mean</th>\n",
       "      <td>NaN</td>\n",
       "      <td>0.056138</td>\n",
       "      <td>NaN</td>\n",
       "      <td>NaN</td>\n",
       "    </tr>\n",
       "    <tr>\n",
       "      <th>mean of complex arithmetic</th>\n",
       "      <td>NaN</td>\n",
       "      <td>0.388310</td>\n",
       "      <td>NaN</td>\n",
       "      <td>NaN</td>\n",
       "    </tr>\n",
       "    <tr>\n",
       "      <th>mean of series addition</th>\n",
       "      <td>NaN</td>\n",
       "      <td>0.071108</td>\n",
       "      <td>NaN</td>\n",
       "      <td>NaN</td>\n",
       "    </tr>\n",
       "    <tr>\n",
       "      <th>mean of series multiplication</th>\n",
       "      <td>NaN</td>\n",
       "      <td>0.069629</td>\n",
       "      <td>NaN</td>\n",
       "      <td>NaN</td>\n",
       "    </tr>\n",
       "    <tr>\n",
       "      <th>read file</th>\n",
       "      <td>NaN</td>\n",
       "      <td>0.009152</td>\n",
       "      <td>NaN</td>\n",
       "      <td>NaN</td>\n",
       "    </tr>\n",
       "    <tr>\n",
       "      <th>series addition</th>\n",
       "      <td>NaN</td>\n",
       "      <td>0.265028</td>\n",
       "      <td>NaN</td>\n",
       "      <td>NaN</td>\n",
       "    </tr>\n",
       "    <tr>\n",
       "      <th>series multiplication</th>\n",
       "      <td>NaN</td>\n",
       "      <td>0.286330</td>\n",
       "      <td>NaN</td>\n",
       "      <td>NaN</td>\n",
       "    </tr>\n",
       "    <tr>\n",
       "      <th>standard deviation</th>\n",
       "      <td>NaN</td>\n",
       "      <td>0.115044</td>\n",
       "      <td>NaN</td>\n",
       "      <td>NaN</td>\n",
       "    </tr>\n",
       "    <tr>\n",
       "      <th>value counts</th>\n",
       "      <td>NaN</td>\n",
       "      <td>0.117488</td>\n",
       "      <td>NaN</td>\n",
       "      <td>NaN</td>\n",
       "    </tr>\n",
       "  </tbody>\n",
       "</table>\n",
       "</div>"
      ],
      "text/plain": [
       "                               Koalas (PySpark)      Dask  Dask / Koalas  \\\n",
       "complex arithmetic                          NaN  0.605202            NaN   \n",
       "count                                       NaN  0.035454            NaN   \n",
       "count index                                 NaN  0.031214            NaN   \n",
       "groupby statistics                          NaN  0.271361            NaN   \n",
       "join                                        NaN  0.115017            NaN   \n",
       "join count                                  NaN  0.070177            NaN   \n",
       "mean                                        NaN  0.056138            NaN   \n",
       "mean of complex arithmetic                  NaN  0.388310            NaN   \n",
       "mean of series addition                     NaN  0.071108            NaN   \n",
       "mean of series multiplication               NaN  0.069629            NaN   \n",
       "read file                                   NaN  0.009152            NaN   \n",
       "series addition                             NaN  0.265028            NaN   \n",
       "series multiplication                       NaN  0.286330            NaN   \n",
       "standard deviation                          NaN  0.115044            NaN   \n",
       "value counts                                NaN  0.117488            NaN   \n",
       "\n",
       "                               Koalas / Dask  \n",
       "complex arithmetic                       NaN  \n",
       "count                                    NaN  \n",
       "count index                              NaN  \n",
       "groupby statistics                       NaN  \n",
       "join                                     NaN  \n",
       "join count                               NaN  \n",
       "mean                                     NaN  \n",
       "mean of complex arithmetic               NaN  \n",
       "mean of series addition                  NaN  \n",
       "mean of series multiplication            NaN  \n",
       "read file                                NaN  \n",
       "series addition                          NaN  \n",
       "series multiplication                    NaN  \n",
       "standard deviation                       NaN  \n",
       "value counts                             NaN  "
      ]
     },
     "execution_count": 47,
     "metadata": {},
     "output_type": "execute_result"
    }
   ],
   "source": [
    "tmp_df_x_times_faster"
   ]
  },
  {
   "cell_type": "markdown",
   "id": "eb45993a-84c1-42f1-bbfa-5985e35adcfe",
   "metadata": {},
   "source": [
    "# Média Geométrica"
   ]
  },
  {
   "cell_type": "code",
   "execution_count": 48,
   "id": "41f70146-f77e-48cc-91b5-8ab8b06718cf",
   "metadata": {
    "tags": []
   },
   "outputs": [
    {
     "name": "stderr",
     "output_type": "stream",
     "text": [
      "/opt/conda/lib/python3.10/site-packages/numpy/lib/function_base.py:520: RuntimeWarning: Mean of empty slice.\n",
      "  avg = a.mean(axis, **keepdims_kw)\n",
      "/opt/conda/lib/python3.10/site-packages/numpy/core/_methods.py:129: RuntimeWarning: invalid value encountered in scalar divide\n",
      "  ret = ret.dtype.type(ret / rcount)\n"
     ]
    },
    {
     "data": {
      "image/png": "[encoded data removed]",
      "text/plain": [
       "<Figure size 640x480 with 1 Axes>"
      ]
     },
     "metadata": {},
     "output_type": "display_data"
    }
   ],
   "source": [
    "koalas_gmean = stats.gmean(ops_with_filtering_caching['Koalas (PySpark)'].dropna())\n",
    "dask_gmean = stats.gmean(ops_with_filtering_caching['Dask'].dropna())\n",
    "ax = pd.Series([koalas_gmean, dask_gmean], index=['Koalas (PySpark)', 'Dask']).plot.bar(title='Geometric mean (excluding NaN)')\n",
    "ax.set_ylabel('Time (seconds)')\n",
    "plt.xticks(rotation=0)\n",
    "plt.tight_layout()\n",
    "plt.show()"
   ]
  },
  {
   "cell_type": "markdown",
   "id": "092901d6-11f1-4652-9672-b85cae724e62",
   "metadata": {},
   "source": [
    "# Tempo total de execução"
   ]
  },
  {
   "cell_type": "code",
   "execution_count": 49,
   "id": "7e24dea7-0985-4b43-881d-d791bec32af4",
   "metadata": {
    "tags": []
   },
   "outputs": [
    {
     "data": {
      "image/png": "[encoded data removed]",
      "text/plain": [
       "<Figure size 640x480 with 1 Axes>"
      ]
     },
     "metadata": {},
     "output_type": "display_data"
    }
   ],
   "source": [
    "annotate(ops_with_filtering_caching.sum().plot.bar(title='Total execution time'))\n"
   ]
  },
  {
   "cell_type": "markdown",
   "id": "06a5beed-d181-4da0-8425-204c4cbb9f39",
   "metadata": {},
   "source": [
    "## Observações  \n",
    "\n",
    "Na comparação do desempenho entre as bibliotecas Koalas (PySpark) e Dask, várias operações foram realizadas sobre dados brutos, dados filtrados e dados filtrados com caching, permitindo uma análise detalhada da eficiência de cada uma.\n",
    "\n",
    "Nas operações realizadas sem filtragem, Dask mostrou-se bastante rápido na leitura inicial dos arquivos. Contudo, para a maioria das outras operações, Koalas foi consideravelmente mais eficiente. Operações como contagem, contagem de índices, cálculos de média, desvio padrão, operações aritméticas simples e complexas, contagem de valores e estatísticas de agrupamento apresentaram tempos de execução menores com Koalas. Entretanto, algumas operações em Koalas, como adição e multiplicação de séries e operações de junção, não puderam ser concluídas devido a limitações de memória, resultando em dados faltantes (NaN).\n",
    "\n",
    "Quando os dados foram filtrados, a vantagem de Koalas em termos de tempo de execução permaneceu clara. As operações de contagem, contagem de índices, cálculo de média e outras funções estatísticas e aritméticas foram novamente mais rápidas em Koalas. Porém, assim como no caso anterior, certas operações enfrentaram limitações de memória que impediram sua conclusão, gerando valores NaN.\n",
    "\n",
    "\n",
    "De modo geral, Koalas demonstrou maior eficiência para a maioria das operações realizadas sem filtragem e com filtragem, apesar das limitações de memória que afetaram certas operações. Apesar de Koalas ser geralmente mais rápido sem caching, seu maior consumo de memória dificulta a execução completa de algumas tarefas.\n"
   ]
  },
  {
   "cell_type": "markdown",
   "id": "ea1390c0-77bf-47fd-bac7-1ec0b57378c8",
   "metadata": {},
   "source": [
    "# Repetição para datasets com 2 e 3 Ficheiros"
   ]
  },
  {
   "cell_type": "code",
   "execution_count": 50,
   "id": "40d5fba2-f146-4762-8d5f-793f79f8b483",
   "metadata": {
    "tags": []
   },
   "outputs": [],
   "source": [
    "client.restart()"
   ]
  },
  {
   "cell_type": "markdown",
   "id": "0d8c6b2c-bc6f-4fc7-949b-b9c04bab9ba0",
   "metadata": {},
   "source": [
    "# Dask"
   ]
  },
  {
   "cell_type": "code",
   "execution_count": 51,
   "id": "32a59079-84bb-4945-b604-30529c7730b5",
   "metadata": {
    "tags": []
   },
   "outputs": [],
   "source": [
    "parquet_files2 = ['Ficheiros/taxi_csv/yellow_tripdata_2009-11.parquet', \n",
    "                 'Ficheiros/taxi_csv/yellow_tripdata_2009-12.parquet']\n",
    "\n",
    "parquet_files3 = [\n",
    "    'Ficheiros/taxi_csv/yellow_tripdata_2009-10.parquet', \n",
    "    'Ficheiros/taxi_csv/yellow_tripdata_2009-11.parquet',\n",
    "    'Ficheiros/taxi_csv/yellow_tripdata_2009-12.parquet'\n",
    "]\n",
    "\n",
    "dask_data2 = dd.read_parquet(parquet_files2)\n",
    "dask_data3 = dd.read_parquet(parquet_files3)\n",
    "dask_benchmarks2 = {'duration': [], 'task': []}\n",
    "dask_benchmarks_filtered2 = {'duration': [], 'task': []}\n",
    "dask_benchmarks_cache2 = {'duration': [], 'task': []}\n",
    "\n",
    "dask_benchmarks3 = {'duration': [], 'task': []}\n",
    "dask_benchmarks_filtered3 = {'duration': [], 'task': []}\n",
    "dask_benchmarks_cache3 = {'duration': [], 'task': []}"
   ]
  },
  {
   "cell_type": "code",
   "execution_count": 52,
   "id": "b730cfa0-f2f0-499d-b5c9-f11cafb26534",
   "metadata": {
    "tags": []
   },
   "outputs": [
    {
     "name": "stdout",
     "output_type": "stream",
     "text": [
      "Index(['vendor_name', 'trip_pickup_datetime', 'trip_dropoff_datetime',\n",
      "       'passenger_count', 'trip_distance', 'start_lon', 'start_lat',\n",
      "       'rate_code', 'store_and_forward', 'end_lon', 'end_lat', 'payment_type',\n",
      "       'fare_amt', 'surcharge', 'mta_tax', 'tip_amt', 'tolls_amt',\n",
      "       'total_amt'],\n",
      "      dtype='object')\n",
      "Index(['vendor_name', 'trip_pickup_datetime', 'trip_dropoff_datetime',\n",
      "       'passenger_count', 'trip_distance', 'start_lon', 'start_lat',\n",
      "       'rate_code', 'store_and_forward', 'end_lon', 'end_lat', 'payment_type',\n",
      "       'fare_amt', 'surcharge', 'mta_tax', 'tip_amt', 'tolls_amt',\n",
      "       'total_amt'],\n",
      "      dtype='object')\n"
     ]
    }
   ],
   "source": [
    "dask_data2 = dask_data2.rename(columns=str.lower)\n",
    "columns_list2 = dask_data2.columns\n",
    "print(columns_list2)\n",
    "dask_data3 = dask_data3.rename(columns=str.lower)\n",
    "columns_list3 = dask_data3.columns\n",
    "print(columns_list3)"
   ]
  },
  {
   "cell_type": "code",
   "execution_count": 53,
   "id": "68b11add-7f1b-439f-99ca-9ea0af75afd5",
   "metadata": {
    "tags": []
   },
   "outputs": [],
   "source": [
    "dfs = [dask_data2, dask_data3]"
   ]
  },
  {
   "cell_type": "code",
   "execution_count": 54,
   "id": "3cff4bba-bed2-40b5-ad7d-6713fa5458d8",
   "metadata": {
    "tags": []
   },
   "outputs": [
    {
     "name": "stderr",
     "output_type": "stream",
     "text": [
      "2025-06-03 20:08:15,411 - distributed.worker.memory - WARNING - Unmanaged memory use is high. This may indicate a memory leak or the memory may not be released to the OS; see https://distributed.dask.org/en/latest/worker-memory.html#memory-not-released-back-to-the-os for more information. -- Unmanaged memory: 5.55 GiB -- Worker memory limit: 7.83 GiB\n",
      "2025-06-03 20:08:15,607 - distributed.worker.memory - WARNING - Unmanaged memory use is high. This may indicate a memory leak or the memory may not be released to the OS; see https://distributed.dask.org/en/latest/worker-memory.html#memory-not-released-back-to-the-os for more information. -- Unmanaged memory: 5.52 GiB -- Worker memory limit: 7.83 GiB\n",
      "2025-06-03 20:08:33,877 - distributed.worker.memory - WARNING - Unmanaged memory use is high. This may indicate a memory leak or the memory may not be released to the OS; see https://distributed.dask.org/en/latest/worker-memory.html#memory-not-released-back-to-the-os for more information. -- Unmanaged memory: 5.57 GiB -- Worker memory limit: 7.83 GiB\n",
      "2025-06-03 20:08:34,472 - distributed.worker.memory - WARNING - Worker is at 80% memory usage. Pausing worker.  Process memory: 6.32 GiB -- Worker memory limit: 7.83 GiB\n",
      "2025-06-03 20:08:34,665 - distributed.worker.memory - WARNING - Worker is at 39% memory usage. Resuming worker. Process memory: 3.12 GiB -- Worker memory limit: 7.83 GiB\n"
     ]
    }
   ],
   "source": [
    "def count(df=None):\n",
    "    return len(df)\n",
    " \n",
    "def count_index_length(df=None):\n",
    "    return len(df.index)\n",
    " \n",
    "def mean(df):\n",
    "    return df.fare_amt.mean().compute()\n",
    " \n",
    "def standard_deviation(df):\n",
    "    return df.fare_amt.std().compute()\n",
    " \n",
    "def mean_of_sum(df):\n",
    "    return (df.fare_amt + df.tip_amt).mean().compute()\n",
    " \n",
    "def sum_columns(df):\n",
    "    return (df.fare_amt + df.tip_amt).compute()\n",
    " \n",
    "def mean_of_product(df):\n",
    "    return (df.fare_amt * df.tip_amt).mean().compute()\n",
    " \n",
    "def product_columns(df):\n",
    "    return (df.fare_amt * df.tip_amt).compute()\n",
    "  \n",
    "def value_counts(df):\n",
    "    return df.fare_amt.value_counts().compute()\n",
    "  \n",
    "def mean_of_complicated_arithmetic_operation(df):\n",
    "    theta_1 = df.start_lon\n",
    "    phi_1 = df.start_lat\n",
    "    theta_2 = df.end_lon\n",
    "    phi_2 = df.end_lat\n",
    "    temp = (np.sin((theta_2-theta_1)/2*np.pi/180)**2\n",
    "           + np.cos(theta_1*np.pi/180)*np.cos(theta_2*np.pi/180) * np.sin((phi_2-phi_1)/2*np.pi/180)**2)\n",
    "    ret = 2 * np.arctan2(np.sqrt(temp), np.sqrt(1-temp))\n",
    "    return ret.mean().compute()\n",
    "  \n",
    "def complicated_arithmetic_operation(df):\n",
    "    theta_1 = df.start_lon\n",
    "    phi_1 = df.start_lat\n",
    "    theta_2 = df.end_lon\n",
    "    phi_2 = df.end_lat\n",
    "    temp = (np.sin((theta_2-theta_1)/2*np.pi/180)**2\n",
    "           + np.cos(theta_1*np.pi/180)*np.cos(theta_2*np.pi/180) * np.sin((phi_2-phi_1)/2*np.pi/180)**2)\n",
    "    ret = 2 * np.arctan2(np.sqrt(temp), np.sqrt(1-temp))\n",
    "    return ret.compute()\n",
    "  \n",
    "def groupby_statistics(df):\n",
    "    return df.groupby(by='passenger_count').agg(\n",
    "      {\n",
    "        'fare_amt': ['mean', 'std'], \n",
    "        'tip_amt': ['mean', 'std']\n",
    "      }\n",
    "    ).compute()\n",
    "\n",
    "for df in dfs:\n",
    "    other = groupby_statistics(df)\n",
    "    other.columns = pd.Index([e[0]+'' + e[1] for e in other.columns.tolist()])\n",
    "\n",
    "def join_count(df, other):\n",
    "    return len(dd.merge(df, other, left_index=True, right_index=True))\n",
    " \n",
    "def join_data(df, other):\n",
    "    return dd.merge(df, other, left_index=True, right_index=True).compute()"
   ]
  },
  {
   "cell_type": "code",
   "execution_count": 55,
   "id": "2cc44003-cbd7-4deb-b8d1-4dd74de7c703",
   "metadata": {
    "tags": []
   },
   "outputs": [
    {
     "name": "stdout",
     "output_type": "stream",
     "text": [
      "count took: 0.01425313949584961 seconds\n",
      "count index length took: 0.006908416748046875 seconds\n",
      "mean took: 16.305418968200684 seconds\n",
      "standard deviation took: 16.506136417388916 seconds\n",
      "mean of columns addition took: 16.21994686126709 seconds\n",
      "addition of columns took: 18.25602388381958 seconds\n",
      "mean of columns multiplication took: 16.085193872451782 seconds\n",
      "multiplication of columns took: 17.670217275619507 seconds\n",
      "value counts took: 16.023526430130005 seconds\n",
      "mean of complex arithmetic ops took: 16.844929933547974 seconds\n",
      "complex arithmetic ops took: 19.013081550598145 seconds\n",
      "groupby statistics took: 16.7766695022583 seconds\n",
      "count took: 0.015949726104736328 seconds\n",
      "count index length took: 0.005137920379638672 seconds\n"
     ]
    },
    {
     "name": "stderr",
     "output_type": "stream",
     "text": [
      "2025-06-03 20:11:43,584 - distributed.worker.memory - WARNING - Worker is at 82% memory usage. Pausing worker.  Process memory: 6.43 GiB -- Worker memory limit: 7.83 GiB\n",
      "2025-06-03 20:11:43,775 - distributed.worker.memory - WARNING - Worker is at 40% memory usage. Resuming worker. Process memory: 3.19 GiB -- Worker memory limit: 7.83 GiB\n",
      "2025-06-03 20:12:00,269 - distributed.worker.memory - WARNING - Worker is at 80% memory usage. Pausing worker.  Process memory: 6.28 GiB -- Worker memory limit: 7.83 GiB\n",
      "2025-06-03 20:12:00,516 - distributed.worker.memory - WARNING - Worker is at 41% memory usage. Resuming worker. Process memory: 3.25 GiB -- Worker memory limit: 7.83 GiB\n",
      "2025-06-03 20:12:17,413 - distributed.worker.memory - WARNING - Unmanaged memory use is high. This may indicate a memory leak or the memory may not be released to the OS; see https://distributed.dask.org/en/latest/worker-memory.html#memory-not-released-back-to-the-os for more information. -- Unmanaged memory: 5.56 GiB -- Worker memory limit: 7.83 GiB\n",
      "2025-06-03 20:12:17,775 - distributed.worker.memory - WARNING - Worker is at 81% memory usage. Pausing worker.  Process memory: 6.36 GiB -- Worker memory limit: 7.83 GiB\n",
      "2025-06-03 20:12:17,979 - distributed.worker.memory - WARNING - Worker is at 38% memory usage. Resuming worker. Process memory: 3.05 GiB -- Worker memory limit: 7.83 GiB\n"
     ]
    },
    {
     "name": "stdout",
     "output_type": "stream",
     "text": [
      "mean took: 50.26020622253418 seconds\n"
     ]
    },
    {
     "name": "stderr",
     "output_type": "stream",
     "text": [
      "2025-06-03 20:12:34,115 - distributed.worker.memory - WARNING - Unmanaged memory use is high. This may indicate a memory leak or the memory may not be released to the OS; see https://distributed.dask.org/en/latest/worker-memory.html#memory-not-released-back-to-the-os for more information. -- Unmanaged memory: 5.52 GiB -- Worker memory limit: 7.83 GiB\n",
      "2025-06-03 20:12:34,675 - distributed.worker.memory - WARNING - Worker is at 80% memory usage. Pausing worker.  Process memory: 6.34 GiB -- Worker memory limit: 7.83 GiB\n",
      "2025-06-03 20:12:34,975 - distributed.worker.memory - WARNING - Worker is at 38% memory usage. Resuming worker. Process memory: 3.05 GiB -- Worker memory limit: 7.83 GiB\n"
     ]
    },
    {
     "name": "stdout",
     "output_type": "stream",
     "text": [
      "standard deviation took: 20.03347086906433 seconds\n"
     ]
    },
    {
     "name": "stderr",
     "output_type": "stream",
     "text": [
      "2025-06-03 20:12:54,004 - distributed.worker.memory - WARNING - Worker is at 80% memory usage. Pausing worker.  Process memory: 6.28 GiB -- Worker memory limit: 7.83 GiB\n",
      "2025-06-03 20:12:54,219 - distributed.worker.memory - WARNING - Worker is at 39% memory usage. Resuming worker. Process memory: 3.11 GiB -- Worker memory limit: 7.83 GiB\n",
      "2025-06-03 20:13:11,267 - distributed.worker.memory - WARNING - Worker is at 81% memory usage. Pausing worker.  Process memory: 6.36 GiB -- Worker memory limit: 7.83 GiB\n",
      "2025-06-03 20:13:11,454 - distributed.worker.memory - WARNING - Worker is at 39% memory usage. Resuming worker. Process memory: 3.06 GiB -- Worker memory limit: 7.83 GiB\n"
     ]
    },
    {
     "name": "stdout",
     "output_type": "stream",
     "text": [
      "mean of columns addition took: 35.09546875953674 seconds\n"
     ]
    },
    {
     "name": "stderr",
     "output_type": "stream",
     "text": [
      "2025-06-03 20:13:28,716 - distributed.worker.memory - WARNING - Unmanaged memory use is high. This may indicate a memory leak or the memory may not be released to the OS; see https://distributed.dask.org/en/latest/worker-memory.html#memory-not-released-back-to-the-os for more information. -- Unmanaged memory: 5.67 GiB -- Worker memory limit: 7.83 GiB\n",
      "2025-06-03 20:13:28,944 - distributed.worker.memory - WARNING - Worker is at 81% memory usage. Pausing worker.  Process memory: 6.38 GiB -- Worker memory limit: 7.83 GiB\n",
      "2025-06-03 20:13:29,142 - distributed.worker.memory - WARNING - Worker is at 40% memory usage. Resuming worker. Process memory: 3.18 GiB -- Worker memory limit: 7.83 GiB\n"
     ]
    },
    {
     "name": "stdout",
     "output_type": "stream",
     "text": [
      "addition of columns took: 20.815864324569702 seconds\n"
     ]
    },
    {
     "name": "stderr",
     "output_type": "stream",
     "text": [
      "2025-06-03 20:13:48,677 - distributed.worker.memory - WARNING - Unmanaged memory use is high. This may indicate a memory leak or the memory may not be released to the OS; see https://distributed.dask.org/en/latest/worker-memory.html#memory-not-released-back-to-the-os for more information. -- Unmanaged memory: 5.56 GiB -- Worker memory limit: 7.83 GiB\n",
      "2025-06-03 20:13:50,304 - distributed.worker.memory - WARNING - Worker is at 80% memory usage. Pausing worker.  Process memory: 6.27 GiB -- Worker memory limit: 7.83 GiB\n",
      "2025-06-03 20:13:50,538 - distributed.worker.memory - WARNING - Worker is at 39% memory usage. Resuming worker. Process memory: 3.06 GiB -- Worker memory limit: 7.83 GiB\n",
      "2025-06-03 20:14:07,569 - distributed.worker.memory - WARNING - Worker is at 80% memory usage. Pausing worker.  Process memory: 6.33 GiB -- Worker memory limit: 7.83 GiB\n",
      "2025-06-03 20:14:07,770 - distributed.worker.memory - WARNING - Worker is at 39% memory usage. Resuming worker. Process memory: 3.12 GiB -- Worker memory limit: 7.83 GiB\n"
     ]
    },
    {
     "name": "stdout",
     "output_type": "stream",
     "text": [
      "mean of columns multiplication took: 33.937148571014404 seconds\n"
     ]
    },
    {
     "name": "stderr",
     "output_type": "stream",
     "text": [
      "2025-06-03 20:14:23,490 - distributed.worker.memory - WARNING - Unmanaged memory use is high. This may indicate a memory leak or the memory may not be released to the OS; see https://distributed.dask.org/en/latest/worker-memory.html#memory-not-released-back-to-the-os for more information. -- Unmanaged memory: 5.64 GiB -- Worker memory limit: 7.83 GiB\n",
      "2025-06-03 20:14:23,841 - distributed.worker.memory - WARNING - Worker is at 82% memory usage. Pausing worker.  Process memory: 6.44 GiB -- Worker memory limit: 7.83 GiB\n",
      "2025-06-03 20:14:24,062 - distributed.worker.memory - WARNING - Worker is at 40% memory usage. Resuming worker. Process memory: 3.18 GiB -- Worker memory limit: 7.83 GiB\n",
      "2025-06-03 20:14:40,466 - distributed.worker.memory - WARNING - Worker is at 82% memory usage. Pausing worker.  Process memory: 6.44 GiB -- Worker memory limit: 7.83 GiB\n",
      "2025-06-03 20:14:40,679 - distributed.worker.memory - WARNING - Worker is at 39% memory usage. Resuming worker. Process memory: 3.12 GiB -- Worker memory limit: 7.83 GiB\n"
     ]
    },
    {
     "name": "stdout",
     "output_type": "stream",
     "text": [
      "multiplication of columns took: 36.45214104652405 seconds\n"
     ]
    },
    {
     "name": "stderr",
     "output_type": "stream",
     "text": [
      "2025-06-03 20:14:59,948 - distributed.worker.memory - WARNING - Unmanaged memory use is high. This may indicate a memory leak or the memory may not be released to the OS; see https://distributed.dask.org/en/latest/worker-memory.html#memory-not-released-back-to-the-os for more information. -- Unmanaged memory: 5.70 GiB -- Worker memory limit: 7.83 GiB\n",
      "2025-06-03 20:15:00,183 - distributed.worker.memory - WARNING - Worker is at 82% memory usage. Pausing worker.  Process memory: 6.48 GiB -- Worker memory limit: 7.83 GiB\n",
      "2025-06-03 20:15:00,375 - distributed.worker.memory - WARNING - Worker is at 39% memory usage. Resuming worker. Process memory: 3.12 GiB -- Worker memory limit: 7.83 GiB\n",
      "2025-06-03 20:15:16,581 - distributed.worker.memory - WARNING - Unmanaged memory use is high. This may indicate a memory leak or the memory may not be released to the OS; see https://distributed.dask.org/en/latest/worker-memory.html#memory-not-released-back-to-the-os for more information. -- Unmanaged memory: 5.54 GiB -- Worker memory limit: 7.83 GiB\n",
      "2025-06-03 20:15:17,209 - distributed.worker.memory - WARNING - Worker is at 82% memory usage. Pausing worker.  Process memory: 6.48 GiB -- Worker memory limit: 7.83 GiB\n",
      "2025-06-03 20:15:17,400 - distributed.worker.memory - WARNING - Worker is at 40% memory usage. Resuming worker. Process memory: 3.17 GiB -- Worker memory limit: 7.83 GiB\n",
      "2025-06-03 20:15:34,099 - distributed.worker.memory - WARNING - Unmanaged memory use is high. This may indicate a memory leak or the memory may not be released to the OS; see https://distributed.dask.org/en/latest/worker-memory.html#memory-not-released-back-to-the-os for more information. -- Unmanaged memory: 5.63 GiB -- Worker memory limit: 7.83 GiB\n",
      "2025-06-03 20:15:34,157 - distributed.worker.memory - WARNING - Worker is at 80% memory usage. Pausing worker.  Process memory: 6.28 GiB -- Worker memory limit: 7.83 GiB\n",
      "2025-06-03 20:15:34,405 - distributed.worker.memory - WARNING - Worker is at 40% memory usage. Resuming worker. Process memory: 3.17 GiB -- Worker memory limit: 7.83 GiB\n"
     ]
    },
    {
     "ename": "KilledWorker",
     "evalue": "Attempted to run task ('operation-79154bca8a4cc4bdb845059e61b10a29', 0) on 4 different workers, but all those workers died while running it. The last worker that attempt to run the task was tcp://127.0.0.1:39633. Inspecting worker logs is often a good next step to diagnose what went wrong. For more information see https://distributed.dask.org/en/stable/killed.html.",
     "output_type": "error",
     "traceback": [
      "\u001b[0;31m---------------------------------------------------------------------------\u001b[0m",
      "\u001b[0;31mKilledWorker\u001b[0m                              Traceback (most recent call last)",
      "Cell \u001b[0;32mIn[55], line 10\u001b[0m\n\u001b[1;32m      8\u001b[0m benchmark(mean_of_product, df\u001b[38;5;241m=\u001b[39mdf, benchmarks\u001b[38;5;241m=\u001b[39m\u001b[38;5;28mglobals\u001b[39m()[\u001b[38;5;124mf\u001b[39m\u001b[38;5;124m'\u001b[39m\u001b[38;5;124mdask_benchmarks\u001b[39m\u001b[38;5;132;01m{\u001b[39;00mi\u001b[38;5;241m+\u001b[39m\u001b[38;5;241m2\u001b[39m\u001b[38;5;132;01m}\u001b[39;00m\u001b[38;5;124m'\u001b[39m], name\u001b[38;5;241m=\u001b[39m\u001b[38;5;124mf\u001b[39m\u001b[38;5;124m'\u001b[39m\u001b[38;5;124mmean of columns multiplication\u001b[39m\u001b[38;5;124m'\u001b[39m)\n\u001b[1;32m      9\u001b[0m benchmark(product_columns, df\u001b[38;5;241m=\u001b[39mdf, benchmarks\u001b[38;5;241m=\u001b[39m\u001b[38;5;28mglobals\u001b[39m()[\u001b[38;5;124mf\u001b[39m\u001b[38;5;124m'\u001b[39m\u001b[38;5;124mdask_benchmarks\u001b[39m\u001b[38;5;132;01m{\u001b[39;00mi\u001b[38;5;241m+\u001b[39m\u001b[38;5;241m2\u001b[39m\u001b[38;5;132;01m}\u001b[39;00m\u001b[38;5;124m'\u001b[39m], name\u001b[38;5;241m=\u001b[39m\u001b[38;5;124mf\u001b[39m\u001b[38;5;124m'\u001b[39m\u001b[38;5;124mmultiplication of columns\u001b[39m\u001b[38;5;124m'\u001b[39m)\n\u001b[0;32m---> 10\u001b[0m \u001b[43mbenchmark\u001b[49m\u001b[43m(\u001b[49m\u001b[43mvalue_counts\u001b[49m\u001b[43m,\u001b[49m\u001b[43m \u001b[49m\u001b[43mdf\u001b[49m\u001b[38;5;241;43m=\u001b[39;49m\u001b[43mdf\u001b[49m\u001b[43m,\u001b[49m\u001b[43m \u001b[49m\u001b[43mbenchmarks\u001b[49m\u001b[38;5;241;43m=\u001b[39;49m\u001b[38;5;28;43mglobals\u001b[39;49m\u001b[43m(\u001b[49m\u001b[43m)\u001b[49m\u001b[43m[\u001b[49m\u001b[38;5;124;43mf\u001b[39;49m\u001b[38;5;124;43m'\u001b[39;49m\u001b[38;5;124;43mdask_benchmarks\u001b[39;49m\u001b[38;5;132;43;01m{\u001b[39;49;00m\u001b[43mi\u001b[49m\u001b[38;5;241;43m+\u001b[39;49m\u001b[38;5;241;43m2\u001b[39;49m\u001b[38;5;132;43;01m}\u001b[39;49;00m\u001b[38;5;124;43m'\u001b[39;49m\u001b[43m]\u001b[49m\u001b[43m,\u001b[49m\u001b[43m \u001b[49m\u001b[43mname\u001b[49m\u001b[38;5;241;43m=\u001b[39;49m\u001b[38;5;124;43mf\u001b[39;49m\u001b[38;5;124;43m'\u001b[39;49m\u001b[38;5;124;43mvalue counts\u001b[39;49m\u001b[38;5;124;43m'\u001b[39;49m\u001b[43m)\u001b[49m\n\u001b[1;32m     11\u001b[0m benchmark(mean_of_complicated_arithmetic_operation, df\u001b[38;5;241m=\u001b[39mdf, benchmarks\u001b[38;5;241m=\u001b[39m\u001b[38;5;28mglobals\u001b[39m()[\u001b[38;5;124mf\u001b[39m\u001b[38;5;124m'\u001b[39m\u001b[38;5;124mdask_benchmarks\u001b[39m\u001b[38;5;132;01m{\u001b[39;00mi\u001b[38;5;241m+\u001b[39m\u001b[38;5;241m2\u001b[39m\u001b[38;5;132;01m}\u001b[39;00m\u001b[38;5;124m'\u001b[39m], name\u001b[38;5;241m=\u001b[39m\u001b[38;5;124mf\u001b[39m\u001b[38;5;124m'\u001b[39m\u001b[38;5;124mmean of complex arithmetic ops\u001b[39m\u001b[38;5;124m'\u001b[39m)\n\u001b[1;32m     12\u001b[0m benchmark(complicated_arithmetic_operation, df\u001b[38;5;241m=\u001b[39mdf, benchmarks\u001b[38;5;241m=\u001b[39m\u001b[38;5;28mglobals\u001b[39m()[\u001b[38;5;124mf\u001b[39m\u001b[38;5;124m'\u001b[39m\u001b[38;5;124mdask_benchmarks\u001b[39m\u001b[38;5;132;01m{\u001b[39;00mi\u001b[38;5;241m+\u001b[39m\u001b[38;5;241m2\u001b[39m\u001b[38;5;132;01m}\u001b[39;00m\u001b[38;5;124m'\u001b[39m], name\u001b[38;5;241m=\u001b[39m\u001b[38;5;124mf\u001b[39m\u001b[38;5;124m'\u001b[39m\u001b[38;5;124mcomplex arithmetic ops\u001b[39m\u001b[38;5;124m'\u001b[39m)\n",
      "Cell \u001b[0;32mIn[6], line 3\u001b[0m, in \u001b[0;36mbenchmark\u001b[0;34m(f, df, benchmarks, name, **kwargs)\u001b[0m\n\u001b[1;32m      1\u001b[0m \u001b[38;5;28;01mdef\u001b[39;00m\u001b[38;5;250m \u001b[39m\u001b[38;5;21mbenchmark\u001b[39m(f, df, benchmarks, name, \u001b[38;5;241m*\u001b[39m\u001b[38;5;241m*\u001b[39mkwargs):\n\u001b[1;32m      2\u001b[0m     start_time \u001b[38;5;241m=\u001b[39m time\u001b[38;5;241m.\u001b[39mtime()\n\u001b[0;32m----> 3\u001b[0m     ret \u001b[38;5;241m=\u001b[39m \u001b[43mf\u001b[49m\u001b[43m(\u001b[49m\u001b[43mdf\u001b[49m\u001b[43m,\u001b[49m\u001b[43m \u001b[49m\u001b[38;5;241;43m*\u001b[39;49m\u001b[38;5;241;43m*\u001b[39;49m\u001b[43mkwargs\u001b[49m\u001b[43m)\u001b[49m\n\u001b[1;32m      4\u001b[0m     benchmarks[\u001b[38;5;124m'\u001b[39m\u001b[38;5;124mduration\u001b[39m\u001b[38;5;124m'\u001b[39m]\u001b[38;5;241m.\u001b[39mappend(time\u001b[38;5;241m.\u001b[39mtime() \u001b[38;5;241m-\u001b[39m start_time)\n\u001b[1;32m      5\u001b[0m     benchmarks[\u001b[38;5;124m'\u001b[39m\u001b[38;5;124mtask\u001b[39m\u001b[38;5;124m'\u001b[39m]\u001b[38;5;241m.\u001b[39mappend(name)\n",
      "Cell \u001b[0;32mIn[54], line 26\u001b[0m, in \u001b[0;36mvalue_counts\u001b[0;34m(df)\u001b[0m\n\u001b[1;32m     25\u001b[0m \u001b[38;5;28;01mdef\u001b[39;00m\u001b[38;5;250m \u001b[39m\u001b[38;5;21mvalue_counts\u001b[39m(df):\n\u001b[0;32m---> 26\u001b[0m     \u001b[38;5;28;01mreturn\u001b[39;00m \u001b[43mdf\u001b[49m\u001b[38;5;241;43m.\u001b[39;49m\u001b[43mfare_amt\u001b[49m\u001b[38;5;241;43m.\u001b[39;49m\u001b[43mvalue_counts\u001b[49m\u001b[43m(\u001b[49m\u001b[43m)\u001b[49m\u001b[38;5;241;43m.\u001b[39;49m\u001b[43mcompute\u001b[49m\u001b[43m(\u001b[49m\u001b[43m)\u001b[49m\n",
      "File \u001b[0;32m/opt/conda/lib/python3.10/site-packages/dask/base.py:373\u001b[0m, in \u001b[0;36mDaskMethodsMixin.compute\u001b[0;34m(self, **kwargs)\u001b[0m\n\u001b[1;32m    349\u001b[0m \u001b[38;5;28;01mdef\u001b[39;00m\u001b[38;5;250m \u001b[39m\u001b[38;5;21mcompute\u001b[39m(\u001b[38;5;28mself\u001b[39m, \u001b[38;5;241m*\u001b[39m\u001b[38;5;241m*\u001b[39mkwargs):\n\u001b[1;32m    350\u001b[0m \u001b[38;5;250m    \u001b[39m\u001b[38;5;124;03m\"\"\"Compute this dask collection\u001b[39;00m\n\u001b[1;32m    351\u001b[0m \n\u001b[1;32m    352\u001b[0m \u001b[38;5;124;03m    This turns a lazy Dask collection into its in-memory equivalent.\u001b[39;00m\n\u001b[0;32m   (...)\u001b[0m\n\u001b[1;32m    371\u001b[0m \u001b[38;5;124;03m    dask.compute\u001b[39;00m\n\u001b[1;32m    372\u001b[0m \u001b[38;5;124;03m    \"\"\"\u001b[39;00m\n\u001b[0;32m--> 373\u001b[0m     (result,) \u001b[38;5;241m=\u001b[39m \u001b[43mcompute\u001b[49m\u001b[43m(\u001b[49m\u001b[38;5;28;43mself\u001b[39;49m\u001b[43m,\u001b[49m\u001b[43m \u001b[49m\u001b[43mtraverse\u001b[49m\u001b[38;5;241;43m=\u001b[39;49m\u001b[38;5;28;43;01mFalse\u001b[39;49;00m\u001b[43m,\u001b[49m\u001b[43m \u001b[49m\u001b[38;5;241;43m*\u001b[39;49m\u001b[38;5;241;43m*\u001b[39;49m\u001b[43mkwargs\u001b[49m\u001b[43m)\u001b[49m\n\u001b[1;32m    374\u001b[0m     \u001b[38;5;28;01mreturn\u001b[39;00m result\n",
      "File \u001b[0;32m/opt/conda/lib/python3.10/site-packages/dask/base.py:681\u001b[0m, in \u001b[0;36mcompute\u001b[0;34m(traverse, optimize_graph, scheduler, get, *args, **kwargs)\u001b[0m\n\u001b[1;32m    678\u001b[0m     expr \u001b[38;5;241m=\u001b[39m expr\u001b[38;5;241m.\u001b[39moptimize()\n\u001b[1;32m    679\u001b[0m     keys \u001b[38;5;241m=\u001b[39m \u001b[38;5;28mlist\u001b[39m(flatten(expr\u001b[38;5;241m.\u001b[39m__dask_keys__()))\n\u001b[0;32m--> 681\u001b[0m     results \u001b[38;5;241m=\u001b[39m \u001b[43mschedule\u001b[49m\u001b[43m(\u001b[49m\u001b[43mexpr\u001b[49m\u001b[43m,\u001b[49m\u001b[43m \u001b[49m\u001b[43mkeys\u001b[49m\u001b[43m,\u001b[49m\u001b[43m \u001b[49m\u001b[38;5;241;43m*\u001b[39;49m\u001b[38;5;241;43m*\u001b[39;49m\u001b[43mkwargs\u001b[49m\u001b[43m)\u001b[49m\n\u001b[1;32m    683\u001b[0m \u001b[38;5;28;01mreturn\u001b[39;00m repack(results)\n",
      "File \u001b[0;32m/opt/conda/lib/python3.10/site-packages/distributed/client.py:2409\u001b[0m, in \u001b[0;36mClient._gather\u001b[0;34m(self, futures, errors, direct, local_worker)\u001b[0m\n\u001b[1;32m   2407\u001b[0m     exception \u001b[38;5;241m=\u001b[39m st\u001b[38;5;241m.\u001b[39mexception\n\u001b[1;32m   2408\u001b[0m     traceback \u001b[38;5;241m=\u001b[39m st\u001b[38;5;241m.\u001b[39mtraceback\n\u001b[0;32m-> 2409\u001b[0m     \u001b[38;5;28;01mraise\u001b[39;00m exception\u001b[38;5;241m.\u001b[39mwith_traceback(traceback)\n\u001b[1;32m   2410\u001b[0m \u001b[38;5;28;01mif\u001b[39;00m errors \u001b[38;5;241m==\u001b[39m \u001b[38;5;124m\"\u001b[39m\u001b[38;5;124mskip\u001b[39m\u001b[38;5;124m\"\u001b[39m:\n\u001b[1;32m   2411\u001b[0m     bad_keys\u001b[38;5;241m.\u001b[39madd(key)\n",
      "\u001b[0;31mKilledWorker\u001b[0m: Attempted to run task ('operation-79154bca8a4cc4bdb845059e61b10a29', 0) on 4 different workers, but all those workers died while running it. The last worker that attempt to run the task was tcp://127.0.0.1:39633. Inspecting worker logs is often a good next step to diagnose what went wrong. For more information see https://distributed.dask.org/en/stable/killed.html."
     ]
    }
   ],
   "source": [
    "for i, df in enumerate(dfs):\n",
    "    benchmark(count, df=df, benchmarks=globals()[f'dask_benchmarks{i+2}'], name=f'count')\n",
    "    benchmark(count_index_length, df=df, benchmarks=globals()[f'dask_benchmarks{i+2}'], name=f'count index length')\n",
    "    benchmark(mean, df=df, benchmarks=globals()[f'dask_benchmarks{i+2}'], name=f'mean')\n",
    "    benchmark(standard_deviation, df=df, benchmarks=globals()[f'dask_benchmarks{i+2}'], name=f'standard deviation')\n",
    "    benchmark(mean_of_sum, df=df, benchmarks=globals()[f'dask_benchmarks{i+2}'], name=f'mean of columns addition')\n",
    "    benchmark(sum_columns, df=df, benchmarks=globals()[f'dask_benchmarks{i+2}'], name=f'addition of columns')\n",
    "    benchmark(mean_of_product, df=df, benchmarks=globals()[f'dask_benchmarks{i+2}'], name=f'mean of columns multiplication')\n",
    "    benchmark(product_columns, df=df, benchmarks=globals()[f'dask_benchmarks{i+2}'], name=f'multiplication of columns')\n",
    "    benchmark(value_counts, df=df, benchmarks=globals()[f'dask_benchmarks{i+2}'], name=f'value counts')\n",
    "    benchmark(mean_of_complicated_arithmetic_operation, df=df, benchmarks=globals()[f'dask_benchmarks{i+2}'], name=f'mean of complex arithmetic ops')\n",
    "    benchmark(complicated_arithmetic_operation, df=df, benchmarks=globals()[f'dask_benchmarks{i+2}'], name=f'complex arithmetic ops')\n",
    "    benchmark(groupby_statistics, df=df, benchmarks=globals()[f'dask_benchmarks{i+2}'], name=f'groupby statistics')"
   ]
  },
  {
   "cell_type": "code",
   "execution_count": 56,
   "id": "6c3ffebf-3ad1-49ed-b620-22b866ad3d9b",
   "metadata": {
    "tags": []
   },
   "outputs": [
    {
     "name": "stdout",
     "output_type": "stream",
     "text": [
      "                                 duration\n",
      "task                                     \n",
      "count                            0.014253\n",
      "count index length               0.006908\n",
      "mean                            16.305419\n",
      "standard deviation              16.506136\n",
      "mean of columns addition        16.219947\n",
      "addition of columns             18.256024\n",
      "mean of columns multiplication  16.085194\n",
      "multiplication of columns       17.670217\n",
      "value counts                    16.023526\n",
      "mean of complex arithmetic ops  16.844930\n",
      "complex arithmetic ops          19.013082\n",
      "groupby statistics              16.776670\n",
      "                                 duration\n",
      "task                                     \n",
      "count                            0.015950\n",
      "count index length               0.005138\n",
      "mean                            50.260206\n",
      "standard deviation              20.033471\n",
      "mean of columns addition        35.095469\n",
      "addition of columns             20.815864\n",
      "mean of columns multiplication  33.937149\n",
      "multiplication of columns       36.452141\n",
      "Guardado em Resultados/dask_standard2.\n",
      "Guardado em Resultados/dask_standard3.\n"
     ]
    }
   ],
   "source": [
    "dask_res_temp2 = get_results(dask_benchmarks2).drop_duplicates(subset='task').set_index('task')\n",
    "dask_res_temp3 = get_results(dask_benchmarks3).drop_duplicates(subset='task').set_index('task')\n",
    "print(dask_res_temp2)\n",
    "print(dask_res_temp3)\n",
    "filename2 = 'Resultados/dask_standard2'\n",
    "filename3 = 'Resultados/dask_standard3'\n",
    "dask_res_temp2.to_parquet(filename2)\n",
    "dask_res_temp3.to_parquet(filename3)\n",
    "\n",
    "print(f'Guardado em {filename2}.')\n",
    "print(f'Guardado em {filename3}.')"
   ]
  },
  {
   "cell_type": "markdown",
   "id": "f9aac09b-d78b-400b-b3ae-e4e09870450c",
   "metadata": {},
   "source": [
    "# Operações com filtro"
   ]
  },
  {
   "cell_type": "code",
   "execution_count": 57,
   "id": "1b6e22d2-edc2-4d42-91fe-88a778885256",
   "metadata": {
    "tags": []
   },
   "outputs": [],
   "source": [
    "def filter_data(df, expr_filter):\n",
    "    return df[expr_filter]\n",
    "\n",
    "\n",
    "expr_filter2 = (dask_data2.tip_amt >= 1) & (dask_data2.tip_amt <= 5)\n",
    "\n",
    "dask_filter2 = filter_data(dask_data2, expr_filter2)\n",
    "    \n",
    "expr_filter3 = (dask_data3.tip_amt >= 1) & (dask_data3.tip_amt <= 5)\n",
    "dask_filter3 = filter_data(dask_data3, expr_filter3)"
   ]
  },
  {
   "cell_type": "code",
   "execution_count": 58,
   "id": "38739aab-fb8f-403b-b152-672e9156f17d",
   "metadata": {
    "tags": []
   },
   "outputs": [],
   "source": [
    "dask_filtered = [dask_filter2, dask_filter3]"
   ]
  },
  {
   "cell_type": "code",
   "execution_count": 59,
   "id": "bcaa55bb-a395-4dc2-b8a9-0a5de3a86c6e",
   "metadata": {
    "tags": []
   },
   "outputs": [
    {
     "name": "stderr",
     "output_type": "stream",
     "text": [
      "2025-06-03 20:16:37,828 - distributed.worker.memory - WARNING - Unmanaged memory use is high. This may indicate a memory leak or the memory may not be released to the OS; see https://distributed.dask.org/en/latest/worker-memory.html#memory-not-released-back-to-the-os for more information. -- Unmanaged memory: 5.67 GiB -- Worker memory limit: 7.83 GiB\n",
      "2025-06-03 20:16:37,924 - distributed.worker.memory - WARNING - Unmanaged memory use is high. This may indicate a memory leak or the memory may not be released to the OS; see https://distributed.dask.org/en/latest/worker-memory.html#memory-not-released-back-to-the-os for more information. -- Unmanaged memory: 5.61 GiB -- Worker memory limit: 7.83 GiB\n"
     ]
    },
    {
     "name": "stdout",
     "output_type": "stream",
     "text": [
      "filtered count took: 17.57585096359253 seconds\n",
      "filtered count index length took: 16.610377311706543 seconds\n",
      "filtered mean took: 16.875762939453125 seconds\n",
      "filtered standard deviation took: 16.66505479812622 seconds\n",
      "filtered mean of columns addition took: 16.604921579360962 seconds\n",
      "filtered addition of columns took: 17.54185461997986 seconds\n",
      "filtered mean of columns multiplication took: 16.704484462738037 seconds\n",
      "filtered multiplication of columns took: 17.097145557403564 seconds\n",
      "filtered mean of complex arithmetic ops took: 16.525080919265747 seconds\n",
      "filtered complex arithmetic ops took: 17.598755598068237 seconds\n",
      "filtered value counts took: 16.931671380996704 seconds\n"
     ]
    },
    {
     "name": "stderr",
     "output_type": "stream",
     "text": [
      "2025-06-03 20:19:44,119 - distributed.worker.memory - WARNING - Worker is at 80% memory usage. Pausing worker.  Process memory: 6.27 GiB -- Worker memory limit: 7.83 GiB\n",
      "2025-06-03 20:19:44,126 - distributed.worker.memory - WARNING - Worker is at 39% memory usage. Resuming worker. Process memory: 3.07 GiB -- Worker memory limit: 7.83 GiB\n"
     ]
    },
    {
     "name": "stdout",
     "output_type": "stream",
     "text": [
      "filtered groupby statistics took: 16.581734657287598 seconds\n"
     ]
    },
    {
     "name": "stderr",
     "output_type": "stream",
     "text": [
      "2025-06-03 20:20:01,569 - distributed.worker.memory - WARNING - Worker is at 80% memory usage. Pausing worker.  Process memory: 6.30 GiB -- Worker memory limit: 7.83 GiB\n",
      "2025-06-03 20:20:01,768 - distributed.worker.memory - WARNING - Worker is at 39% memory usage. Resuming worker. Process memory: 3.11 GiB -- Worker memory limit: 7.83 GiB\n"
     ]
    },
    {
     "name": "stdout",
     "output_type": "stream",
     "text": [
      "filtered count took: 17.907569646835327 seconds\n"
     ]
    },
    {
     "name": "stderr",
     "output_type": "stream",
     "text": [
      "2025-06-03 20:20:19,080 - distributed.worker.memory - WARNING - Unmanaged memory use is high. This may indicate a memory leak or the memory may not be released to the OS; see https://distributed.dask.org/en/latest/worker-memory.html#memory-not-released-back-to-the-os for more information. -- Unmanaged memory: 5.60 GiB -- Worker memory limit: 7.83 GiB\n",
      "2025-06-03 20:20:19,544 - distributed.worker.memory - WARNING - Worker is at 82% memory usage. Pausing worker.  Process memory: 6.46 GiB -- Worker memory limit: 7.83 GiB\n",
      "2025-06-03 20:20:19,733 - distributed.worker.memory - WARNING - Worker is at 39% memory usage. Resuming worker. Process memory: 3.12 GiB -- Worker memory limit: 7.83 GiB\n"
     ]
    },
    {
     "name": "stdout",
     "output_type": "stream",
     "text": [
      "filtered count index length took: 17.26164937019348 seconds\n"
     ]
    },
    {
     "name": "stderr",
     "output_type": "stream",
     "text": [
      "2025-06-03 20:20:36,017 - distributed.worker.memory - WARNING - Worker is at 80% memory usage. Pausing worker.  Process memory: 6.27 GiB -- Worker memory limit: 7.83 GiB\n",
      "2025-06-03 20:20:36,025 - distributed.worker.memory - WARNING - Worker is at 39% memory usage. Resuming worker. Process memory: 3.08 GiB -- Worker memory limit: 7.83 GiB\n",
      "2025-06-03 20:20:36,846 - distributed.worker.memory - WARNING - Worker is at 80% memory usage. Pausing worker.  Process memory: 6.33 GiB -- Worker memory limit: 7.83 GiB\n",
      "2025-06-03 20:20:37,045 - distributed.worker.memory - WARNING - Worker is at 39% memory usage. Resuming worker. Process memory: 3.12 GiB -- Worker memory limit: 7.83 GiB\n",
      "2025-06-03 20:20:53,291 - distributed.worker.memory - WARNING - Worker is at 82% memory usage. Pausing worker.  Process memory: 6.44 GiB -- Worker memory limit: 7.83 GiB\n",
      "2025-06-03 20:20:53,486 - distributed.worker.memory - WARNING - Worker is at 41% memory usage. Resuming worker. Process memory: 3.25 GiB -- Worker memory limit: 7.83 GiB\n"
     ]
    },
    {
     "name": "stdout",
     "output_type": "stream",
     "text": [
      "filtered mean took: 32.77129340171814 seconds\n"
     ]
    },
    {
     "name": "stderr",
     "output_type": "stream",
     "text": [
      "2025-06-03 20:21:08,821 - distributed.worker.memory - WARNING - Worker is at 80% memory usage. Pausing worker.  Process memory: 6.27 GiB -- Worker memory limit: 7.83 GiB\n",
      "2025-06-03 20:21:08,824 - distributed.worker.memory - WARNING - Worker is at 39% memory usage. Resuming worker. Process memory: 3.08 GiB -- Worker memory limit: 7.83 GiB\n",
      "2025-06-03 20:21:09,762 - distributed.worker.memory - WARNING - Unmanaged memory use is high. This may indicate a memory leak or the memory may not be released to the OS; see https://distributed.dask.org/en/latest/worker-memory.html#memory-not-released-back-to-the-os for more information. -- Unmanaged memory: 5.69 GiB -- Worker memory limit: 7.83 GiB\n",
      "2025-06-03 20:21:10,281 - distributed.worker.memory - WARNING - Worker is at 82% memory usage. Pausing worker.  Process memory: 6.46 GiB -- Worker memory limit: 7.83 GiB\n",
      "2025-06-03 20:21:10,365 - distributed.worker.memory - WARNING - Worker is at 40% memory usage. Resuming worker. Process memory: 3.18 GiB -- Worker memory limit: 7.83 GiB\n"
     ]
    },
    {
     "name": "stdout",
     "output_type": "stream",
     "text": [
      "filtered standard deviation took: 17.892436981201172 seconds\n"
     ]
    },
    {
     "name": "stderr",
     "output_type": "stream",
     "text": [
      "2025-06-03 20:21:26,830 - distributed.worker.memory - WARNING - Worker is at 80% memory usage. Pausing worker.  Process memory: 6.32 GiB -- Worker memory limit: 7.83 GiB\n",
      "2025-06-03 20:21:27,125 - distributed.worker.memory - WARNING - Worker is at 41% memory usage. Resuming worker. Process memory: 3.25 GiB -- Worker memory limit: 7.83 GiB\n",
      "2025-06-03 20:21:42,808 - distributed.worker.memory - WARNING - Worker is at 81% memory usage. Pausing worker.  Process memory: 6.41 GiB -- Worker memory limit: 7.83 GiB\n",
      "2025-06-03 20:21:42,994 - distributed.worker.memory - WARNING - Worker is at 39% memory usage. Resuming worker. Process memory: 3.11 GiB -- Worker memory limit: 7.83 GiB\n",
      "2025-06-03 20:21:57,226 - distributed.worker.memory - WARNING - Unmanaged memory use is high. This may indicate a memory leak or the memory may not be released to the OS; see https://distributed.dask.org/en/latest/worker-memory.html#memory-not-released-back-to-the-os for more information. -- Unmanaged memory: 5.58 GiB -- Worker memory limit: 7.83 GiB\n",
      "2025-06-03 20:21:58,704 - distributed.worker.memory - WARNING - Unmanaged memory use is high. This may indicate a memory leak or the memory may not be released to the OS; see https://distributed.dask.org/en/latest/worker-memory.html#memory-not-released-back-to-the-os for more information. -- Unmanaged memory: 5.76 GiB -- Worker memory limit: 7.83 GiB\n",
      "2025-06-03 20:21:58,945 - distributed.worker.memory - WARNING - Worker is at 81% memory usage. Pausing worker.  Process memory: 6.35 GiB -- Worker memory limit: 7.83 GiB\n",
      "2025-06-03 20:21:59,138 - distributed.worker.memory - WARNING - Worker is at 38% memory usage. Resuming worker. Process memory: 3.05 GiB -- Worker memory limit: 7.83 GiB\n"
     ]
    },
    {
     "name": "stdout",
     "output_type": "stream",
     "text": [
      "filtered mean of columns addition took: 47.55124258995056 seconds\n"
     ]
    },
    {
     "name": "stderr",
     "output_type": "stream",
     "text": [
      "2025-06-03 20:22:14,736 - distributed.worker.memory - WARNING - Unmanaged memory use is high. This may indicate a memory leak or the memory may not be released to the OS; see https://distributed.dask.org/en/latest/worker-memory.html#memory-not-released-back-to-the-os for more information. -- Unmanaged memory: 5.63 GiB -- Worker memory limit: 7.83 GiB\n",
      "2025-06-03 20:22:15,235 - distributed.worker.memory - WARNING - Worker is at 82% memory usage. Pausing worker.  Process memory: 6.46 GiB -- Worker memory limit: 7.83 GiB\n",
      "2025-06-03 20:22:15,337 - distributed.worker.memory - WARNING - Worker is at 42% memory usage. Resuming worker. Process memory: 3.30 GiB -- Worker memory limit: 7.83 GiB\n"
     ]
    },
    {
     "name": "stdout",
     "output_type": "stream",
     "text": [
      "filtered addition of columns took: 19.490957975387573 seconds\n"
     ]
    },
    {
     "name": "stderr",
     "output_type": "stream",
     "text": [
      "2025-06-03 20:22:33,989 - distributed.worker.memory - WARNING - Worker is at 82% memory usage. Pausing worker.  Process memory: 6.47 GiB -- Worker memory limit: 7.83 GiB\n",
      "2025-06-03 20:22:34,176 - distributed.worker.memory - WARNING - Worker is at 40% memory usage. Resuming worker. Process memory: 3.17 GiB -- Worker memory limit: 7.83 GiB\n",
      "2025-06-03 20:22:50,055 - distributed.worker.memory - WARNING - Worker is at 80% memory usage. Pausing worker.  Process memory: 6.28 GiB -- Worker memory limit: 7.83 GiB\n",
      "2025-06-03 20:22:50,281 - distributed.worker.memory - WARNING - Worker is at 40% memory usage. Resuming worker. Process memory: 3.18 GiB -- Worker memory limit: 7.83 GiB\n",
      "2025-06-03 20:23:05,906 - distributed.worker.memory - WARNING - Unmanaged memory use is high. This may indicate a memory leak or the memory may not be released to the OS; see https://distributed.dask.org/en/latest/worker-memory.html#memory-not-released-back-to-the-os for more information. -- Unmanaged memory: 5.50 GiB -- Worker memory limit: 7.83 GiB\n",
      "2025-06-03 20:23:06,248 - distributed.worker.memory - WARNING - Worker is at 81% memory usage. Pausing worker.  Process memory: 6.40 GiB -- Worker memory limit: 7.83 GiB\n",
      "2025-06-03 20:23:06,448 - distributed.worker.memory - WARNING - Worker is at 38% memory usage. Resuming worker. Process memory: 3.05 GiB -- Worker memory limit: 7.83 GiB\n"
     ]
    },
    {
     "name": "stdout",
     "output_type": "stream",
     "text": [
      "filtered mean of columns multiplication took: 49.40352249145508 seconds\n"
     ]
    },
    {
     "name": "stderr",
     "output_type": "stream",
     "text": [
      "2025-06-03 20:23:22,737 - distributed.worker.memory - WARNING - Unmanaged memory use is high. This may indicate a memory leak or the memory may not be released to the OS; see https://distributed.dask.org/en/latest/worker-memory.html#memory-not-released-back-to-the-os for more information. -- Unmanaged memory: 5.53 GiB -- Worker memory limit: 7.83 GiB\n",
      "2025-06-03 20:23:23,156 - distributed.worker.memory - WARNING - Worker is at 80% memory usage. Pausing worker.  Process memory: 6.28 GiB -- Worker memory limit: 7.83 GiB\n",
      "2025-06-03 20:23:23,340 - distributed.worker.memory - WARNING - Worker is at 39% memory usage. Resuming worker. Process memory: 3.06 GiB -- Worker memory limit: 7.83 GiB\n"
     ]
    },
    {
     "name": "stdout",
     "output_type": "stream",
     "text": [
      "filtered multiplication of columns took: 16.97492289543152 seconds\n"
     ]
    },
    {
     "name": "stderr",
     "output_type": "stream",
     "text": [
      "2025-06-03 20:23:40,186 - distributed.worker.memory - WARNING - Worker is at 80% memory usage. Pausing worker.  Process memory: 6.28 GiB -- Worker memory limit: 7.83 GiB\n",
      "2025-06-03 20:23:40,389 - distributed.worker.memory - WARNING - Worker is at 39% memory usage. Resuming worker. Process memory: 3.12 GiB -- Worker memory limit: 7.83 GiB\n",
      "2025-06-03 20:23:56,291 - distributed.worker.memory - WARNING - Worker is at 82% memory usage. Pausing worker.  Process memory: 6.46 GiB -- Worker memory limit: 7.83 GiB\n",
      "2025-06-03 20:23:56,475 - distributed.worker.memory - WARNING - Worker is at 40% memory usage. Resuming worker. Process memory: 3.14 GiB -- Worker memory limit: 7.83 GiB\n",
      "2025-06-03 20:24:10,698 - distributed.worker.memory - WARNING - Unmanaged memory use is high. This may indicate a memory leak or the memory may not be released to the OS; see https://distributed.dask.org/en/latest/worker-memory.html#memory-not-released-back-to-the-os for more information. -- Unmanaged memory: 5.64 GiB -- Worker memory limit: 7.83 GiB\n",
      "2025-06-03 20:24:11,655 - distributed.worker.memory - WARNING - Worker is at 81% memory usage. Pausing worker.  Process memory: 6.40 GiB -- Worker memory limit: 7.83 GiB\n",
      "2025-06-03 20:24:11,834 - distributed.worker.memory - WARNING - Worker is at 39% memory usage. Resuming worker. Process memory: 3.12 GiB -- Worker memory limit: 7.83 GiB\n",
      "2025-06-03 20:24:27,013 - distributed.worker.memory - WARNING - Unmanaged memory use is high. This may indicate a memory leak or the memory may not be released to the OS; see https://distributed.dask.org/en/latest/worker-memory.html#memory-not-released-back-to-the-os for more information. -- Unmanaged memory: 5.76 GiB -- Worker memory limit: 7.83 GiB\n",
      "2025-06-03 20:24:27,570 - distributed.worker.memory - WARNING - Unmanaged memory use is high. This may indicate a memory leak or the memory may not be released to the OS; see https://distributed.dask.org/en/latest/worker-memory.html#memory-not-released-back-to-the-os for more information. -- Unmanaged memory: 5.73 GiB -- Worker memory limit: 7.83 GiB\n",
      "2025-06-03 20:24:27,828 - distributed.worker.memory - WARNING - Worker is at 80% memory usage. Pausing worker.  Process memory: 6.30 GiB -- Worker memory limit: 7.83 GiB\n",
      "2025-06-03 20:24:28,002 - distributed.worker.memory - WARNING - Worker is at 38% memory usage. Resuming worker. Process memory: 3.05 GiB -- Worker memory limit: 7.83 GiB\n"
     ]
    },
    {
     "name": "stdout",
     "output_type": "stream",
     "text": [
      "filtered mean of complex arithmetic ops took: 64.88633131980896 seconds\n"
     ]
    },
    {
     "name": "stderr",
     "output_type": "stream",
     "text": [
      "2025-06-03 20:24:44,863 - distributed.worker.memory - WARNING - Unmanaged memory use is high. This may indicate a memory leak or the memory may not be released to the OS; see https://distributed.dask.org/en/latest/worker-memory.html#memory-not-released-back-to-the-os for more information. -- Unmanaged memory: 5.63 GiB -- Worker memory limit: 7.83 GiB\n",
      "2025-06-03 20:24:45,346 - distributed.worker.memory - WARNING - Worker is at 83% memory usage. Pausing worker.  Process memory: 6.53 GiB -- Worker memory limit: 7.83 GiB\n",
      "2025-06-03 20:24:45,367 - distributed.worker.memory - WARNING - Worker is at 39% memory usage. Resuming worker. Process memory: 3.08 GiB -- Worker memory limit: 7.83 GiB\n"
     ]
    },
    {
     "name": "stdout",
     "output_type": "stream",
     "text": [
      "filtered complex arithmetic ops took: 18.546961545944214 seconds\n"
     ]
    },
    {
     "name": "stderr",
     "output_type": "stream",
     "text": [
      "2025-06-03 20:25:03,932 - distributed.worker.memory - WARNING - Worker is at 82% memory usage. Pausing worker.  Process memory: 6.45 GiB -- Worker memory limit: 7.83 GiB\n",
      "2025-06-03 20:25:04,136 - distributed.worker.memory - WARNING - Worker is at 40% memory usage. Resuming worker. Process memory: 3.17 GiB -- Worker memory limit: 7.83 GiB\n",
      "2025-06-03 20:25:20,464 - distributed.worker.memory - WARNING - Worker is at 82% memory usage. Pausing worker.  Process memory: 6.47 GiB -- Worker memory limit: 7.83 GiB\n",
      "2025-06-03 20:25:20,639 - distributed.worker.memory - WARNING - Worker is at 39% memory usage. Resuming worker. Process memory: 3.12 GiB -- Worker memory limit: 7.83 GiB\n"
     ]
    },
    {
     "name": "stdout",
     "output_type": "stream",
     "text": [
      "filtered value counts took: 34.550583362579346 seconds\n"
     ]
    },
    {
     "name": "stderr",
     "output_type": "stream",
     "text": [
      "2025-06-03 20:25:38,116 - distributed.worker.memory - WARNING - Unmanaged memory use is high. This may indicate a memory leak or the memory may not be released to the OS; see https://distributed.dask.org/en/latest/worker-memory.html#memory-not-released-back-to-the-os for more information. -- Unmanaged memory: 5.76 GiB -- Worker memory limit: 7.83 GiB\n",
      "2025-06-03 20:25:38,715 - distributed.worker.memory - WARNING - Worker is at 80% memory usage. Pausing worker.  Process memory: 6.29 GiB -- Worker memory limit: 7.83 GiB\n",
      "2025-06-03 20:25:38,921 - distributed.worker.memory - WARNING - Worker is at 39% memory usage. Resuming worker. Process memory: 3.12 GiB -- Worker memory limit: 7.83 GiB\n",
      "2025-06-03 20:25:54,258 - distributed.worker.memory - WARNING - Worker is at 81% memory usage. Pausing worker.  Process memory: 6.40 GiB -- Worker memory limit: 7.83 GiB\n",
      "2025-06-03 20:25:54,435 - distributed.worker.memory - WARNING - Worker is at 39% memory usage. Resuming worker. Process memory: 3.12 GiB -- Worker memory limit: 7.83 GiB\n",
      "2025-06-03 20:26:09,553 - distributed.worker.memory - WARNING - Unmanaged memory use is high. This may indicate a memory leak or the memory may not be released to the OS; see https://distributed.dask.org/en/latest/worker-memory.html#memory-not-released-back-to-the-os for more information. -- Unmanaged memory: 5.50 GiB -- Worker memory limit: 7.83 GiB\n",
      "2025-06-03 20:26:09,858 - distributed.worker.memory - WARNING - Worker is at 81% memory usage. Pausing worker.  Process memory: 6.37 GiB -- Worker memory limit: 7.83 GiB\n",
      "2025-06-03 20:26:10,055 - distributed.worker.memory - WARNING - Worker is at 40% memory usage. Resuming worker. Process memory: 3.18 GiB -- Worker memory limit: 7.83 GiB\n",
      "2025-06-03 20:26:25,845 - distributed.worker.memory - WARNING - Unmanaged memory use is high. This may indicate a memory leak or the memory may not be released to the OS; see https://distributed.dask.org/en/latest/worker-memory.html#memory-not-released-back-to-the-os for more information. -- Unmanaged memory: 5.73 GiB -- Worker memory limit: 7.83 GiB\n",
      "2025-06-03 20:26:26,089 - distributed.worker.memory - WARNING - Worker is at 81% memory usage. Pausing worker.  Process memory: 6.36 GiB -- Worker memory limit: 7.83 GiB\n",
      "2025-06-03 20:26:26,281 - distributed.worker.memory - WARNING - Worker is at 38% memory usage. Resuming worker. Process memory: 3.05 GiB -- Worker memory limit: 7.83 GiB\n"
     ]
    },
    {
     "name": "stdout",
     "output_type": "stream",
     "text": [
      "filtered groupby statistics took: 65.05078053474426 seconds\n"
     ]
    }
   ],
   "source": [
    "for i, df in enumerate(dask_filtered):\n",
    "    benchmark(count, df, benchmarks=globals()[f'dask_benchmarks_filtered{i+2}'], name=f'filtered count')\n",
    "    benchmark(count_index_length, df, benchmarks=globals()[f'dask_benchmarks_filtered{i+2}'], name=f'filtered count index length')\n",
    "    benchmark(mean, df, benchmarks=globals()[f'dask_benchmarks_filtered{i+2}'], name=f'filtered mean')\n",
    "    benchmark(standard_deviation, df, benchmarks=globals()[f'dask_benchmarks_filtered{i+2}'], name=f'filtered standard deviation')\n",
    "    benchmark(mean_of_sum, df, benchmarks=globals()[f'dask_benchmarks_filtered{i+2}'], name=f'filtered mean of columns addition')\n",
    "    benchmark(sum_columns, df, benchmarks=globals()[f'dask_benchmarks_filtered{i+2}'], name=f'filtered addition of columns')\n",
    "    benchmark(mean_of_product, df, benchmarks=globals()[f'dask_benchmarks_filtered{i+2}'], name=f'filtered mean of columns multiplication')\n",
    "    benchmark(product_columns, df, benchmarks=globals()[f'dask_benchmarks_filtered{i+2}'], name=f'filtered multiplication of columns')\n",
    "    benchmark(mean_of_complicated_arithmetic_operation, df, benchmarks=globals()[f'dask_benchmarks_filtered{i+2}'], name=f'filtered mean of complex arithmetic ops')\n",
    "    benchmark(complicated_arithmetic_operation, df, benchmarks=globals()[f'dask_benchmarks_filtered{i+2}'], name=f'filtered complex arithmetic ops')\n",
    "    benchmark(value_counts, df, benchmarks=globals()[f'dask_benchmarks_filtered{i+2}'], name=f'filtered value counts')\n",
    "    benchmark(groupby_statistics, df, benchmarks=globals()[f'dask_benchmarks_filtered{i+2}'], name=f'filtered groupby statistics')"
   ]
  },
  {
   "cell_type": "code",
   "execution_count": 60,
   "id": "7e7e8b89-bd81-4ca5-8f43-085754ca5bc7",
   "metadata": {
    "tags": []
   },
   "outputs": [
    {
     "name": "stdout",
     "output_type": "stream",
     "text": [
      "                                          duration\n",
      "task                                              \n",
      "filtered count                           17.575851\n",
      "filtered count index length              16.610377\n",
      "filtered mean                            16.875763\n",
      "filtered standard deviation              16.665055\n",
      "filtered mean of columns addition        16.604922\n",
      "filtered addition of columns             17.541855\n",
      "filtered mean of columns multiplication  16.704484\n",
      "filtered multiplication of columns       17.097146\n",
      "filtered mean of complex arithmetic ops  16.525081\n",
      "filtered complex arithmetic ops          17.598756\n",
      "filtered value counts                    16.931671\n",
      "filtered groupby statistics              16.581735\n",
      "                                          duration\n",
      "task                                              \n",
      "filtered count                           17.907570\n",
      "filtered count index length              17.261649\n",
      "filtered mean                            32.771293\n",
      "filtered standard deviation              17.892437\n",
      "filtered mean of columns addition        47.551243\n",
      "filtered addition of columns             19.490958\n",
      "filtered mean of columns multiplication  49.403522\n",
      "filtered multiplication of columns       16.974923\n",
      "filtered mean of complex arithmetic ops  64.886331\n",
      "filtered complex arithmetic ops          18.546962\n",
      "filtered value counts                    34.550583\n",
      "filtered groupby statistics              65.050781\n",
      "Guardado em Resultados/dask_filtered2.\n",
      "Guardado em Resultados/dask_filtered3.\n"
     ]
    }
   ],
   "source": [
    "dask_res_filter2 = get_results(dask_benchmarks_filtered2).drop_duplicates(subset='task').set_index('task')\n",
    "dask_res_filter3 = get_results(dask_benchmarks_filtered3).drop_duplicates(subset='task').set_index('task')\n",
    "print(dask_res_filter2)\n",
    "print(dask_res_filter3)\n",
    "filename_filter2 = 'Resultados/dask_filtered2'\n",
    "filename_filter3 = 'Resultados/dask_filtered3'\n",
    "dask_res_filter2.to_parquet(filename_filter2)\n",
    "dask_res_filter3.to_parquet(filename_filter3)\n",
    "print(f'Guardado em {filename_filter2}.')\n",
    "print(f'Guardado em {filename_filter3}.')"
   ]
  },
  {
   "cell_type": "markdown",
   "id": "4d739533-d910-4a9f-b3a8-6e1289e478d0",
   "metadata": {},
   "source": [
    "# Operações com filtro e caching"
   ]
  },
  {
   "cell_type": "markdown",
   "id": "b2959136-940c-45d5-9620-0c4c932e22a2",
   "metadata": {},
   "source": [
    "O código cache aos DataFrames filtrados para garantir que os resultados dos cálculos sejam armazenados e não precisem ser recalculados. Para isso, cada DataFrame é persistido na memória para acesso rápido. Depois de armazenar cada DataFrame, o código aguarda a conclusão de todos os cálculos relacionados antes de seguir adiante. Durante esse processo, são exibidas mensagens que informam quando a espera pelos cálculos começa e quando termina."
   ]
  },
  {
   "cell_type": "code",
   "execution_count": 61,
   "id": "dcfac977-be3d-4255-8cdc-abe92a885ff6",
   "metadata": {
    "tags": []
   },
   "outputs": [
    {
     "name": "stdout",
     "output_type": "stream",
     "text": [
      "Waiting until all futures for set 2 are finished\n"
     ]
    },
    {
     "name": "stderr",
     "output_type": "stream",
     "text": [
      "2025-06-03 20:26:42,802 - distributed.worker.memory - WARNING - Unmanaged memory use is high. This may indicate a memory leak or the memory may not be released to the OS; see https://distributed.dask.org/en/latest/worker-memory.html#memory-not-released-back-to-the-os for more information. -- Unmanaged memory: 5.78 GiB -- Worker memory limit: 7.83 GiB\n"
     ]
    },
    {
     "name": "stdout",
     "output_type": "stream",
     "text": [
      "All futures for set 2 are finished\n",
      "Waiting until all futures for set 3 are finished\n"
     ]
    },
    {
     "name": "stderr",
     "output_type": "stream",
     "text": [
      "2025-06-03 20:26:58,831 - distributed.worker.memory - WARNING - Worker is at 80% memory usage. Pausing worker.  Process memory: 6.29 GiB -- Worker memory limit: 7.83 GiB\n",
      "2025-06-03 20:26:59,221 - distributed.worker.memory - WARNING - Worker is at 39% memory usage. Resuming worker. Process memory: 3.12 GiB -- Worker memory limit: 7.83 GiB\n"
     ]
    },
    {
     "name": "stdout",
     "output_type": "stream",
     "text": [
      "All futures for set 3 are finished\n"
     ]
    }
   ],
   "source": [
    "from distributed import wait\n",
    "\n",
    "for i, df in enumerate(dask_filtered):\n",
    "    dask_filtered[i] = client.persist(df)\n",
    "    print(f'Waiting until all futures for set {i+2} are finished')\n",
    "    wait(dask_filtered[i])\n",
    "    print(f'All futures for set {i+2} are finished')"
   ]
  },
  {
   "cell_type": "markdown",
   "id": "a73ffd21-1379-4473-a2e7-54f57843e29c",
   "metadata": {},
   "source": [
    "## Execução de Benchmarks em DataFrames em Cache\n",
    "\n",
    "O código percorre uma lista de DataFrames que foram filtrados e armazenados em cache, realizando testes de desempenho para diversas operações como contagem, média, desvio padrão e operações aritméticas complexas.  \n",
    "\n",
    "Os resultados de cada teste são guardados em estruturas específicas, nomeadas de acordo com a operação realizada e a posição do DataFrame na lista. Essa organização permite comparar o desempenho para diferentes conjuntos de dados, identificados pelo número de arquivos utilizados.\n"
   ]
  },
  {
   "cell_type": "code",
   "execution_count": 62,
   "id": "f3020621-ca45-4614-aedf-6eacab5b4a79",
   "metadata": {
    "tags": []
   },
   "outputs": [
    {
     "name": "stdout",
     "output_type": "stream",
     "text": [
      "cache count took: 1.6074309349060059 seconds\n",
      "cache count index length took: 0.028011798858642578 seconds\n",
      "cache mean took: 0.05036497116088867 seconds\n",
      "cache standard deviation took: 0.10948705673217773 seconds\n",
      "cache mean of columns addition took: 0.06749200820922852 seconds\n",
      "cache addition of columns took: 0.5556361675262451 seconds\n",
      "cache mean of columns multiplication took: 0.07061123847961426 seconds\n",
      "cache multiplication of columns took: 0.5681517124176025 seconds\n",
      "cache mean of complex arithmetic ops took: 0.39284491539001465 seconds\n",
      "cache complex arithmetic ops took: 0.8669946193695068 seconds\n",
      "cache value counts took: 0.19185400009155273 seconds\n",
      "cache groupby statistics took: 0.2669844627380371 seconds\n",
      "cache count took: 0.032219648361206055 seconds\n",
      "cache count index length took: 0.03980135917663574 seconds\n",
      "cache mean took: 0.05337047576904297 seconds\n",
      "cache standard deviation took: 0.11249113082885742 seconds\n",
      "cache mean of columns addition took: 0.07546401023864746 seconds\n",
      "cache addition of columns took: 0.8548963069915771 seconds\n",
      "cache mean of columns multiplication took: 0.06676745414733887 seconds\n",
      "cache multiplication of columns took: 0.8612182140350342 seconds\n",
      "cache mean of complex arithmetic ops took: 0.4380645751953125 seconds\n",
      "cache complex arithmetic ops took: 1.2289111614227295 seconds\n",
      "cache value counts took: 0.30553293228149414 seconds\n",
      "cache groupby statistics took: 0.314007043838501 seconds\n"
     ]
    }
   ],
   "source": [
    "for i, df in enumerate(dask_filtered):\n",
    "    benchmark(count, df, benchmarks=globals()[f'dask_benchmarks_cache{i+2}'], name=f'cache count')\n",
    "    benchmark(count_index_length, df, benchmarks=globals()[f'dask_benchmarks_cache{i+2}'], name=f'cache count index length')\n",
    "    benchmark(mean, df, benchmarks=globals()[f'dask_benchmarks_cache{i+2}'], name=f'cache mean')\n",
    "    benchmark(standard_deviation, df, benchmarks=globals()[f'dask_benchmarks_cache{i+2}'], name=f'cache standard deviation')\n",
    "    benchmark(mean_of_sum, df, benchmarks=globals()[f'dask_benchmarks_cache{i+2}'], name=f'cache mean of columns addition')\n",
    "    benchmark(sum_columns, df, benchmarks=globals()[f'dask_benchmarks_cache{i+2}'], name=f'cache addition of columns')\n",
    "    benchmark(mean_of_product, df, benchmarks=globals()[f'dask_benchmarks_cache{i+2}'], name=f'cache mean of columns multiplication')\n",
    "    benchmark(product_columns, df, benchmarks=globals()[f'dask_benchmarks_cache{i+2}'], name=f'cache multiplication of columns')\n",
    "    benchmark(mean_of_complicated_arithmetic_operation, df, benchmarks=globals()[f'dask_benchmarks_cache{i+2}'], name=f'cache mean of complex arithmetic ops')\n",
    "    benchmark(complicated_arithmetic_operation, df, benchmarks=globals()[f'dask_benchmarks_cache{i+2}'], name=f'cache complex arithmetic ops')\n",
    "    benchmark(value_counts, df, benchmarks=globals()[f'dask_benchmarks_cache{i+2}'], name=f'cache value counts')\n",
    "    benchmark(groupby_statistics, df, benchmarks=globals()[f'dask_benchmarks_cache{i+2}'], name=f'cache groupby statistics')"
   ]
  },
  {
   "cell_type": "code",
   "execution_count": 74,
   "id": "9043326a-cb6d-48c4-bc35-35cad41b8c89",
   "metadata": {
    "tags": []
   },
   "outputs": [
    {
     "name": "stdout",
     "output_type": "stream",
     "text": [
      "                                      duration\n",
      "task                                          \n",
      "cache count                           1.607431\n",
      "cache count index length              0.028012\n",
      "cache mean                            0.050365\n",
      "cache standard deviation              0.109487\n",
      "cache mean of columns addition        0.067492\n",
      "cache addition of columns             0.555636\n",
      "cache mean of columns multiplication  0.070611\n",
      "cache multiplication of columns       0.568152\n",
      "cache mean of complex arithmetic ops  0.392845\n",
      "cache complex arithmetic ops          0.866995\n",
      "cache value counts                    0.191854\n",
      "cache groupby statistics              0.266984\n",
      "                                      duration\n",
      "task                                          \n",
      "cache count                           0.032220\n",
      "cache count index length              0.039801\n",
      "cache mean                            0.053370\n",
      "cache standard deviation              0.112491\n",
      "cache mean of columns addition        0.075464\n",
      "cache addition of columns             0.854896\n",
      "cache mean of columns multiplication  0.066767\n",
      "cache multiplication of columns       0.861218\n",
      "cache mean of complex arithmetic ops  0.438065\n",
      "cache complex arithmetic ops          1.228911\n",
      "cache value counts                    0.305533\n",
      "cache groupby statistics              0.314007\n",
      "Guardado em Resultados/dask_cache2.\n",
      "Guardado em Resultados/dask_cache3.\n"
     ]
    }
   ],
   "source": [
    "dask_res_cache2 = get_results(dask_benchmarks_cache2).drop_duplicates(subset='task').set_index('task')\n",
    "dask_res_cache3 = get_results(dask_benchmarks_cache3).drop_duplicates(subset='task').set_index('task')\n",
    "print(dask_res_cache2)\n",
    "print(dask_res_cache3)\n",
    "filename_cache2 = 'Resultados/dask_cache2'\n",
    "filename_cache3 = 'Resultados/dask_cache3'\n",
    "dask_res_cache2.to_parquet(filename_cache2)\n",
    "dask_res_cache3.to_parquet(filename_cache3)\n",
    "\n",
    "print(f'Guardado em {filename_cache2}.')\n",
    "print(f'Guardado em {filename_cache3}.')"
   ]
  },
  {
   "cell_type": "code",
   "execution_count": 78,
   "id": "cc35f85c-6530-47f2-826e-8887f21ea7c5",
   "metadata": {
    "tags": []
   },
   "outputs": [],
   "source": [
    "client.restart()"
   ]
  },
  {
   "cell_type": "markdown",
   "id": "608d3e1c-8275-488b-b191-ba0e6f1af101",
   "metadata": {
    "tags": []
   },
   "source": [
    "## Koalas\n",
    "\n",
    "Selecionaram-se as maiores amostras do dataset original para análise.\n",
    "\n",
    "- **Leitura de dois arquivos:** Dois arquivos Parquet\n",
    "- **Leitura de três arquivos:** Três arquivos Parquet\n",
    "\n"
   ]
  },
  {
   "cell_type": "code",
   "execution_count": 5,
   "id": "617fb1b3-9076-4e16-b2b9-ee55c2d895c3",
   "metadata": {
    "tags": []
   },
   "outputs": [
    {
     "name": "stderr",
     "output_type": "stream",
     "text": [
      "/opt/conda/lib/python3.10/site-packages/pyspark/pandas/utils.py:975: PandasAPIOnSparkAdviceWarning: If `index_col` is not specified for `read_parquet`, the default index is attached which can cause additional overhead.\n",
      "  warnings.warn(message, PandasAPIOnSparkAdviceWarning)\n",
      "Setting default log level to \"WARN\".\n",
      "To adjust logging level use sc.setLogLevel(newLevel). For SparkR, use setLogLevel(newLevel).\n",
      "25/06/03 20:37:47 WARN NativeCodeLoader: Unable to load native-hadoop library for your platform... using builtin-java classes where applicable\n",
      "                                                                                \r"
     ]
    }
   ],
   "source": [
    "koalas_data2 = ks.read_parquet([\n",
    "    'Ficheiros/taxi_csv/yellow_tripdata_2009-11.parquet', \n",
    "    'Ficheiros/taxi_csv/yellow_tripdata_2009-12.parquet'\n",
    "])\n",
    "\n",
    "koalas_data3 = ks.read_parquet([\n",
    "    'Ficheiros/taxi_csv/yellow_tripdata_2009-10.parquet', \n",
    "    'Ficheiros/taxi_csv/yellow_tripdata_2009-11.parquet',\n",
    "    'Ficheiros/taxi_csv/yellow_tripdata_2009-12.parquet'\n",
    "])\n",
    "\n",
    "koalas_benchmarks2 = {'duration': [], 'task': []}\n",
    "koalas_benchmarks_filtered2 = {'duration': [], 'task': []}\n",
    "koalas_benchmarks_cache2 = {'duration': [], 'task': []}\n",
    "koalas_benchmarks3 = {'duration': [], 'task': []}\n",
    "koalas_benchmarks_filtered3 = {'duration': [], 'task': []}\n",
    "koalas_benchmarks_cache3 = {'duration': [], 'task': []}"
   ]
  },
  {
   "cell_type": "code",
   "execution_count": 6,
   "id": "cba458d1-9a47-458d-b659-f99f92d81625",
   "metadata": {
    "tags": []
   },
   "outputs": [
    {
     "name": "stdout",
     "output_type": "stream",
     "text": [
      "Index(['vendor_name', 'trip_pickup_datetime', 'trip_dropoff_datetime',\n",
      "       'passenger_count', 'trip_distance', 'start_lon', 'start_lat',\n",
      "       'rate_code', 'store_and_forward', 'end_lon', 'end_lat', 'payment_type',\n",
      "       'fare_amt', 'surcharge', 'mta_tax', 'tip_amt', 'tolls_amt',\n",
      "       'total_amt'],\n",
      "      dtype='object')\n",
      "Index(['vendor_name', 'trip_pickup_datetime', 'trip_dropoff_datetime',\n",
      "       'passenger_count', 'trip_distance', 'start_lon', 'start_lat',\n",
      "       'rate_code', 'store_and_forward', 'end_lon', 'end_lat', 'payment_type',\n",
      "       'fare_amt', 'surcharge', 'mta_tax', 'tip_amt', 'tolls_amt',\n",
      "       'total_amt'],\n",
      "      dtype='object')\n"
     ]
    }
   ],
   "source": [
    "current_columns2 = koalas_data2.columns\n",
    "rename_dict2 = {col: col.lower() for col in current_columns2}\n",
    "koalas_data2 = koalas_data2.rename(columns=rename_dict2)\n",
    "columns_list2 = koalas_data2.columns\n",
    "print(columns_list2)\n",
    "current_columns3 = koalas_data3.columns\n",
    "rename_dict3 = {col: col.lower() for col in current_columns3}\n",
    "koalas_data3 = koalas_data3.rename(columns=rename_dict3)\n",
    "columns_list3 = koalas_data3.columns\n",
    "print(columns_list3)"
   ]
  },
  {
   "cell_type": "code",
   "execution_count": 7,
   "id": "4181a50d-52f1-4a8a-a077-89b23bec809f",
   "metadata": {
    "tags": []
   },
   "outputs": [],
   "source": [
    "dfs = [koalas_data2, koalas_data3]"
   ]
  },
  {
   "cell_type": "markdown",
   "id": "0e0511ae-c58f-414d-8409-2eb1da5dd0bc",
   "metadata": {},
   "source": [
    "## Definição das Funções de Benchmark\n",
    "\n",
    "Foram criadas várias funções para executar operações estatísticas, aritméticas e manipulações nos DataFrames.\n",
    "\n",
    "- **Agrupamento e conversão:** Aplica-se uma função de agrupamento (`groupby_statistics`) aos DataFrames e converte os resultados para DataFrames do pandas, com colunas renomeadas para indicar as estatísticas calculadas.\n",
    "\n",
    "- **Funções de contagem:** incluem contagem de linhas (`count`) e contagem do tamanho do índice (`count_index_length`).\n",
    "\n",
    "- **Funções estatísticas:** calculam média, desvio padrão, soma e produto de colunas específicas (como `fare_amt` e `tip_amt`), além da contagem de valores.\n",
    "\n",
    "- **Operações aritméticas complexas:** envolvem cálculos baseados em coordenadas geográficas e suas médias.\n",
    "\n",
    "- **Funções de junção:** definem operações para contar linhas resultantes e realizar junções entre DataFrames, mas foram comentadas devido a erros por falta de memória durante os benchmarks.\n"
   ]
  },
  {
   "cell_type": "code",
   "execution_count": 8,
   "id": "4833cf2b-a240-45ae-b337-d6f30a3f9a41",
   "metadata": {
    "tags": []
   },
   "outputs": [
    {
     "name": "stderr",
     "output_type": "stream",
     "text": [
      "/opt/conda/lib/python3.10/site-packages/pyspark/pandas/utils.py:975: PandasAPIOnSparkAdviceWarning: `to_pandas` loads all data into the driver's memory. It should only be used if the resulting pandas DataFrame is expected to be small.\n",
      "  warnings.warn(message, PandasAPIOnSparkAdviceWarning)\n",
      "/opt/conda/lib/python3.10/site-packages/pyspark/pandas/utils.py:975: PandasAPIOnSparkAdviceWarning: `to_pandas` loads all data into the driver's memory. It should only be used if the resulting pandas DataFrame is expected to be small.\n",
      "  warnings.warn(message, PandasAPIOnSparkAdviceWarning)\n",
      "/opt/conda/lib/python3.10/site-packages/pyspark/pandas/utils.py:975: PandasAPIOnSparkAdviceWarning: `to_pandas` loads all data into the driver's memory. It should only be used if the resulting pandas DataFrame is expected to be small.\n",
      "  warnings.warn(message, PandasAPIOnSparkAdviceWarning)\n",
      "/opt/conda/lib/python3.10/site-packages/pyspark/pandas/utils.py:975: PandasAPIOnSparkAdviceWarning: `to_pandas` loads all data into the driver's memory. It should only be used if the resulting pandas DataFrame is expected to be small.\n",
      "  warnings.warn(message, PandasAPIOnSparkAdviceWarning)\n"
     ]
    }
   ],
   "source": [
    "import pyspark.sql.functions as F\n",
    "def count(df=None):\n",
    "    return len(df)\n",
    " \n",
    "def count_index_length(df=None):\n",
    "    return len(df.index)\n",
    " \n",
    "def mean(df):\n",
    "    return df.fare_amt.mean()\n",
    " \n",
    "def standard_deviation(df):\n",
    "    return df.fare_amt.std()\n",
    " \n",
    "def mean_of_sum(df):\n",
    "    return (df.fare_amt + df.tip_amt).mean()\n",
    " \n",
    "def sum_columns(df):\n",
    "    x = df.fare_amt + df.tip_amt\n",
    "    x.to_pandas()\n",
    "    return x\n",
    " \n",
    "def mean_of_product(df):\n",
    "    return (df.fare_amt * df.tip_amt).mean()\n",
    " \n",
    "def product_columns(df):\n",
    "    x = df.fare_amt * df.tip_amt\n",
    "    x.to_pandas()\n",
    "    return x\n",
    " \n",
    "def value_counts(df):\n",
    "    val_counts = df.fare_amt.value_counts()\n",
    "    val_counts.to_pandas()\n",
    "    return val_counts\n",
    "  \n",
    "def complicated_arithmetic_operation(df):\n",
    "    theta_1 = df.start_lon\n",
    "    phi_1 = df.start_lat\n",
    "    theta_2 = df.end_lon\n",
    "    phi_2 = df.end_lat\n",
    "    temp = (np.sin((theta_2 - theta_1) / 2 * np.pi / 180) ** 2\n",
    "           + np.cos(theta_1 * np.pi / 180) * np.cos(theta_2 * np.pi / 180) * np.sin((phi_2 - phi_1) / 2 * np.pi / 180) ** 2)\n",
    "    ret = np.multiply(np.arctan2(np.sqrt(temp), np.sqrt(1-temp)),2)\n",
    "    ret.to_pandas()\n",
    "    return ret\n",
    "  \n",
    "def mean_of_complicated_arithmetic_operation(df):\n",
    "    theta_1 = df.start_lon\n",
    "    phi_1 = df.start_lat\n",
    "    theta_2 = df.end_lon\n",
    "    phi_2 = df.end_lat\n",
    "    temp = (np.sin((theta_2 - theta_1) / 2 * np.pi / 180) ** 2\n",
    "           + np.cos(theta_1 * np.pi / 180) * np.cos(theta_2 * np.pi / 180) * np.sin((phi_2 - phi_1) / 2 * np.pi / 180) ** 2)\n",
    "    ret = np.multiply(np.arctan2(np.sqrt(temp), np.sqrt(1-temp)),2) \n",
    "    return ret.mean()\n",
    "  \n",
    "def groupby_statistics(df):\n",
    "    gb = df.groupby(by='passenger_count').agg(\n",
    "      {\n",
    "        'fare_amt': ['mean', 'std'], \n",
    "        'tip_amt': ['mean', 'std']\n",
    "      }\n",
    "    )\n",
    "    gb.to_pandas()\n",
    "    return gb\n",
    "  \n",
    "\n",
    "for df in dfs:\n",
    "    other = ks.DataFrame(groupby_statistics(df).to_pandas())\n",
    "    other.columns = pd.Index([e[0]+'_' + e[1] for e in other.columns.tolist()])\n",
    "\n",
    "def join_count(df, other):\n",
    "    return len(df.merge(other.spark.hint(\"broadcast\"), left_index=True, right_index=True))\n",
    " \n",
    "def join_data(df, other):\n",
    "    ret = df.merge(other.spark.hint(\"broadcast\"), left_index=True, right_index=True)\n",
    "    ret.to_pandas()\n",
    "    return ret"
   ]
  },
  {
   "cell_type": "markdown",
   "id": "a4291949-420f-4385-aa63-76323bb7064e",
   "metadata": {},
   "source": [
    "## Medição de Desempenho em DataFrame Koalas\n",
    "\n",
    "Realiza benchmarks em um DataFrame Koalas, registrando o tempo gasto em várias operações para análise de desempenho. Os resultados são armazenados no dicionário `koalas_benchmarks2`.\n",
    "\n",
    "As operações avaliadas incluem:\n",
    "\n",
    "- Contagem total de linhas.\n",
    "- Contagem do comprimento do índice.\n",
    "- Cálculo da média da coluna `fare_amt`.\n",
    "- Cálculo do desvio padrão da coluna `fare_amt`.\n",
    "- Cálculo da média da soma das colunas `fare_amt` e `tip_amt`.\n",
    "- Cálculo da média do produto das colunas `fare_amt` e `tip_amt`.\n",
    "- Contagem da frequência dos valores na coluna `fare_amt`.\n",
    "- Agrupamento por `passenger_count` com cálculo da média e desvio padrão de `fare_amt` e `tip_amt`.\n"
   ]
  },
  {
   "cell_type": "code",
   "execution_count": 11,
   "id": "9e4526c4-308f-4c11-8b91-a6cb561a429f",
   "metadata": {
    "tags": []
   },
   "outputs": [
    {
     "name": "stdout",
     "output_type": "stream",
     "text": [
      "count took: 0.18846702575683594 seconds\n",
      "count index length took: 0.11054468154907227 seconds\n",
      "mean took: 0.459911584854126 seconds\n",
      "standard deviation took: 0.4907398223876953 seconds\n",
      "mean of columns addition took: 0.6142010688781738 seconds\n",
      "mean of columns multiplication took: 0.6000981330871582 seconds\n"
     ]
    },
    {
     "name": "stderr",
     "output_type": "stream",
     "text": [
      "/opt/conda/lib/python3.10/site-packages/pyspark/pandas/utils.py:975: PandasAPIOnSparkAdviceWarning: `to_pandas` loads all data into the driver's memory. It should only be used if the resulting pandas Series is expected to be small.\n",
      "  warnings.warn(message, PandasAPIOnSparkAdviceWarning)\n",
      "                                                                                \r"
     ]
    },
    {
     "name": "stdout",
     "output_type": "stream",
     "text": [
      "value counts took: 1.5996711254119873 seconds\n"
     ]
    },
    {
     "name": "stderr",
     "output_type": "stream",
     "text": [
      "/opt/conda/lib/python3.10/site-packages/pyspark/pandas/utils.py:975: PandasAPIOnSparkAdviceWarning: `to_pandas` loads all data into the driver's memory. It should only be used if the resulting pandas DataFrame is expected to be small.\n",
      "  warnings.warn(message, PandasAPIOnSparkAdviceWarning)\n",
      "[Stage 34:===========================================>              (6 + 2) / 8]\r"
     ]
    },
    {
     "name": "stdout",
     "output_type": "stream",
     "text": [
      "groupby statistics took: 1.4540739059448242 seconds\n"
     ]
    },
    {
     "name": "stderr",
     "output_type": "stream",
     "text": [
      "                                                                                \r"
     ]
    },
    {
     "data": {
      "text/plain": [
       "1.4540739059448242"
      ]
     },
     "execution_count": 11,
     "metadata": {},
     "output_type": "execute_result"
    }
   ],
   "source": [
    "benchmark(count, df=dfs[0], benchmarks=globals()[f'koalas_benchmarks2'], name=f'count')\n",
    "benchmark(count_index_length, df=dfs[0], benchmarks=globals()[f'koalas_benchmarks2'], name=f'count index length')\n",
    "benchmark(mean, df=dfs[0], benchmarks=globals()[f'koalas_benchmarks2'], name=f'mean')\n",
    "benchmark(standard_deviation, df=dfs[0], benchmarks=globals()[f'koalas_benchmarks2'], name=f'standard deviation')\n",
    "benchmark(mean_of_sum, df=dfs[0], benchmarks=globals()[f'koalas_benchmarks2'], name=f'mean of columns addition')\n",
    "benchmark(mean_of_product, df=dfs[0], benchmarks=globals()[f'koalas_benchmarks2'], name=f'mean of columns multiplication')\n",
    "benchmark(value_counts, df=dfs[0], benchmarks=globals()[f'koalas_benchmarks2'], name=f'value counts')\n",
    "benchmark(groupby_statistics, df=dfs[0], benchmarks=globals()[f'koalas_benchmarks2'], name=f'groupby statistics')"
   ]
  },
  {
   "cell_type": "code",
   "execution_count": 12,
   "id": "c4c3ef31-4061-4922-8688-93e861a0df2f",
   "metadata": {
    "tags": []
   },
   "outputs": [
    {
     "name": "stdout",
     "output_type": "stream",
     "text": [
      "count took: 0.10048770904541016 seconds\n",
      "count index length took: 0.09254717826843262 seconds\n",
      "mean took: 0.3728060722351074 seconds\n",
      "standard deviation took: 0.45063257217407227 seconds\n"
     ]
    },
    {
     "name": "stderr",
     "output_type": "stream",
     "text": [
      "                                                                                \r"
     ]
    },
    {
     "name": "stdout",
     "output_type": "stream",
     "text": [
      "mean of columns addition took: 0.6976504325866699 seconds\n"
     ]
    },
    {
     "name": "stderr",
     "output_type": "stream",
     "text": [
      "/opt/conda/lib/python3.10/site-packages/pyspark/pandas/utils.py:975: PandasAPIOnSparkAdviceWarning: `to_pandas` loads all data into the driver's memory. It should only be used if the resulting pandas Series is expected to be small.\n",
      "  warnings.warn(message, PandasAPIOnSparkAdviceWarning)\n"
     ]
    },
    {
     "name": "stdout",
     "output_type": "stream",
     "text": [
      "mean of columns multiplication took: 0.7284245491027832 seconds\n"
     ]
    },
    {
     "name": "stderr",
     "output_type": "stream",
     "text": [
      "/opt/conda/lib/python3.10/site-packages/pyspark/pandas/utils.py:975: PandasAPIOnSparkAdviceWarning: `to_pandas` loads all data into the driver's memory. It should only be used if the resulting pandas DataFrame is expected to be small.\n",
      "  warnings.warn(message, PandasAPIOnSparkAdviceWarning)\n"
     ]
    },
    {
     "name": "stdout",
     "output_type": "stream",
     "text": [
      "value counts took: 1.3030238151550293 seconds\n"
     ]
    },
    {
     "name": "stderr",
     "output_type": "stream",
     "text": [
      "[Stage 63:==========================================>              (9 + 3) / 12]\r"
     ]
    },
    {
     "name": "stdout",
     "output_type": "stream",
     "text": [
      "groupby statistics took: 1.6057734489440918 seconds\n"
     ]
    },
    {
     "name": "stderr",
     "output_type": "stream",
     "text": [
      "                                                                                \r"
     ]
    },
    {
     "data": {
      "text/plain": [
       "1.6057734489440918"
      ]
     },
     "execution_count": 12,
     "metadata": {},
     "output_type": "execute_result"
    }
   ],
   "source": [
    "benchmark(count, df=dfs[1], benchmarks=globals()[f'koalas_benchmarks3'], name=f'count')\n",
    "benchmark(count_index_length, df=dfs[1], benchmarks=globals()[f'koalas_benchmarks3'], name=f'count index length')\n",
    "benchmark(mean, df=dfs[1], benchmarks=globals()[f'koalas_benchmarks3'], name=f'mean')\n",
    "benchmark(standard_deviation, df=dfs[1], benchmarks=globals()[f'koalas_benchmarks3'], name=f'standard deviation')\n",
    "benchmark(mean_of_sum, df=dfs[1], benchmarks=globals()[f'koalas_benchmarks3'], name=f'mean of columns addition')\n",
    "benchmark(mean_of_product, df=dfs[1], benchmarks=globals()[f'koalas_benchmarks3'], name=f'mean of columns multiplication')\n",
    "benchmark(value_counts, df=dfs[1], benchmarks=globals()[f'koalas_benchmarks3'], name=f'value counts')\n",
    "benchmark(groupby_statistics, df=dfs[1], benchmarks=globals()[f'koalas_benchmarks3'], name=f'groupby statistics')\n"
   ]
  },
  {
   "cell_type": "code",
   "execution_count": 13,
   "id": "235a5833-586a-48b2-8a37-7424e3b27a06",
   "metadata": {
    "tags": []
   },
   "outputs": [
    {
     "name": "stdout",
     "output_type": "stream",
     "text": [
      "                                duration\n",
      "task                                    \n",
      "count                           0.188467\n",
      "count index length              0.110545\n",
      "mean                            0.459912\n",
      "standard deviation              0.490740\n",
      "mean of columns addition        0.614201\n",
      "mean of columns multiplication  0.600098\n",
      "value counts                    1.599671\n",
      "groupby statistics              1.454074\n",
      "                                duration\n",
      "task                                    \n",
      "count                           0.100488\n",
      "count index length              0.092547\n",
      "mean                            0.372806\n",
      "standard deviation              0.450633\n",
      "mean of columns addition        0.697650\n",
      "mean of columns multiplication  0.728425\n",
      "value counts                    1.303024\n",
      "groupby statistics              1.605773\n",
      "Guardado em Resultados/koalas_standard2.\n",
      "Guardado em Resultados/koalas_standard3.\n"
     ]
    }
   ],
   "source": [
    "koalas_res_temp2 = get_results(koalas_benchmarks2).drop_duplicates(subset='task').set_index('task')\n",
    "koalas_res_temp3 = get_results(koalas_benchmarks3).drop_duplicates(subset='task').set_index('task')\n",
    "print(koalas_res_temp2)\n",
    "print(koalas_res_temp3)\n",
    "filename2 = 'Resultados/koalas_standard2'\n",
    "filename3 = 'Resultados/koalas_standard3'\n",
    "koalas_res_temp2.to_parquet(filename2)\n",
    "koalas_res_temp3.to_parquet(filename3)\n",
    "\n",
    "print(f'Guardado em {filename2}.')\n",
    "print(f'Guardado em {filename3}.')"
   ]
  },
  {
   "cell_type": "markdown",
   "id": "52fc67b1-ea3a-4193-9258-e21ce9d2344e",
   "metadata": {},
   "source": [
    "# Operações com filtro"
   ]
  },
  {
   "cell_type": "code",
   "execution_count": 14,
   "id": "da2fb823-2e2e-42f0-86be-f1ec8aca63ce",
   "metadata": {
    "tags": []
   },
   "outputs": [],
   "source": [
    "def filter_data(df, expr_filter):\n",
    "    return df[expr_filter]\n",
    "\n",
    "\n",
    "expr_filter2 = (koalas_data2.tip_amt >= 1) & (koalas_data2.tip_amt <= 5)\n",
    "\n",
    "dask_filter2 = filter_data(koalas_data2, expr_filter2)\n",
    "    \n",
    "expr_filter3 = (koalas_data3.tip_amt >= 1) & (koalas_data3.tip_amt <= 5)\n",
    "dask_filter3 = filter_data(koalas_data3, expr_filter3)"
   ]
  },
  {
   "cell_type": "code",
   "execution_count": 15,
   "id": "54b4e517-1e19-4e84-838e-77625cb4fe2b",
   "metadata": {
    "tags": []
   },
   "outputs": [],
   "source": [
    "koalas_filtered=[koalas_data2,koalas_data3]"
   ]
  },
  {
   "cell_type": "code",
   "execution_count": 16,
   "id": "0d88027a-ae77-4950-886b-4630b5dcdb4f",
   "metadata": {
    "tags": []
   },
   "outputs": [
    {
     "name": "stdout",
     "output_type": "stream",
     "text": [
      "count took: 0.07885527610778809 seconds\n",
      "count index length took: 0.07007956504821777 seconds\n",
      "mean took: 0.2742767333984375 seconds\n",
      "standard deviation took: 0.3832120895385742 seconds\n",
      "mean of columns addition took: 0.4462597370147705 seconds\n",
      "mean of columns multiplication took: 0.517669677734375 seconds\n"
     ]
    },
    {
     "name": "stderr",
     "output_type": "stream",
     "text": [
      "/opt/conda/lib/python3.10/site-packages/pyspark/pandas/utils.py:975: PandasAPIOnSparkAdviceWarning: `to_pandas` loads all data into the driver's memory. It should only be used if the resulting pandas Series is expected to be small.\n",
      "  warnings.warn(message, PandasAPIOnSparkAdviceWarning)\n",
      "/opt/conda/lib/python3.10/site-packages/pyspark/pandas/utils.py:975: PandasAPIOnSparkAdviceWarning: `to_pandas` loads all data into the driver's memory. It should only be used if the resulting pandas DataFrame is expected to be small.\n",
      "  warnings.warn(message, PandasAPIOnSparkAdviceWarning)\n"
     ]
    },
    {
     "name": "stdout",
     "output_type": "stream",
     "text": [
      "value counts took: 1.1723697185516357 seconds\n"
     ]
    },
    {
     "name": "stderr",
     "output_type": "stream",
     "text": [
      "[Stage 92:===========================================>              (6 + 2) / 8]\r"
     ]
    },
    {
     "name": "stdout",
     "output_type": "stream",
     "text": [
      "groupby statistics took: 1.5013060569763184 seconds\n"
     ]
    },
    {
     "name": "stderr",
     "output_type": "stream",
     "text": [
      "                                                                                \r"
     ]
    },
    {
     "data": {
      "text/plain": [
       "1.5013060569763184"
      ]
     },
     "execution_count": 16,
     "metadata": {},
     "output_type": "execute_result"
    }
   ],
   "source": [
    "benchmark(count, df=koalas_filtered[0], benchmarks=globals()[f'koalas_benchmarks_filtered2'], name=f'count')\n",
    "benchmark(count_index_length, df=koalas_filtered[0], benchmarks=globals()[f'koalas_benchmarks_filtered2'], name=f'count index length')\n",
    "benchmark(mean, df=koalas_filtered[0], benchmarks=globals()[f'koalas_benchmarks_filtered2'], name=f'mean')\n",
    "benchmark(standard_deviation, df=koalas_filtered[0], benchmarks=globals()[f'koalas_benchmarks_filtered2'], name=f'standard deviation')\n",
    "benchmark(mean_of_sum, df=koalas_filtered[0], benchmarks=globals()[f'koalas_benchmarks_filtered2'], name=f'mean of columns addition')\n",
    "benchmark(mean_of_product, df=koalas_filtered[0], benchmarks=globals()[f'koalas_benchmarks_filtered2'], name=f'mean of columns multiplication')\n",
    "benchmark(value_counts, df=koalas_filtered[0], benchmarks=globals()[f'koalas_benchmarks_filtered2'], name=f'value counts')\n",
    "benchmark(groupby_statistics, df=koalas_filtered[0], benchmarks=globals()[f'koalas_benchmarks_filtered2'], name=f'groupby statistics')"
   ]
  },
  {
   "cell_type": "code",
   "execution_count": 17,
   "id": "3d9d8fc9-493e-4ba0-9733-c58450350446",
   "metadata": {
    "tags": []
   },
   "outputs": [
    {
     "name": "stdout",
     "output_type": "stream",
     "text": [
      "count took: 0.05930352210998535 seconds\n",
      "count index length took: 0.05974912643432617 seconds\n",
      "mean took: 0.3346681594848633 seconds\n",
      "standard deviation took: 0.41202878952026367 seconds\n",
      "mean of columns addition took: 0.5367434024810791 seconds\n",
      "mean of columns multiplication took: 0.5143721103668213 seconds\n"
     ]
    },
    {
     "name": "stderr",
     "output_type": "stream",
     "text": [
      "/opt/conda/lib/python3.10/site-packages/pyspark/pandas/utils.py:975: PandasAPIOnSparkAdviceWarning: `to_pandas` loads all data into the driver's memory. It should only be used if the resulting pandas Series is expected to be small.\n",
      "  warnings.warn(message, PandasAPIOnSparkAdviceWarning)\n",
      "/opt/conda/lib/python3.10/site-packages/pyspark/pandas/utils.py:975: PandasAPIOnSparkAdviceWarning: `to_pandas` loads all data into the driver's memory. It should only be used if the resulting pandas DataFrame is expected to be small.\n",
      "  warnings.warn(message, PandasAPIOnSparkAdviceWarning)\n"
     ]
    },
    {
     "name": "stdout",
     "output_type": "stream",
     "text": [
      "value counts took: 1.2664470672607422 seconds\n"
     ]
    },
    {
     "name": "stderr",
     "output_type": "stream",
     "text": [
      "[Stage 121:==========================================>             (9 + 3) / 12]\r"
     ]
    },
    {
     "name": "stdout",
     "output_type": "stream",
     "text": [
      "groupby statistics took: 1.546515941619873 seconds\n"
     ]
    },
    {
     "name": "stderr",
     "output_type": "stream",
     "text": [
      "                                                                                \r"
     ]
    },
    {
     "data": {
      "text/plain": [
       "1.546515941619873"
      ]
     },
     "execution_count": 17,
     "metadata": {},
     "output_type": "execute_result"
    }
   ],
   "source": [
    "benchmark(count, df=koalas_filtered[1], benchmarks=globals()[f'koalas_benchmarks_filtered3'], name=f'count')\n",
    "benchmark(count_index_length, df=koalas_filtered[1], benchmarks=globals()[f'koalas_benchmarks_filtered3'], name=f'count index length')\n",
    "benchmark(mean, df=koalas_filtered[1], benchmarks=globals()[f'koalas_benchmarks_filtered3'], name=f'mean')\n",
    "benchmark(standard_deviation, df=koalas_filtered[1], benchmarks=globals()[f'koalas_benchmarks_filtered3'], name=f'standard deviation')\n",
    "benchmark(mean_of_sum, df=koalas_filtered[1], benchmarks=globals()[f'koalas_benchmarks_filtered3'], name=f'mean of columns addition')\n",
    "benchmark(mean_of_product, df=koalas_filtered[1], benchmarks=globals()[f'koalas_benchmarks_filtered3'], name=f'mean of columns multiplication')\n",
    "benchmark(value_counts, df=koalas_filtered[1], benchmarks=globals()[f'koalas_benchmarks_filtered3'], name=f'value counts')\n",
    "benchmark(groupby_statistics, df=koalas_filtered[1], benchmarks=globals()[f'koalas_benchmarks_filtered3'], name=f'groupby statistics')\n"
   ]
  },
  {
   "cell_type": "code",
   "execution_count": 18,
   "id": "5e2c83a3-1811-4e7a-a749-cc4ca7b5d794",
   "metadata": {
    "tags": []
   },
   "outputs": [
    {
     "name": "stdout",
     "output_type": "stream",
     "text": [
      "                                duration\n",
      "task                                    \n",
      "count                           0.078855\n",
      "count index length              0.070080\n",
      "mean                            0.274277\n",
      "standard deviation              0.383212\n",
      "mean of columns addition        0.446260\n",
      "mean of columns multiplication  0.517670\n",
      "value counts                    1.172370\n",
      "groupby statistics              1.501306\n",
      "                                duration\n",
      "task                                    \n",
      "count                           0.059304\n",
      "count index length              0.059749\n",
      "mean                            0.334668\n",
      "standard deviation              0.412029\n",
      "mean of columns addition        0.536743\n",
      "mean of columns multiplication  0.514372\n",
      "value counts                    1.266447\n",
      "groupby statistics              1.546516\n",
      "Guardado em Resultados/koalas_filtered2.\n",
      "Guardado em Resultados/koalas_filtered3.\n"
     ]
    }
   ],
   "source": [
    "koalas_res_filtered2 = get_results(koalas_benchmarks_filtered2).drop_duplicates(subset='task').set_index('task')\n",
    "koalas_res_filtered3 = get_results(koalas_benchmarks_filtered3).drop_duplicates(subset='task').set_index('task')\n",
    "print(koalas_res_filtered2)\n",
    "print(koalas_res_filtered3)\n",
    "filename_filtered2 = 'Resultados/koalas_filtered2'\n",
    "filename_filtered3 = 'Resultados/koalas_filtered3'\n",
    "koalas_res_filtered2.to_parquet(filename_filtered2)\n",
    "koalas_res_filtered3.to_parquet(filename_filtered3)\n",
    "\n",
    "print(f'Guardado em {filename_filtered2}.')\n",
    "print(f'Guardado em {filename_filtered3}.')"
   ]
  }
 ],
 "metadata": {
  "environment": {
   "kernel": "python3",
   "name": "common-cpu.m129",
   "type": "gcloud",
   "uri": "us-docker.pkg.dev/deeplearning-platform-release/gcr.io/base-cpu:m129"
  },
  "kernelspec": {
   "display_name": "Python 3",
   "language": "python",
   "name": "python3"
  },
  "language_info": {
   "codemirror_mode": {
    "name": "ipython",
    "version": 3
   },
   "file_extension": ".py",
   "mimetype": "text/x-python",
   "name": "python",
   "nbconvert_exporter": "python",
   "pygments_lexer": "ipython3",
   "version": "3.10.17"
  }
 },
 "nbformat": 4,
 "nbformat_minor": 5
}
